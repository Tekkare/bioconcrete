{
 "cells": [
  {
   "cell_type": "code",
   "execution_count": 1,
   "metadata": {},
   "outputs": [],
   "source": [
    "import numpy as np\n",
    "import numpy as np\n",
    "from concrete import fhe\n",
    "from Bio.Seq import Seq, MutableSeq\n",
    "\n",
    "import sys, os\n",
    "sys.path.append(os.path.dirname(os.getcwd()))\n",
    "\n",
    "from concrete_biopython.FheSeq import FheSeq, FheMutableSeq\n",
    "from concrete_biopython.SeqWrapper import SeqWrapper\n"
   ]
  },
  {
   "cell_type": "code",
   "execution_count": 2,
   "metadata": {},
   "outputs": [
    {
     "data": {
      "text/plain": [
       "array([], dtype=int64)"
      ]
     },
     "execution_count": 2,
     "metadata": {},
     "output_type": "execute_result"
    }
   ],
   "source": [
    "fhe.zeros(0)"
   ]
  },
  {
   "cell_type": "code",
   "execution_count": 3,
   "metadata": {},
   "outputs": [],
   "source": [
    "seq1 = Seq('ACCAGGTAC')\n",
    "seq2 = MutableSeq('CGTTAGC')\n",
    "seq = seq1+seq2"
   ]
  },
  {
   "cell_type": "code",
   "execution_count": 12,
   "metadata": {},
   "outputs": [],
   "source": [
    "def process_seq(s):\n",
    "    s1=s[0:9]\n",
    "    s2=s[9:]\n",
    "    return s"
   ]
  },
  {
   "cell_type": "code",
   "execution_count": 5,
   "metadata": {},
   "outputs": [
    {
     "name": "stdout",
     "output_type": "stream",
     "text": [
      "ACCAGGTACCGTTAGC\n",
      "ACCAGGTACCGTTAGC\n"
     ]
    }
   ],
   "source": [
    "output_seq = process_seq(seq)\n",
    "print(output_seq)\n",
    "print(seq)"
   ]
  },
  {
   "cell_type": "code",
   "execution_count": 6,
   "metadata": {},
   "outputs": [],
   "source": [
    "# wrap a fhe circuit in order to input and output Bio.Seq objects.\n",
    "def circuit_wrapper(circuit, seq, simulate=False):\n",
    "    # convert Seq objects to integers with SeqWrapper.toIntegers\n",
    "    integers = SeqWrapper(seq).toIntegers()\n",
    "    # run the circuit with integer inputs\n",
    "    integer_output = circuit.simulate(integers) if simulate else circuit.encrypt_run_decrypt(integers)\n",
    "    # convert back the integer outputs into a Seq objects with SeqWrapper.toSeq\n",
    "    return SeqWrapper(integer_output).toSeq()"
   ]
  },
  {
   "cell_type": "code",
   "execution_count": 7,
   "metadata": {},
   "outputs": [],
   "source": [
    "def process_seq_adapter(integer_seq):\n",
    "    # convert integer to FheSeq object, process it and return result\n",
    "    return process_seq(FheSeq(integer_seq)).toArray()"
   ]
  },
  {
   "cell_type": "code",
   "execution_count": 10,
   "metadata": {},
   "outputs": [],
   "source": [
    "# compile the process_seq_adapter function and create a circuit\n",
    "compiler = fhe.Compiler(lambda data: process_seq_adapter(data), {\"data\": \"encrypted\"})\n",
    "circuit = compiler.compile(\n",
    "    inputset=[\n",
    "    np.random.randint(0, SeqWrapper.maxInteger()+1, size=(len(seq),))\n",
    "    for _ in range(100)\n",
    "    ],\n",
    "    configuration=fhe.Configuration(\n",
    "        enable_unsafe_features=True,\n",
    "        use_insecure_key_cache=True,\n",
    "        insecure_key_cache_location=\".keys\",\n",
    "        dataflow_parallelize=False, # setting it to True makes the jupyter kernel crash\n",
    "    ),\n",
    "    verbose=False,\n",
    ")"
   ]
  },
  {
   "cell_type": "code",
   "execution_count": 11,
   "metadata": {},
   "outputs": [
    {
     "name": "stdout",
     "output_type": "stream",
     "text": [
      "Simulated : ACCAGGTACCGTTAGC\n"
     ]
    }
   ],
   "source": [
    "# now we can run our circuit on Seq objects and compare the result with output_seq\n",
    "\n",
    "# with simulation\n",
    "fheSim_output_seq = circuit_wrapper(circuit, seq, True)\n",
    "print('Simulated :', fheSim_output_seq)\n",
    "assert(output_seq == fheSim_output_seq)\n",
    "\n",
    "# and without (slower)\n"
   ]
  },
  {
   "cell_type": "code",
   "execution_count": null,
   "metadata": {},
   "outputs": [],
   "source": []
  }
 ],
 "metadata": {
  "kernelspec": {
   "display_name": "concrete-biopython",
   "language": "python",
   "name": "concrete-biopython"
  },
  "language_info": {
   "codemirror_mode": {
    "name": "ipython",
    "version": 3
   },
   "file_extension": ".py",
   "mimetype": "text/x-python",
   "name": "python",
   "nbconvert_exporter": "python",
   "pygments_lexer": "ipython3",
   "version": "3.10.11"
  }
 },
 "nbformat": 4,
 "nbformat_minor": 4
}
