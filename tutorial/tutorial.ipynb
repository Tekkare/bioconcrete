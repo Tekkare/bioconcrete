{
 "cells": [
  {
   "attachments": {},
   "cell_type": "markdown",
   "metadata": {},
   "source": [
    "<style>\n",
    ".red-text {\n",
    "    color: red;\n",
    "}\n",
    "</style>\n",
    "\n",
    "# concrete.biopython quickstart\n",
    "\n",
    "***concrete.biopython*** is a FHE library based on python ***biopython*** library. It implements the same objects and functions when they are compatible with fhe.\n",
    "\n",
    "\n",
    "### FheSeq and FheMutableSeq classes\n",
    "\n",
    "<span style=\"color:orange\">***FheSeq***</span>  and <span style=\"color:orange\">***FheMutableSeq***</span>  objects are the FHE implementations of biopython <span style=\"color:green\">***Seq***</span>  and <span style=\"color:green\">***MutableSeq***</span>  objects.\n",
    "\n",
    "***Biopython*** <span style=\"color:green\">***Seq***</span> and <span style=\"color:green\">***MutableSeq***</span>  objects are constructed from a string, generally representing a **DNA**, **RNA** or a **protein** sequence. They provide functions to process this string sequence. <span style=\"color:green\">***MutableSeq***</span>  allows to modify this string while <span style=\"color:green\">***Seq***</span> does not.\n",
    "\n",
    "<span style=\"color:orange\">***FheSeq***</span>  and <span style=\"color:orange\">***FheMutableSeq***</span>  implement the same functions (when they are compatible with FHE) with an encrypted array of integers encoding for the string sequence.\n",
    "\n",
    "### Working with FheSeq and FheMutableSeq objects"
   ]
  },
  {
   "attachments": {},
   "cell_type": "markdown",
   "metadata": {},
   "source": [
    "First of all, we need to import ***numpy*** and ***concrete.fhe***, as well as <span style=\"color:green\">***Seq***</span>  and <span style=\"color:green\">***MutableSeq***</span>  from ***Bio.Seq***.\n",
    "Then we import <span style=\"color:orange\">***FheSeq***</span>  and <span style=\"color:orange\">***FheMutableSeq***</span>  from ***concrete.biopython.FheSeq***, and also ***SeqWrapper.***<span style=\"color:#5CC8FF\">***SeqWrapper***</span> which will allow to interface <span style=\"color:green\">***Seq***</span>  and <span style=\"color:green\">***MutableSeq***</span>  objects with <span style=\"color:orange\">***FheSeq***</span>  and <span style=\"color:orange\">***FheMutableSeq***</span>  objects."
   ]
  },
  {
   "cell_type": "code",
   "execution_count": null,
   "metadata": {},
   "outputs": [],
   "source": [
    "import numpy as np\n",
    "import numpy as np\n",
    "from concrete import fhe\n",
    "from Bio.Seq import Seq, MutableSeq\n",
    "\n",
    "import sys, os\n",
    "sys.path.append(os.path.dirname(os.getcwd()))\n",
    "\n",
    "from concrete_biopython.FheSeq import FheSeq, FheMutableSeq\n",
    "from concrete_biopython.SeqWrapper import SeqWrapper"
   ]
  },
  {
   "attachments": {},
   "cell_type": "markdown",
   "metadata": {},
   "source": [
    "Let's define an arbitrary function ***process_seq*** that takes in input a <span style=\"color:green\">***Seq***</span>  and a <span style=\"color:green\">***MutableSeq***</span>  objects ***seq1*** and ***seq2***, and processes them using some of the possibilities offered by the biopython library:"
   ]
  },
  {
   "cell_type": "code",
   "execution_count": null,
   "metadata": {},
   "outputs": [],
   "source": [
    "def process_seq(seq1, seq2):\n",
    "    seq2.pop()\n",
    "    new_seq = seq1.reverse_complement() + seq2[0:3]\n",
    "    protein = new_seq.translate()\n",
    "    print(new_seq)\n",
    "    return protein"
   ]
  },
  {
   "attachments": {},
   "cell_type": "markdown",
   "metadata": {},
   "source": [
    "Let's create two sequences and test this function:"
   ]
  },
  {
   "cell_type": "code",
   "execution_count": null,
   "metadata": {},
   "outputs": [],
   "source": [
    "seq1 = Seq('ACCAGGTAC')\n",
    "seq2 = MutableSeq('CGTTAGC')\n",
    "output_seq = process_seq(seq1, seq2)\n",
    "print(output_seq)"
   ]
  },
  {
   "attachments": {},
   "cell_type": "markdown",
   "metadata": {},
   "source": [
    "### Processing steps with FHE\n",
    "\n",
    "Now, we will see how we can run the function ***process_seq*** homomorphically, using <span style=\"color:orange\">***FheSeq***</span>  and a <span style=\"color:orange\">***FheMutableSeq***</span>  objects. \n",
    "\n",
    "We will need to follow the steps below:\n",
    "1. convert <span style=\"color:green\">***Seq***</span>  and a <span style=\"color:green\">***MutableSeq***</span>  objects to integer arrays with <span style=\"color:#5CC8FF\">***SeqWrapper***</span>***.toIntegers***\n",
    "2. encrypt the integer arrays\n",
    "3. create <span style=\"color:orange\">***FheSeq***</span>  and a <span style=\"color:orange\">***FheMutableSeq***</span>  objects from the encrypted integer arrays inside the circuit\n",
    "4. call our function ***process_seq*** homomorphically on the FHE sequence objects\n",
    "5. Convert back the output from a <span style=\"color:orange\">***FheSeq***</span>  to an encrypted array with <span style=\"color:orange\">***FheSeq***</span>***.toArray***\n",
    "6. Decrypt the encrypted output array\n",
    "7. convert the array back to a <span style=\"color:green\">***Seq***</span> object using <span style=\"color:#5CC8FF\">***SeqWrapper***</span>***.toSeq***\n",
    "\n",
    "<div>\n",
    "<img src=\"https://rcd-media.com/docs/fhe/diagram-im-seq.png\" width=\"650\"/>\n",
    "</div>\n",
    "\n",
    "\n",
    "### Factorization\n",
    "For steps **1**, **2**, **6** and **7**, we can create a circuit wrapper to do the Seq to integer and integer to Seq conversions in a FHE-compatible way :"
   ]
  },
  {
   "cell_type": "code",
   "execution_count": null,
   "metadata": {},
   "outputs": [],
   "source": [
    "# wrap a circuit ( see the 'circuit' as an arbitrary function ) in order to input and output Bio.Seq objects\n",
    "def circuit_wrapper(circuit, seq1, seq2, simulate=False):\n",
    "    # convert Seq objects to integers with SeqWrapper.toIntegers\n",
    "    integers1 = SeqWrapper(seq1).toIntegers()\n",
    "    integers2 = SeqWrapper(seq2).toIntegers()\n",
    "    \n",
    "    # run the circuit with integer inputs\n",
    "    integer_output = circuit.simulate(integers1, integers2) if simulate else circuit.encrypt_run_decrypt(integers1, integers2)\n",
    "\n",
    "    # convert back the integer outputs into a Seq objects with SeqWrapper.toSeq\n",
    "    return SeqWrapper(integer_output).toSeq()"
   ]
  },
  {
   "attachments": {},
   "cell_type": "markdown",
   "metadata": {},
   "source": [
    "For steps **3** and **5**, we can create an adapter function that will be the circuit's main function. This function will create <span style=\"color:orange\">***FheSeq***</span>  and <span style=\"color:orange\">***FheMutableSeq***</span>  objects for the function ***process_seq*** to process homomorphically. Then it will convert back the <span style=\"color:orange\">***FheSeq***</span>  output into an encrypted integer array that the circuit can decrypt."
   ]
  },
  {
   "cell_type": "code",
   "execution_count": null,
   "metadata": {},
   "outputs": [],
   "source": [
    "def process_seq_adapter(integer_seq1, integer_seq2):\n",
    "    \n",
    "    # convert integer sequences into FheSeq and FheMutableSeq objects\n",
    "    seq1=FheSeq(integer_seq1)\n",
    "    seq2=FheMutableSeq(integer_seq2)\n",
    "    \n",
    "    # process the sequence objects with our function\n",
    "    new_seq = process_seq(seq1, seq2)\n",
    "    \n",
    "    # return the new sequence as integer array\n",
    "    return new_seq.toArray()"
   ]
  },
  {
   "attachments": {},
   "cell_type": "markdown",
   "metadata": {},
   "source": [
    "For step **4**, let's make the circuit from ***process_seq_adapter*** function, and create a correct inputset taking into account the number of possible letters with ***SeqWrapper.maxInteger()*** and the size of input sequences with ***len(seq1)*** and ***len(seq2)***:"
   ]
  },
  {
   "cell_type": "code",
   "execution_count": null,
   "metadata": {},
   "outputs": [],
   "source": [
    "# compile the process_seq_adapter function and create a circuit\n",
    "compiler = fhe.Compiler(lambda data1,data2: process_seq_adapter(data1, data2), {\"data1\": \"encrypted\", \"data2\": \"encrypted\"})\n",
    "circuit = compiler.compile(\n",
    "    inputset=[\n",
    "    (np.random.randint(0, SeqWrapper.maxInteger()+1, size=(len(seq1),)),\n",
    "    np.random.randint(0, SeqWrapper.maxInteger()+1, size=(len(seq2),)))\n",
    "    for _ in range(100)\n",
    "    ],\n",
    "    configuration=fhe.Configuration(\n",
    "        enable_unsafe_features=True,\n",
    "        use_insecure_key_cache=True,\n",
    "        insecure_key_cache_location=\".keys\",\n",
    "        dataflow_parallelize=False, # setting it to True makes the jupyter kernel crash\n",
    "    ),\n",
    "    verbose=False,\n",
    ")"
   ]
  },
  {
   "attachments": {},
   "cell_type": "markdown",
   "metadata": {},
   "source": [
    "### Execution \n",
    "\n",
    "We can now run our wrapped circuit on the variables ***seq1*** and ***seq2*** defined earlier and compare the output sequence with the one obtained earlier:"
   ]
  },
  {
   "cell_type": "code",
   "execution_count": null,
   "metadata": {},
   "outputs": [],
   "source": [
    "# now we can run our circuit on Seq objects and compare the result with output_seq\n",
    "\n",
    "# with simulation\n",
    "fheSim_output_seq = circuit_wrapper(circuit, seq1, seq2, True)\n",
    "print('Simulated :', fheSim_output_seq)\n",
    "assert(output_seq == fheSim_output_seq)\n",
    "\n",
    "# and without (slower)\n",
    "fhe_output_seq = circuit_wrapper(circuit, seq1, seq2, False)\n",
    "print('FHE :', fhe_output_seq)\n",
    "assert(output_seq == fhe_output_seq)"
   ]
  }
 ],
 "metadata": {
  "kernelspec": {
   "display_name": "bioenv",
   "language": "python",
   "name": "bioenv"
  },
  "language_info": {
   "codemirror_mode": {
    "name": "ipython",
    "version": 3
   },
   "file_extension": ".py",
   "mimetype": "text/x-python",
   "name": "python",
   "nbconvert_exporter": "python",
   "pygments_lexer": "ipython3",
   "version": "3.10.11"
  }
 },
 "nbformat": 4,
 "nbformat_minor": 4
}
