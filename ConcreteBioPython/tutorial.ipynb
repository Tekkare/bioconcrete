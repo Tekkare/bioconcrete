{
 "cells": [
  {
   "cell_type": "markdown",
   "metadata": {},
   "source": [
    "<style>\n",
    ".red-text {\n",
    "    color: red;\n",
    "}\n",
    "</style>\n",
    "\n",
    "# concrete.biopython quickstart\n",
    "\n",
    "***concrete.biopython*** is a FHE library based on python ***biopython*** library. It implements the same objects and functions when they are compatible with fhe.\n",
    "\n",
    "\n",
    "### FheSeq and FheMutableSeq classes\n",
    "\n",
    "<span style=\"color:purple\">***FheSeq***</span>  and <span style=\"color:purple\">***FheMutableSeq***</span>  objects are the FHE implementations of biopython <span style=\"color:darkblue\">***Seq***</span>  and <span style=\"color:darkblue\">***MutableSeq***</span>  objects.\n",
    "\n",
    "***Biopython*** <span style=\"color:darkblue\">***Seq***</span> and <span style=\"color:darkblue\">***MutableSeq***</span>  objects are constructed from a string, generally representing a **DNA**, **RNA** or a **protein** sequence. They provide functions to process this string sequence. <span style=\"color:darkblue\">***MutableSeq***</span>  allows to modify this string while <span style=\"color:darkblue\">***Seq***</span> does not.\n",
    "\n",
    "<span style=\"color:purple\">***FheSeq***</span>  and <span style=\"color:purple\">***FheMutableSeq***</span>  implement the same functions (when they are compatible with FHE) with an encrypted array of integers encoding for the string sequence.\n",
    "\n",
    "### Working with FheSeq and FheMutableSeq objects"
   ]
  },
  {
   "cell_type": "markdown",
   "metadata": {},
   "source": [
    "Firs of all, we need to import ***numpy*** and ***concrete.fhe***, as well as <span style=\"color:darkblue\">***Seq***</span>  and <span style=\"color:darkblue\">***MutableSeq***</span>  from ***Bio.Seq***.\n",
    "Then we import <span style=\"color:purple\">***FheSeq***</span>  and <span style=\"color:purple\">***FheMutableSeq***</span>  from ***concrete.biopython.FheSeq***, and also ***SeqWrapper.***<span style=\"color:darkred\">***SeqWrapper***</span> which will allow to interface <span style=\"color:darkblue\">***Seq***</span>  and <span style=\"color:darkblue\">***MutableSeq***</span>  objects with <span style=\"color:purple\">***FheSeq***</span>  and <span style=\"color:purple\">***FheMutableSeq***</span>  objects."
   ]
  },
  {
   "cell_type": "code",
   "execution_count": 1,
   "metadata": {},
   "outputs": [
    {
     "ename": "ModuleNotFoundError",
     "evalue": "No module named 'concreteBiopython'",
     "output_type": "error",
     "traceback": [
      "\u001b[0;31m---------------------------------------------------------------------------\u001b[0m",
      "\u001b[0;31mModuleNotFoundError\u001b[0m                       Traceback (most recent call last)",
      "Cell \u001b[0;32mIn[1], line 5\u001b[0m\n\u001b[1;32m      2\u001b[0m \u001b[38;5;28;01mfrom\u001b[39;00m \u001b[38;5;21;01mconcrete\u001b[39;00m \u001b[38;5;28;01mimport\u001b[39;00m fhe\n\u001b[1;32m      3\u001b[0m \u001b[38;5;28;01mfrom\u001b[39;00m \u001b[38;5;21;01mBio\u001b[39;00m\u001b[38;5;21;01m.\u001b[39;00m\u001b[38;5;21;01mSeq\u001b[39;00m \u001b[38;5;28;01mimport\u001b[39;00m Seq, MutableSeq\n\u001b[0;32m----> 5\u001b[0m \u001b[38;5;28;01mfrom\u001b[39;00m \u001b[38;5;21;01mFheSeq\u001b[39;00m \u001b[38;5;28;01mimport\u001b[39;00m FheSeq, FheMutableSeq\n\u001b[1;32m      6\u001b[0m \u001b[38;5;28;01mfrom\u001b[39;00m \u001b[38;5;21;01mSeqWrapper\u001b[39;00m \u001b[38;5;28;01mimport\u001b[39;00m SeqWrapper\n",
      "File \u001b[0;32m~/Documents/Mes_Documents/Travail-Projets/THFE/bio-concrete/concrete-biopython/concreteBiopython/FheSeq.py:6\u001b[0m\n\u001b[1;32m      3\u001b[0m \u001b[38;5;28;01mimport\u001b[39;00m \u001b[38;5;21;01mnumpy\u001b[39;00m \u001b[38;5;28;01mas\u001b[39;00m \u001b[38;5;21;01mnp\u001b[39;00m\n\u001b[1;32m      4\u001b[0m \u001b[38;5;28;01mimport\u001b[39;00m \u001b[38;5;21;01mnumbers\u001b[39;00m\n\u001b[0;32m----> 6\u001b[0m \u001b[38;5;28;01mfrom\u001b[39;00m \u001b[38;5;21;01mconcreteBiopython\u001b[39;00m\u001b[38;5;21;01m.\u001b[39;00m\u001b[38;5;21;01mSeqWrapper\u001b[39;00m \u001b[38;5;28;01mimport\u001b[39;00m SeqWrapper\n\u001b[1;32m      9\u001b[0m \u001b[38;5;28;01mclass\u001b[39;00m \u001b[38;5;21;01m_FheSeqAbstractBaseClass\u001b[39;00m(ABC):\n\u001b[1;32m     10\u001b[0m \u001b[38;5;250m    \u001b[39m\u001b[38;5;124;03m\"\"\"\u001b[39;00m\n\u001b[1;32m     11\u001b[0m \u001b[38;5;124;03m    The FHE version Bio.Seq._SeqAbstractBaseClass abstract class\u001b[39;00m\n\u001b[1;32m     12\u001b[0m \n\u001b[0;32m   (...)\u001b[0m\n\u001b[1;32m     34\u001b[0m \n\u001b[1;32m     35\u001b[0m \u001b[38;5;124;03m    \"\"\"\u001b[39;00m\n",
      "\u001b[0;31mModuleNotFoundError\u001b[0m: No module named 'concreteBiopython'"
     ]
    }
   ],
   "source": [
    "import numpy as np\n",
    "from concrete import fhe\n",
    "from Bio.Seq import Seq, MutableSeq\n",
    "\n",
    "from FheSeq import FheSeq, FheMutableSeq\n",
    "from SeqWrapper import SeqWrapper"
   ]
  },
  {
   "cell_type": "markdown",
   "metadata": {},
   "source": [
    "Let's define a function ***process_seq*** that takes in input a <span style=\"color:darkblue\">***Seq***</span>  and a <span style=\"color:darkblue\">***MutableSeq***</span>  objects ***seq1*** and ***seq2***, and processes them using some of the possibilities offered by the library:"
   ]
  },
  {
   "cell_type": "code",
   "execution_count": 2,
   "metadata": {},
   "outputs": [],
   "source": [
    "def process_seq(seq1, seq2):\n",
    "    seq2.pop()\n",
    "    new_seq = seq1.reverse_complement() + seq2[0:3]\n",
    "    protein = new_seq.translate()\n",
    "    return protein"
   ]
  },
  {
   "cell_type": "markdown",
   "metadata": {},
   "source": [
    "Let's create two sequences and test this function:"
   ]
  },
  {
   "cell_type": "code",
   "execution_count": 30,
   "metadata": {},
   "outputs": [
    {
     "name": "stdout",
     "output_type": "stream",
     "text": [
      "VPGR\n"
     ]
    }
   ],
   "source": [
    "seq1 = Seq('ACCAGGTAC')\n",
    "seq2 = MutableSeq('CGTTAGC')\n",
    "output_seq = process_seq(seq1, seq2)\n",
    "print(output_seq)"
   ]
  },
  {
   "cell_type": "markdown",
   "metadata": {},
   "source": [
    "Now, we will see how we can run the function ***process_seq*** homomorphically, using <span style=\"color:purple\">***FheSeq***</span>  and a <span style=\"color:purple\">***FheMutableSeq***</span>  objects. \n",
    "\n",
    "We will need to follow the steps below:\n",
    "1. convert <span style=\"color:darkblue\">***Seq***</span>  and a <span style=\"color:darkblue\">***MutableSeq***</span>  objects to integer arrays with <span style=\"color:darkred\">***SeqWrapper***</span>***.toIntegers***\n",
    "2. encrypt the integer arrays\n",
    "3. create <span style=\"color:purple\">***FheSeq***</span>  and a <span style=\"color:purple\">***FheMutableSeq***</span>  objects from the encrypted integer arrays inside the circuit\n",
    "4. call our function ***process_seq*** homomorphically on the FHE sequence objects\n",
    "5. Convert back the output from a <span style=\"color:purple\">***FheSeq***</span>  to an encrypted array with <span style=\"color:purple\">***FheSeq***</span>***.toArray***\n",
    "6. Decrypt the encrypted output array\n",
    "7. convert the array back to a <span style=\"color:darkblue\">***Seq***</span>  object\n",
    "\n",
    "For steps 1., 2., 6. and 7., we can create a circuit wrapper to do the Seq to integer and integer to Seq conversions:"
   ]
  },
  {
   "cell_type": "code",
   "execution_count": 31,
   "metadata": {},
   "outputs": [],
   "source": [
    "# wrap a circuit in order to input and output Bio.Seq objects\n",
    "def circuit_wrapper(circuit, seq1, seq2, simulate=False):\n",
    "    # convert Seq objects to integers with SeqWrapper.toIntegers\n",
    "    integers1 = SeqWrapper(seq1).toIntegers()\n",
    "    integers2 = SeqWrapper(seq2).toIntegers()\n",
    "    \n",
    "    # run the circuit with integer inputs\n",
    "    integer_output = circuit.simulate(integers1, integers2) if simulate else circuit.encrypt_run_decrypt(integers1, integers2)\n",
    "\n",
    "    # convert back the integer outputs into a Seq objects with SeqWrapper.toSeq\n",
    "    return SeqWrapper(integer_output).toSeq()"
   ]
  },
  {
   "cell_type": "markdown",
   "metadata": {},
   "source": [
    "For steps 3. and 5., we can create an adapter function that will be the circuit's main function. This function will create <span style=\"color:purple\">***FheSeq***</span>  and <span style=\"color:purple\">***FheMutableSeq***</span>  objects for the function ***process_seq*** to process on homomorphically, and then it will convert back the <span style=\"color:purple\">***FheSeq***</span>  output into an encrypted integer array that the circuit can decrypt."
   ]
  },
  {
   "cell_type": "code",
   "execution_count": 32,
   "metadata": {},
   "outputs": [],
   "source": [
    "def process_seq_adapter(integer_seq1, integer_seq2):\n",
    "    \n",
    "    # convert integer sequences into FheSeq and FheMutableSeq objects\n",
    "    seq1=FheSeq(integer_seq1)\n",
    "    seq2=FheMutableSeq(integer_seq2)\n",
    "    \n",
    "    # process the sequence objects with our function\n",
    "    new_seq = process_seq(seq1, seq2)\n",
    "    \n",
    "    # return the new sequence as integer array\n",
    "    return new_seq.toArray()"
   ]
  },
  {
   "cell_type": "markdown",
   "metadata": {},
   "source": [
    "For step 4., let's make the circuit from ***process_seq_adapter*** function, and create a correct inputset taking into account the number of possible letters with ***SeqWrapper.maxInteger()*** and the size of input sequences with ***len(seq1)*** and ***len(seq2)***:"
   ]
  },
  {
   "cell_type": "code",
   "execution_count": 35,
   "metadata": {},
   "outputs": [],
   "source": [
    "# compile the process_seq_adapter function and create a circuit\n",
    "compiler = fhe.Compiler(lambda data1,data2: process_seq_adapter(data1, data2), {\"data1\": \"encrypted\", \"data2\": \"encrypted\"})\n",
    "circuit = compiler.compile(\n",
    "    inputset=[\n",
    "    (np.random.randint(0, SeqWrapper.maxInteger()+1, size=(len(seq1),)),\n",
    "    np.random.randint(0, SeqWrapper.maxInteger()+1, size=(len(seq2),)))\n",
    "    for _ in range(100)\n",
    "    ],\n",
    "    configuration=fhe.Configuration(\n",
    "        enable_unsafe_features=True,\n",
    "        use_insecure_key_cache=True,\n",
    "        insecure_key_cache_location=\".keys\",\n",
    "        dataflow_parallelize=False, # setting it to True makes the jupyter kernel crash\n",
    "    ),\n",
    "    verbose=False,\n",
    ")"
   ]
  },
  {
   "cell_type": "markdown",
   "metadata": {},
   "source": [
    "We can now run our wrapped circuit on the variables ***seq1*** and ***seq2*** defined earlier and compare the output sequence with the one obtained earlier:"
   ]
  },
  {
   "cell_type": "code",
   "execution_count": 7,
   "metadata": {},
   "outputs": [
    {
     "name": "stdout",
     "output_type": "stream",
     "text": [
      "VPGR\n"
     ]
    },
    {
     "name": "stderr",
     "output_type": "stream",
     "text": [
      "WARNING: The generated random seed is not crypto secure\n",
      "WARNING: The generated random seed is not crypto secure\n"
     ]
    }
   ],
   "source": [
    "# now we can run our circuit on Seq objects and compare the result with output_seq\n",
    "fhe_output_seq = circuit_wrapper(circuit, seq1, seq2, False)\n",
    "print(fhe_output_seq)\n",
    "assert(output_seq == fhe_output_seq)"
   ]
  },
  {
   "cell_type": "code",
   "execution_count": null,
   "metadata": {},
   "outputs": [],
   "source": []
  }
 ],
 "metadata": {
  "kernelspec": {
   "display_name": "bioenv",
   "language": "python",
   "name": "bioenv"
  },
  "language_info": {
   "codemirror_mode": {
    "name": "ipython",
    "version": 3
   },
   "file_extension": ".py",
   "mimetype": "text/x-python",
   "name": "python",
   "nbconvert_exporter": "python",
   "pygments_lexer": "ipython3",
   "version": "3.10.11"
  }
 },
 "nbformat": 4,
 "nbformat_minor": 4
}
