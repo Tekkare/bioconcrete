{
 "cells": [
  {
   "cell_type": "markdown",
   "metadata": {},
   "source": [
    "# concrete.biopython, practical applications\n",
    "\n",
    "**concrete.biopython** is a FHE library based on python [**biopython**](https://biopython.org/) library. It implements the same objects and functions when they are compatible with fhe.\n",
    "\n",
    "In bioinformatics, the most basic object is the **sequence**. Sequences generally reprensent **DNA** and **RNA** strands, or **proteins** which are **amino acids** strands. Bioinformatics computations are most often processings of such sequences. This tutorial presents some basic processing algorithms on sequences, in FHE. We will first see how to make reusable code to easily generate circuits than can be used for different applications.\n",
    "\n",
    "Indeed, using FHE for processing biological sensitive data such as human DNA garanties full end to end privacy of the data and of its processing, which is a major issue in the field of biology.\n",
    "\n",
    "## I. Setting up FHE for practical applications\n",
    "\n",
    "Before presenting the algorithms, we will set up some reusable code that will help us for each application later.\n",
    "\n",
    "### Imports\n",
    "First of all, we need to import **numpy** and **concrete.fhe**, as well as <span style=\"color:green\">**Seq**</span>  from **Bio.Seq**.\n",
    "Then we import <span style=\"color:orange\">**FheSeq**</span> from **concrete_biopython.FheSeq**, and also **SeqWrapper.**<span style=\"color:#5CC8FF\">**SeqWrapper**</span> which will allow to interface the two librairies.\n",
    "\n",
    "You can check out the quickstart tutorial presenting these objects in more details. Here, we will follow a similar route than in the quickstart to interface **Bio.Seq** and **concrete_biopython.FheSeq** objects."
   ]
  },
  {
   "cell_type": "code",
   "execution_count": 33,
   "metadata": {},
   "outputs": [],
   "source": [
    "import numpy as np\n",
    "import numpy as np\n",
    "from concrete import fhe\n",
    "from Bio.Seq import Seq\n",
    "\n",
    "import sys, os\n",
    "sys.path.append(os.path.dirname(os.getcwd()))\n",
    "\n",
    "from concrete_biopython.FheSeq import FheSeq\n",
    "from concrete_biopython.SeqWrapper import SeqWrapper\n"
   ]
  },
  {
   "cell_type": "markdown",
   "metadata": {},
   "source": [
    "### Sequence preprocessing\n",
    "\n",
    "As in the quickstart tutorial, we will need to convert <span style=\"color:green\">**Seq**</span> objects from outside FHE to <span style=\"color:orange\">**FheSeq**</span> objects inside the FHE circuit.  \n",
    "\n",
    "For each pratictal applications, we will have different numbers of <span style=\"color:green\">**Seq**</span> objects to encrypt and process. In order to be able to reuse our code for these multiple applications, we can merge these sequences into one long sequence, so that our circuit takes only one input sequence every time.\n",
    "\n",
    "Let's define a `concat_sequences` function that concatenates a list of sequences and returns the concatenated sequence, along with indices to be able to slice concatenated sequence back later. Let's also define the reverse function `slice_sequence` to slice back a long sequence into several sequences:"
   ]
  },
  {
   "cell_type": "code",
   "execution_count": 40,
   "metadata": {},
   "outputs": [
    {
     "name": "stdout",
     "output_type": "stream",
     "text": [
      "ABCDEF\n",
      "[Seq('AB'), Seq('C'), Seq('DEF')]\n"
     ]
    }
   ],
   "source": [
    "def concat_sequences(seqs):\n",
    "    \"\"\"\n",
    "    Concatenate sequences from a list and records indices as slice objects\n",
    "    \"\"\"\n",
    "    slices=[]\n",
    "    seq=Seq('')\n",
    "    index=0\n",
    "    for s in seqs:\n",
    "        seq = seq+s # Seq objects can be directly added\n",
    "        slices.append(slice(index, index+len(s)))\n",
    "        index+=len(s)\n",
    "    return seq, slices\n",
    "\n",
    "def slice_sequence(seq, slices):\n",
    "    \"\"\"\n",
    "    Slice a sequence into its original sub-sequences\n",
    "    \"\"\"\n",
    "    seqs=[]\n",
    "    index=0\n",
    "    for ind in slices:\n",
    "        seqs.append(seq[ind.start:ind.stop])\n",
    "    return seqs\n",
    "\n",
    "# testing the functions\n",
    "SEQ, INDICES = concat_sequences([Seq('AB'), Seq('C'), Seq('DEF')])\n",
    "print(SEQ)\n",
    "print(slice_sequence(SEQ, INDICES))"
   ]
  },
  {
   "cell_type": "markdown",
   "metadata": {},
   "source": [
    "### Making a circuit factory for reusing code\n",
    "\n",
    "We want to make a circuit factory so that for each application later, we can simply provide a core sequence processing function and provide it to the factory that will generate a circuit from it. We will even wrap this circuit to be able to work with <span style=\"color:green\">**Seq**</span> objects inputs instead of integer arrays inputs.\n",
    "\n",
    "The core function will be named `process_sequence`, taking a sequence and returning the result of some processing algorithm. We want a function that can work on both clear or encrypted data, so we also provide it with the library **numpy** or **concrete.fhe** for when there are differences in the processing.\n",
    "\n",
    "For now, we define a simple processing function for the example, that outputs wether two sequences are identical. It first slices the input sequence into two sequences, and then compares them:"
   ]
  },
  {
   "cell_type": "code",
   "execution_count": 41,
   "metadata": {},
   "outputs": [
    {
     "name": "stdout",
     "output_type": "stream",
     "text": [
      "Are the first two sequences equal ?:  False\n"
     ]
    }
   ],
   "source": [
    "def process_sequence(seq, lib=fhe):\n",
    "    \"\"\"\n",
    "    Check wether the two first subsequences are identical, for test\n",
    "    \"\"\"\n",
    "    seqlist = slice_sequence(seq, INDICES)\n",
    "    return seqlist[0]==seqlist[1]\n",
    "\n",
    "OUTPUT_PYTHON = process_sequence(SEQ, np)\n",
    "print(\"Are the first two sequences equal ?: \", OUTPUT_PYTHON)"
   ]
  },
  {
   "cell_type": "markdown",
   "metadata": {},
   "source": [
    "Now let's make a **circuit factory** returning a circuit compiled on a given sequence processing function, and working with an integer array input of given lenght. Note that the integer array input `data` is first converted into a <span style=\"color:orange\">**FheSeq**</span> objects so that the sequence processing function can work on it the same way it works on <span style=\"color:green\">**Seq**</span> objects:"
   ]
  },
  {
   "cell_type": "code",
   "execution_count": 44,
   "metadata": {},
   "outputs": [],
   "source": [
    "def circuit_factory(input_length, process_seq):\n",
    "    \"\"\"\n",
    "    Return a circuit compiled on 'process_seq' with input lenght 'input_lengt'\n",
    "    \"\"\"\n",
    "    compiler = fhe.Compiler(lambda data: process_seq(FheSeq(data)), {\"data\": \"encrypted\"})    \n",
    "    return compiler.compile(\n",
    "        inputset=[\n",
    "        # Use SeqWrapper.maxInteger() to know the maximal integer possible in inputs\n",
    "        np.random.randint(0, SeqWrapper.maxInteger()+1, size=(input_length,))\n",
    "        for _ in range(100)\n",
    "        ],\n",
    "        configuration=fhe.Configuration(\n",
    "            enable_unsafe_features=True,\n",
    "            use_insecure_key_cache=True,\n",
    "            insecure_key_cache_location=\".keys\",\n",
    "            dataflow_parallelize=False, # setting it to True makes the jupyter kernel crash\n",
    "        ),\n",
    "        verbose=False,\n",
    "    )"
   ]
  },
  {
   "cell_type": "markdown",
   "metadata": {},
   "source": [
    "Then, we make a circuit wrapper that allows to run a circuit onto a <span style=\"color:green\">**Seq**</span> object, using the <span style=\"color:#5CC8FF\">**SeqWrapper**</span>**.toIntegers** function. Here, we will need the wrapper to return **integer outputs**, but we could have converted them back into a <span style=\"color:green\">**Seq**</span> object if needed using <span style=\"color:#5CC8FF\">**SeqWrapper**</span>**.toSeq**."
   ]
  },
  {
   "cell_type": "code",
   "execution_count": 45,
   "metadata": {},
   "outputs": [],
   "source": [
    "def circuit_wrapper(circuit, seq, simulate=False):\n",
    "    \"\"\"\n",
    "    Wrap a fhe circuit in order to input Bio.Seq objects, and simulate if needed\n",
    "    \"\"\"\n",
    "    # convert Seq object to integers with SeqWrapper.toIntegers\n",
    "    integers = SeqWrapper(seq).toIntegers()\n",
    "    # run the circuit on integer inputs\n",
    "    integer_output = circuit.simulate(integers) if simulate else circuit.encrypt_run_decrypt(integers)\n",
    "    # return the integers output\n",
    "    return integer_output\n",
    "    # alternatively, one could return a Seq objects with: return SeqWrapper(integer_output).toSeq()"
   ]
  },
  {
   "cell_type": "markdown",
   "metadata": {},
   "source": [
    "Finally, in order to keep reusing code, we can pack the actual making and running of a circuit in a function, along with printing the output and displaying computation time:"
   ]
  },
  {
   "cell_type": "code",
   "execution_count": 47,
   "metadata": {},
   "outputs": [],
   "source": [
    "import time\n",
    "\n",
    "def compute_fhe_output(seq, process_seq, simulate, message):\n",
    "    \"\"\"\n",
    "    Pack up the creation and running of a circuit,\n",
    "    and display the result along with the computation time\n",
    "    \"\"\"\n",
    "    start = time.time()\n",
    "    output_fhe = circuit_wrapper(circuit_factory(len(seq),process_seq), seq, simulate)\n",
    "    end = time.time()\n",
    "    \n",
    "    print(message, output_fhe)\n",
    "    print(f\"(took {end - start:.2f} seconds)\")"
   ]
  },
  {
   "cell_type": "markdown",
   "metadata": {},
   "source": [
    "That's it ! Before starting our first practical application, we can try out this code on our test sequence and processing function defined earlier, checking homomorphically wether the two first sequences of the list are identical:"
   ]
  },
  {
   "cell_type": "code",
   "execution_count": 48,
   "metadata": {},
   "outputs": [
    {
     "name": "stdout",
     "output_type": "stream",
     "text": [
      "Are the first two sequences equal ?:  0\n",
      "(took 0.89 seconds)\n"
     ]
    },
    {
     "name": "stderr",
     "output_type": "stream",
     "text": [
      "WARNING: The generated random seed is not crypto secure\n",
      "WARNING: The generated random seed is not crypto secure\n"
     ]
    }
   ],
   "source": [
    "# compute our simple process_sequence function in FHE on our test sequence:\n",
    "compute_fhe_output(SEQ, process_sequence, simulate=False, message='Are the first two sequences equal ?: ')"
   ]
  },
  {
   "cell_type": "markdown",
   "metadata": {},
   "source": [
    "## Levenstein distance\n",
    "\n",
    "## II. Computing the hamming distance between two sequences\n",
    "\n",
    "As a first simple application, we will compute in FHE the [**hamming distance**](https://en.wikipedia.org/wiki/Hamming_distance) between two sequences. The **hamming distance** between two sequences of same length is simply the number of positions where the two sequences are different. It is often used in bioinformatics to measure the similarity of biological sequences such as **DNA** strands.  \n",
    "\n"
   ]
  },
  {
   "cell_type": "code",
   "execution_count": 76,
   "metadata": {},
   "outputs": [],
   "source": [
    "def hamming(arr1, arr2):\n",
    "    \"\"\"\n",
    "    Returns the number of differences between arrays arr1 and arr2\n",
    "    \"\"\"\n",
    "    if arr1.size != arr2.size:\n",
    "        raise ValueError('arrays must have same size')\n",
    "        \n",
    "    return np.sum(arr1 != arr2)\n",
    "\n",
    "def hamming_adapter(seq1, seq2, lib=fhe):\n",
    "    \"\"\"\n",
    "    Adapter for hamming distance of Seq objects\n",
    "    \"\"\"\n",
    "    if lib is fhe:\n",
    "        return hamming(seq1.toArray(),seq2.toArray())\n",
    "    else:\n",
    "        return hamming(np.array(list(seq1.__str__())), np.array(list(seq2.__str__())))"
   ]
  },
  {
   "cell_type": "code",
   "execution_count": 77,
   "metadata": {},
   "outputs": [
    {
     "name": "stdout",
     "output_type": "stream",
     "text": [
      "AGGTTGGTAAAATGGTCCGTGGCACCGTAATAAACGTGTCCGTTGG\n"
     ]
    }
   ],
   "source": [
    "S = Seq(\"AGGTTGGTAAAATGGTCCGTGGC\")\n",
    "T = Seq(\"ACCGTAATAAACGTGTCCGTTGG\")\n",
    "\n",
    "SEQ_H, INDICES_H = concat_sequences([S,T])\n",
    "print(SEQ_H)"
   ]
  },
  {
   "cell_type": "code",
   "execution_count": 78,
   "metadata": {},
   "outputs": [],
   "source": [
    "def process_sequence(seq, lib=fhe):\n",
    "    seqlist = slice_sequence(seq, INDICES_H)\n",
    "    return hamming_adapter(seqlist[0],seqlist[1], lib)"
   ]
  },
  {
   "cell_type": "code",
   "execution_count": 79,
   "metadata": {},
   "outputs": [
    {
     "name": "stdout",
     "output_type": "stream",
     "text": [
      "Haming distante of S & T: 10\n"
     ]
    }
   ],
   "source": [
    "OUTPUT_PYTHON = process_sequence(SEQ_H, np)\n",
    "print('Haming distance of S & T:', OUTPUT_PYTHON)"
   ]
  },
  {
   "cell_type": "code",
   "execution_count": 48,
   "metadata": {},
   "outputs": [
    {
     "name": "stderr",
     "output_type": "stream",
     "text": [
      "WARNING: The generated random seed is not crypto secure\n",
      "WARNING: The generated random seed is not crypto secure\n"
     ]
    },
    {
     "name": "stdout",
     "output_type": "stream",
     "text": [
      "The sorted indices of sequences are :  10\n",
      "(took 3.144 seconds)\n"
     ]
    }
   ],
   "source": [
    "# now we can run our circuit on Seq objects and compare the result with output_seq\n",
    "compute_fhe_output(SEQ_H, process_seq, simulate=False, message='Haming distance of S & T: ')\n"
   ]
  },
  {
   "cell_type": "markdown",
   "metadata": {},
   "source": [
    "## Finding the origin of replication in a sequence"
   ]
  },
  {
   "cell_type": "code",
   "execution_count": 25,
   "metadata": {},
   "outputs": [],
   "source": [
    "def min_two(x, y):\n",
    "    diff = y - x\n",
    "    min_xy = y - fhe.univariate(lambda x: 0 if x < 0 else x)\n",
    "    return min_xy"
   ]
  },
  {
   "cell_type": "code",
   "execution_count": 29,
   "metadata": {},
   "outputs": [],
   "source": [
    "# Function to find the minimum skew\n",
    "\n",
    "## FHE LIMITATION: only one minimum can be found\n",
    "\n",
    "def minimum_skew(seq,lib=fhe):\n",
    "    if lib is fhe:\n",
    "        CG_integers = SeqWrapper(Seq('CG')).toIntegers()\n",
    "        letter_table = [0]*(SeqWrapper.maxInteger()+1)\n",
    "        letter_table[CG_integers[0]]=-1\n",
    "        letter_table[CG_integers[1]]=1\n",
    "        letter_table = fhe.LookupTable(letter_table)\n",
    "        skew_counts = fhe.zeros(len(seq))\n",
    "    else:\n",
    "        letter_table = {'A':0, 'C':-1, 'G':1, 'T':0}\n",
    "        skew_counts = np.zeros(len(seq)).astype('int')\n",
    "        \n",
    "    skew_counts[0] = letter_table[seq[0]]\n",
    "    minimum = skew_counts[0]\n",
    "    min_index = 0\n",
    "    for i in range(1,len(seq)):\n",
    "        # compute cumulated sum\n",
    "        skew_counts[i] = skew_counts[i-1] + letter_table[seq[i]]\n",
    "        # and keep minimum\n",
    "        ismin = (skew_counts[i]<minimum)\n",
    "        minimum = skew_counts[i]*ismin + minimum*(1-ismin)\n",
    "        #minimum = min_two(skew_counts[i], minimum)\n",
    "        min_index = i*ismin + min_index*(1-ismin)\n",
    "        \n",
    "    return min_index, skew_counts\n"
   ]
  },
  {
   "cell_type": "code",
   "execution_count": 30,
   "metadata": {},
   "outputs": [
    {
     "name": "stdout",
     "output_type": "stream",
     "text": [
      "The minimum skew is at index:  54\n"
     ]
    }
   ],
   "source": [
    "SEQ_O = Seq('ACGTGAGGTACGATCGCATACCACTGACGACCATAACCCAGACCACCCCATAGCCAGAGATCGATTGAGATGAGGCCCAGTTAGGGACAG')\n",
    "\n",
    "OUTPUT_PYTHON, skew_counts = minimum_skew(SEQ_O, np)\n",
    "print('The minimum skew is at index: ', OUTPUT_PYTHON)"
   ]
  },
  {
   "cell_type": "code",
   "execution_count": 31,
   "metadata": {},
   "outputs": [
    {
     "data": {
      "text/plain": [
       "Text(0.5, 0, 'Index of DNA')"
      ]
     },
     "execution_count": 31,
     "metadata": {},
     "output_type": "execute_result"
    },
    {
     "data": {
      "image/png": "[encoded data removed]",
      "text/plain": [
       "<Figure size 640x480 with 1 Axes>"
      ]
     },
     "metadata": {},
     "output_type": "display_data"
    }
   ],
   "source": [
    "# Plot the skew_counts to check them out\n",
    "import matplotlib.pyplot as plt\n",
    "plt.plot(skew_counts)\n",
    "plt.ylabel('Skew Counts')\n",
    "plt.xlabel('Index of DNA')"
   ]
  },
  {
   "cell_type": "code",
   "execution_count": 32,
   "metadata": {},
   "outputs": [
    {
     "name": "stdout",
     "output_type": "stream",
     "text": [
      "The minimum skew is at index:  54\n",
      "(took 14.272 seconds)\n"
     ]
    }
   ],
   "source": [
    "def process_sequence(seq, lib=fhe):\n",
    "    return minimum_skew(seq, lib)[0] # return only the minimum value for fhe\n",
    "\n",
    "compute_fhe_output(SEQ_O, process_sequence, simulate=True, message='The minimum skew is at index: ')"
   ]
  },
  {
   "cell_type": "markdown",
   "metadata": {},
   "source": [
    "## Comparing sequences\n",
    "\n",
    "## Sorting sequences"
   ]
  },
  {
   "cell_type": "code",
   "execution_count": 12,
   "metadata": {},
   "outputs": [],
   "source": [
    "def sort_rank(seqlist, lib=fhe):\n",
    "    n=len(seqlist)\n",
    "    # create comparison matrix\n",
    "    comp_matrix = lib.zeros((n,n))\n",
    "    # fill the matrix with results of seqlist[i]>seqlist[j]\n",
    "    for i in range(0, n):\n",
    "        for j in range(i+1, n):\n",
    "            # compute upper half of the matrix\n",
    "            comp_matrix[i,j] = (seqlist[i]<seqlist[j])\n",
    "            # then copy the opposite to the lower half because the matrix is antisymetrical\n",
    "            comp_matrix[j,i] = 1-comp_matrix[i,j] # this counts seqlist[j]>=seqlist[i]\n",
    "    # now sum up each row to get a sorting rank for the sequences\n",
    "    return np.sum(comp_matrix, axis=0)\n",
    "            \n",
    "     \n",
    "def process_seq(seq, lib=fhe):\n",
    "    seqlist = slice_sequence(seq, INDICES_S)\n",
    "    return sort_rank(seqlist, lib)"
   ]
  },
  {
   "cell_type": "code",
   "execution_count": 13,
   "metadata": {},
   "outputs": [
    {
     "name": "stdout",
     "output_type": "stream",
     "text": [
      "AABCAAAAAAA\n",
      "The sorted indices of sequences are : [2. 3. 0. 1.]\n"
     ]
    }
   ],
   "source": [
    "SEQ1 = Seq('AA')\n",
    "SEQ2 = Seq('AAA')\n",
    "SEQ3 = Seq('AAB')\n",
    "SEQ4 = Seq('CAA')\n",
    "\n",
    "SEQ_S, INDICES_S = concat_sequences([SEQ3, SEQ4, SEQ1, SEQ2])\n",
    "print(SEQ_S)\n",
    "\n",
    "OUTPUT_PYTHON = process_sequence(SEQ_S, np)\n",
    "print(\"The sorted indices of sequences are :\", OUTPUT_PYTHON)"
   ]
  },
  {
   "cell_type": "code",
   "execution_count": 99,
   "metadata": {},
   "outputs": [
    {
     "name": "stderr",
     "output_type": "stream",
     "text": [
      "WARNING: The generated random seed is not crypto secure\n",
      "WARNING: The generated random seed is not crypto secure\n"
     ]
    },
    {
     "name": "stdout",
     "output_type": "stream",
     "text": [
      "The sorted indices of sequences are:  [2 3 0 1]\n",
      "(took 6.812 seconds)\n"
     ]
    },
    {
     "data": {
      "text/plain": [
       "array([2, 3, 0, 1], dtype=uint64)"
      ]
     },
     "execution_count": 99,
     "metadata": {},
     "output_type": "execute_result"
    }
   ],
   "source": [
    "# now we can run our circuit on Seq objects and compare the result with output_seq\n",
    "compute_fhe_output(SEQ_S, process_seq, simulate=False, message='The sorted indices of sequences are: ')\n"
   ]
  },
  {
   "cell_type": "code",
   "execution_count": 101,
   "metadata": {},
   "outputs": [
    {
     "name": "stdout",
     "output_type": "stream",
     "text": [
      "ACGGCATACAGCGGTTCAGAGACTAAGGGCAGCAGAGCAGAGAGACAGACACGATAGAGATAACCCGTACAGAACTGGGCAGATATAGATTTAGCATAGTT\n"
     ]
    },
    {
     "name": "stderr",
     "output_type": "stream",
     "text": [
      "WARNING: The generated random seed is not crypto secure\n",
      "KeySetCache: miss, regenerating .keys/13593486136536055049/0_0\n",
      "WARNING: The generated random seed is not crypto secure\n"
     ]
    },
    {
     "name": "stdout",
     "output_type": "stream",
     "text": [
      "The sorted indices of sequences are:  [1 2 0 3]\n",
      "(took 40.465 seconds)\n"
     ]
    },
    {
     "data": {
      "text/plain": [
       "array([1, 2, 0, 3], dtype=uint64)"
      ]
     },
     "execution_count": 101,
     "metadata": {},
     "output_type": "execute_result"
    }
   ],
   "source": [
    "SEQ1 = Seq('ACGATAGAGATAACCCGTACAGAACT')\n",
    "SEQ2 = Seq('GGGCAGATATAGATTTAGCATAGTT')\n",
    "SEQ3 = Seq('ACGGCATACAGCGGTTCAGAGACTA')\n",
    "SEQ4 = Seq('AGGGCAGCAGAGCAGAGAGACAGAC')\n",
    "\n",
    "SEQ_S, INDICES_S = concat_sequences([SEQ3, SEQ4, SEQ1, SEQ2])\n",
    "print(SEQ_S)\n",
    "\n",
    "# now we can run our circuit on Seq objects and compare the result with output_seq\n",
    "compute_fhe_output(SEQ_S, process_sequence, simulate=False, message='The sorted indices of sequences are: ')\n"
   ]
  },
  {
   "cell_type": "code",
   "execution_count": null,
   "metadata": {},
   "outputs": [],
   "source": []
  }
 ],
 "metadata": {
  "kernelspec": {
   "display_name": "concrete-biopython",
   "language": "python",
   "name": "concrete-biopython"
  },
  "language_info": {
   "codemirror_mode": {
    "name": "ipython",
    "version": 3
   },
   "file_extension": ".py",
   "mimetype": "text/x-python",
   "name": "python",
   "nbconvert_exporter": "python",
   "pygments_lexer": "ipython3",
   "version": "3.10.11"
  }
 },
 "nbformat": 4,
 "nbformat_minor": 4
}
