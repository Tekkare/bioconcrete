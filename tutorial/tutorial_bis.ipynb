{
 "cells": [
  {
   "cell_type": "markdown",
   "metadata": {},
   "source": [
    "\n",
    "# concrete.biopython quickstart\n",
    "\n",
    "## WARNING: this tutorial cannot be run, it is just a code structure suggestion :)\n",
    "\n",
    "**concrete.biopython** is a FHE library based on python [**biopython**](https://biopython.org/) library. It implements the same objects and functions when they are compatible with fhe.\n",
    "\n",
    "In biology, data are often sensitive, hence protecting their privacy is a major issue. Using FHE for processing  sensitive data such as human DNA, laboratory researches, or hospitals patient's personnal data, garanties the full privacy of the processing: no one other than the data owners has access to it and the result of the processing. \n",
    "\n",
    "### concrete.biopython Seq class\n",
    "\n",
    "concrete.biopython.Seq.<span style=\"color:orange\">**Seq**</span> is the FHE implementation of biopython Bio.Seq.<span style=\"color:green\">**Seq**</span>.\n",
    "\n",
    "Biopython Bio.Seq.<span style=\"color:green\">**Seq**</span> objects are constructed from a string, generally representing a **DNA**, **RNA** or a **protein** sequence. It provides functions to process this string sequence. Bio.Seq.<span style=\"color:green\">**MutableSeq**</span> can also be used to provide mutable strings because Bio.Seq.<span style=\"color:green\">**Seq**</span> are immutable.\n",
    "\n",
    "concrete.biopython.Seq.<span style=\"color:orange\">**Seq**</span> works the same way on unencrypted data, and in encrypted data it implements the same functions as Bio.Seq.<span style=\"color:green\">**Seq**</span> (when they are compatible with FHE), operating on an encrypted array of integers which encodes the string sequence. concrete.biopython.Seq.<span style=\"color:orange\">**MutableSeq**</span> is also available.\n",
    "\n",
    "concrete.biopython.Seq.<span style=\"color:orange\">**SeqCompiler**</span> is a wrapper of **fhe.compiler** that allows to compile circuits directly on concrete.biopython.Seq.<span style=\"color:orange\">**Seq**</span> objects.\n",
    "\n",
    "### Working with concrete.biopython Seq and MutableSeq objects\n",
    "\n",
    "First of all, we need to import concrete.biopython.Seq.<span style=\"color:orange\">**Seq**</span> and concrete.biopython.Seq.<span style=\"color:orange\">**MutableSeq**</span> from **concrete_biopython.Seq**, and also concrete.biopython.Seq.<span style=\"color:orange\">**SeqCompiler**</span> which will allow to compile circuit with **Seq** inputs."
   ]
  },
  {
   "cell_type": "code",
   "execution_count": null,
   "metadata": {},
   "outputs": [],
   "source": [
    "from concrete import fhe\n",
    "\n",
    "import sys, os\n",
    "sys.path.append(os.path.dirname(os.getcwd()))\n",
    "from concrete_biopython.Seq import Seq, MutableSeq, SeqCompiler"
   ]
  },
  {
   "cell_type": "markdown",
   "metadata": {},
   "source": [
    "Let's define an arbitrary function **process_seq** that takes in input a <span style=\"color:green\">**Seq**</span>  and a <span style=\"color:green\">**MutableSeq**</span>  objects **seq1** and **seq2** representing DNA sequences, processes them using some of the possibilities offered by the biopython library, and returns a short protein sequence."
   ]
  },
  {
   "cell_type": "code",
   "execution_count": 2,
   "metadata": {},
   "outputs": [],
   "source": [
    "def process_seq(seq1, seq2):\n",
    "    seq2.pop()\n",
    "    new_seq = seq1.reverse_complement() + seq2[0:3]\n",
    "    protein = new_seq.translate('Standard')\n",
    "    return protein"
   ]
  },
  {
   "cell_type": "markdown",
   "metadata": {},
   "source": [
    "As a reminder, [**DNA**](https://en.wikipedia.org/wiki/DNA) strands are very long sequences of nucleotids, which come in four types depending on the nitrogenous base they hold. Each type is represented with a letter, either '**A**', '**C**', '**G**' or '**T**'. Each strand is attached to a complement strand, where the '**A**' bases are linked to '**T**' bases and vice-versa, same for '**C**' and '**G**' letters. Some parts of the strand called genes are encoding for proteins. In a gene, bases can be read in groups of three called codons, where every codon encodes for a amino acid (or a stop when the gene ends). Amino acids are chained to form a protein. The conversion from a gene to a protein is called [**translation**](https://en.wikipedia.org/wiki/Translation_(biology)), and follows an encoding from codons to amino acids that can vary. In our case, we will use the standard [codon table](https://en.wikipedia.org/wiki/DNA_and_RNA_codon_tables).\n",
    "\n",
    "Please read the **biopython** [documentation](https://biopython.org/wiki/Documentation) or [tutorial](http://biopython.org/DIST/docs/tutorial/Tutorial.html) for further notice about the used functions.  \n",
    "\n",
    "For the example, let's create two short sequences (with no biological meaning) and test the `process_seq` function on this unencrypted data:"
   ]
  },
  {
   "cell_type": "code",
   "execution_count": 3,
   "metadata": {},
   "outputs": [
    {
     "name": "stdout",
     "output_type": "stream",
     "text": [
      "VPGR\n"
     ]
    }
   ],
   "source": [
    "seq1 = Seq('ACCAGGTAC')\n",
    "seq2 = MutableSeq('CGTTAGC')\n",
    "output_seq = process_seq(seq1, seq2)\n",
    "print(output_seq)"
   ]
  },
  {
   "cell_type": "markdown",
   "metadata": {},
   "source": [
    "### Processing steps with FHE\n",
    "\n",
    "Let's see how to compile a circuit taking Seq objects as input"
   ]
  },
  {
   "cell_type": "code",
   "execution_count": 6,
   "metadata": {},
   "outputs": [],
   "source": [
    "# compile the process_seq function and create a wrapped circuit from Seq.circuit that takes Seq objects\n",
    "compiler = SeqCompiler(lambda data1,data2: process_seq(data1, data2), {\"data1\": \"encrypted\", \"data2\": \"encrypted\"})\n",
    "seqCircuit = compiler.compile(\n",
    "    # provide a dictionnary of all possible characters instead of an inputset,\n",
    "    # the inputset will be generated internally from it\n",
    "    dictionnary='ACGT',\n",
    "    # configurations are the same\n",
    "    configuration=fhe.Configuration(\n",
    "        enable_unsafe_features=True,\n",
    "        use_insecure_key_cache=True,\n",
    "        insecure_key_cache_location=\".keys\",\n",
    "        dataflow_parallelize=False, # setting it to True makes the jupyter kernel crash\n",
    "    ),\n",
    "    verbose=False,\n",
    ")"
   ]
  },
  {
   "cell_type": "markdown",
   "metadata": {},
   "source": [
    "### Execution \n",
    "\n",
    "We can now run our wrapped circuit on the variables **seq1** and **seq2** defined earlier and compare the output sequence with the one obtained earlier on clear data:"
   ]
  },
  {
   "cell_type": "code",
   "execution_count": null,
   "metadata": {},
   "outputs": [],
   "source": [
    "# now we can run our circuit in FHE and compare the result with output_seq\n",
    "\n",
    "# with simulation\n",
    "fheSim_output_seq = seqCircuit.simulate(seq1, seq2)\n",
    "print('Simulated FHE:', fheSim_output_seq)\n",
    "assert(output_seq == fheSim_output_seq)\n",
    "\n",
    "# and with encryption\n",
    "seqCircuit.encrypt_run_decryp(seq1, seq2)\n",
    "print('FHE :', fheSim_output_seq)\n",
    "assert(output_seq == fheSim_output_seq)"
   ]
  },
  {
   "cell_type": "markdown",
   "metadata": {},
   "source": [
    "### Going further\n",
    "\n",
    "In a real world application, the data could be sent to a distant server for distant fhe processing. In this scenario, one could proceed as following:"
   ]
  },
  {
   "cell_type": "code",
   "execution_count": null,
   "metadata": {},
   "outputs": [],
   "source": [
    "# encrypt and send you encrypted Seq object to a distant server\n",
    "encryptedSeq1, encryptedSeq2 =  seqCircuit.encrypt(seq1, seq2)\n",
    "\n",
    "encrypted_out = await( process_server(encryptedSeq1, encryptedSeq2) )\n",
    "\n",
    "output = seqCircuit.decrypt(encrypted_out)"
   ]
  },
  {
   "cell_type": "markdown",
   "metadata": {},
   "source": [
    "The Bio.Seq.<span style=\"color:green\">**Seq**</span> objects are compatible with concrete.biopython.Seq<span style=\"color:orange\">**Seq**</span> objects:"
   ]
  },
  {
   "cell_type": "code",
   "execution_count": null,
   "metadata": {},
   "outputs": [],
   "source": [
    "from Bio.Seq import Seq as bioSeq\n",
    "\n",
    "# from Bio.Seq to concrete.biopython.Seq\n",
    "bio_seq1 = bioSeq('ACGTACGT')\n",
    "concrete_seq1 = Seq(bio_seq1)\n",
    "\n",
    "# the other way around\n",
    "concrete_seq2 = Seq('ACGTACGT')\n",
    "bio_seq2 = bioSeq( str(concrete_seq2) )\n",
    "# or:\n",
    "bio_seq2_2 = concrete_seq2.to(bioSeq)"
   ]
  }
 ],
 "metadata": {
  "kernelspec": {
   "display_name": "concrete-biopython",
   "language": "python",
   "name": "concrete-biopython"
  },
  "language_info": {
   "codemirror_mode": {
    "name": "ipython",
    "version": 3
   },
   "file_extension": ".py",
   "mimetype": "text/x-python",
   "name": "python",
   "nbconvert_exporter": "python",
   "pygments_lexer": "ipython3",
   "version": "3.10.11"
  }
 },
 "nbformat": 4,
 "nbformat_minor": 4
}
