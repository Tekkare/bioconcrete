{
 "cells": [
  {
   "cell_type": "markdown",
   "metadata": {},
   "source": [
    "# concrete.biopython, practical applications\n",
    "\n",
    "**concrete.biopython** is a **FHE** library based on python [**biopython**](https://biopython.org/) library. It implements the same objects and functions when they are compatible with fhe.\n",
    "\n",
    "In bioinformatics, the most basic object is the **sequence**. Sequences generally represent **DNA** and **RNA** strands, or **proteins** which are **amino acids** strands. Bioinformatics computations are most often processings of such sequences. This tutorial presents some basic processing algorithms on sequences, in **FHE**. Indeed, as data is often very sensitive in bioinformatics, using **FHE** guarantees end to end privacy of the data and of its processing.  \n",
    "\n",
    "Some applications are inspired from this python bioinformatics [tutorial](https://github.com/mrdbourke/coursera_bioinformatics_and_genetic_algorithm_experiment/blob/master/coursera-bioinformatics-content-and-genetic-algorithm-experiment.ipynb). We will first see how to make reusable code to easily generate circuits that can be used for different applications. Then we will see the applications themselves. We will display beforehand the difficulty level of each application.\n",
    "\n",
    "\n",
    "\n",
    "## I. Setting up FHE for practical applications\n",
    "\n",
    "Before presenting the algorithms, we will set up some reusable code that will help us for each application later. Given a sequence processing function and a list biopython <span style=\"color:green\">**Seq**</span> objects, our reusable code should allow to:\n",
    "\n",
    "**i.** Preprocess the list of sequences so as to convert it into a single integer array that will be the circuit's input.  \n",
    "\n",
    "**ii.** Generate automatically a circuit adapted to the length of our input and using a given sequence processing function.  \n",
    "\n",
    "**iii.** Run the circuit and measure performance on given input.\n",
    "\n",
    "### Imports\n",
    "First of all, we need to import **numpy** and **concrete.fhe**, as well as <span style=\"color:green\">**Seq**</span>  from **Bio.Seq**.\n",
    "Then we import <span style=\"color:orange\">**FheSeq**</span> from **concrete_biopython.FheSeq**, and also **SeqWrapper.**<span style=\"color:#5CC8FF\">**SeqWrapper**</span> which will allow to interface the two librairies.\n",
    "\n",
    "You can check out the quickstart tutorial presenting these objects in more details. Here, we will follow a similar route than in the quickstart to interface **Bio.Seq** and **concrete_biopython.FheSeq** objects."
   ]
  },
  {
   "cell_type": "code",
   "execution_count": 22,
   "metadata": {},
   "outputs": [],
   "source": [
    "import numpy as np\n",
    "from concrete import fhe\n",
    "from Bio.Seq import Seq, MutableSeq\n",
    "\n",
    "import sys, os, time\n",
    "sys.path.append(os.path.dirname(os.getcwd()))\n",
    "\n",
    "from concrete_biopython.FheSeq import FheSeq, FheMutableSeq\n",
    "from concrete_biopython.SeqWrapper import SeqWrapper"
   ]
  },
  {
   "cell_type": "markdown",
   "metadata": {},
   "source": [
    "### i. Sequence preprocessing\n",
    "\n",
    "As in the quickstart tutorial, we will need to convert <span style=\"color:green\">**Seq**</span> objects from outside FHE to <span style=\"color:orange\">**FheSeq**</span> objects inside the FHE circuit.  \n",
    "\n",
    "For each practical application, we will have different numbers of <span style=\"color:green\">**Seq**</span> objects to encrypt and process. In order to be able to reuse our code for these multiple applications, we can merge these sequences into one long sequence, so that our circuit takes only one input sequence every time.\n",
    "\n",
    "Let's define a `concat_sequences` function that concatenates a list of sequences and returns the concatenated sequence, along with indices to be able to slice concatenated sequence back later. Let's also define the reverse function `slice_sequence` to slice back a long sequence into several sequences:"
   ]
  },
  {
   "cell_type": "code",
   "execution_count": 23,
   "metadata": {},
   "outputs": [
    {
     "name": "stdout",
     "output_type": "stream",
     "text": [
      "ABCDEF\n",
      "[Seq('AB'), Seq('C'), Seq('DEF')]\n"
     ]
    }
   ],
   "source": [
    "def concat_sequences(seqs):\n",
    "    \"\"\"\n",
    "    Concatenate a list of Seq or FheSeq sequences, and records their indices as slice objects.\n",
    "    \"\"\"\n",
    "    seq= seqs[0]\n",
    "    index=len(seqs[0])\n",
    "    slices=[slice(0,index)]\n",
    "    for i in range(1, len(seqs)):\n",
    "        seq += seqs[i] # Seq objects can be directly added\n",
    "        slices.append(slice(index, index+len(seqs[i])))\n",
    "        index+=len(seqs[i])\n",
    "    return seq, slices\n",
    "\n",
    "def slice_sequence(seq, slices):\n",
    "    \"\"\"\n",
    "    Slice a long sequence into its original sub-sequences\n",
    "    \"\"\"\n",
    "    seqs=[]\n",
    "    index=0\n",
    "    for ind in slices:\n",
    "        seqs.append(seq[ind.start:ind.stop])\n",
    "    return seqs\n",
    "\n",
    "# Testing the functions\n",
    "SEQ, INDICES = concat_sequences([Seq('AB'), Seq('C'), Seq('DEF')])\n",
    "print(SEQ)\n",
    "print(slice_sequence(SEQ, INDICES))"
   ]
  },
  {
   "cell_type": "markdown",
   "metadata": {},
   "source": [
    "### ii. Making a circuit factory\n",
    "\n",
    "We want to make a circuit factory so that for each application later, we can simply provide a core sequence processing function and provide it to the factory that will generate a circuit from it. We will even wrap this circuit to be able to work with <span style=\"color:green\">**Seq**</span> objects inputs instead of integer arrays inputs.\n",
    "\n",
    "The core function will be named `process_sequence`, taking a sequence and returning the result of some processing algorithm. We want a function that can work on both clear or encrypted data, so we also provide it with the library **numpy** or **concrete.fhe** for when there are differences in the processing. For now, we define a simple processing function for the example, that outputs wether two sequences are identical. It slices the input sequence into sub-sequences, and then compares the two firsts.  \n",
    "\n",
    "Then, let's make a `circuit_factory` returning a circuit compiled on a given sequence processing function, and adapted for a given input sequence: the inputset is adapted to the sequence length and to the letters present in the sequence, which allows faster and more precise FHE computations. Note that the integer array input `data` is first converted into a <span style=\"color:orange\">**FheSeq**</span> objects so that the sequence processing function can work on it the same way it works on <span style=\"color:green\">**Seq**</span> objects:"
   ]
  },
  {
   "cell_type": "code",
   "execution_count": 24,
   "metadata": {},
   "outputs": [
    {
     "name": "stdout",
     "output_type": "stream",
     "text": [
      "Python: Are the first two sequences equal ?:  False\n"
     ]
    }
   ],
   "source": [
    "def process_sequence(seq):\n",
    "    \"\"\"\n",
    "    Check wether the two first subsequences of the list are identical\n",
    "    This is a dummy function for testing, we will redefine it for each application later\n",
    "    \"\"\"\n",
    "    seqlist = slice_sequence(seq, INDICES)\n",
    "    return seqlist[0]==seqlist[1]\n",
    "\n",
    "def circuit_factory(seq, process_seq):\n",
    "    \"\"\"\n",
    "    Return a circuit compiled on 'process_seq' adapted for the sequence 'seq'\n",
    "    \"\"\"\n",
    "    compiler = fhe.Compiler(lambda data: process_seq(FheSeq(data)), {\"data\": \"encrypted\"})    \n",
    "    return compiler.compile(\n",
    "        inputset=[\n",
    "        # Use SeqWrapper.maxInteger() to know the maximum integer that can be\n",
    "        # used to represent a character in FheSeq obects\n",
    "        np.random.randint(0, SeqWrapper.maxInteger()+1, size=(len(seq),))\n",
    "        for _ in range(300)\n",
    "        ],\n",
    "        configuration=fhe.Configuration(\n",
    "            enable_unsafe_features=True,\n",
    "            use_insecure_key_cache=True,\n",
    "            insecure_key_cache_location=\".keys\",\n",
    "            dataflow_parallelize=False,\n",
    "        ),\n",
    "        verbose=False,\n",
    "    )\n",
    "\n",
    "# Test process_sequence\n",
    "OUTPUT_PYTHON = process_sequence(SEQ)\n",
    "print(\"Python: Are the first two sequences equal ?: \", OUTPUT_PYTHON)"
   ]
  },
  {
   "cell_type": "markdown",
   "metadata": {},
   "source": [
    "### iii. Running the circuit and measuring performance\n",
    "\n",
    "As we wish to compare the performance of different circuit, we will use the `measure_time` function which will execute a function on given inputs and display the computation time.  \n",
    "\n",
    "Then, we make a `circuit_wrapper` that allows to run a circuit onto a <span style=\"color:green\">**Seq**</span> object, using the <span style=\"color:#5CC8FF\">**SeqWrapper**</span>**.toIntegers** function. Here, we will need the wrapper to return **integer outputs**, but we could have converted them back into a <span style=\"color:green\">**Seq**</span> object if needed using <span style=\"color:#5CC8FF\">**SeqWrapper**</span>**.toSeq**. We measure and display the times for compiling, encrypting, and running.  \n",
    "\n",
    "Finally, in order to keep reusing code, we can pack the actual making and running of a circuit in a function, along with printing the output and displaying computation time in `compute_fhe_output`:"
   ]
  },
  {
   "cell_type": "code",
   "execution_count": 25,
   "metadata": {},
   "outputs": [],
   "source": [
    "def measure_time(function, descripton, *inputs):\n",
    "    \"\"\"\n",
    "    Compute a function on inputs and return output along with duration\n",
    "    \"\"\"\n",
    "    start = time.time()\n",
    "    output = function(*inputs)\n",
    "    end = time.time()\n",
    "    print(f\"|  {descripton} : {end-start:.2f} s  |\")\n",
    "    return output\n",
    "\n",
    "def circuit_wrapper(circuit, seq):\n",
    "    \"\"\"\n",
    "    Wrap a FHE circuit in order to input Bio.Seq objects\n",
    "    \"\"\"\n",
    "    # Convert Seq object to integers with SeqWrapper.toIntegers\n",
    "    integers = SeqWrapper.toIntegers(seq)\n",
    "    # Run the circuit on integer inputs\n",
    "    encrypted = measure_time(circuit.encrypt, 'Encrypting', integers)\n",
    "    run = measure_time(circuit.run,'Running   ', encrypted)\n",
    "    integer_output = circuit.decrypt(run)\n",
    "    # Return the integers output\n",
    "    return integer_output\n",
    "    # Alternatively, one could return a Seq objects with: return SeqWrapper.toSeq(integer_output)\n",
    "    \n",
    "def compute_fhe_output(seq, process_seq, description, res=False):\n",
    "    \"\"\"\n",
    "    Pack up the creation and running of a circuit,\n",
    "    and display the result along with the computation times\n",
    "    \"\"\"\n",
    "    # First print the description and a waiting message\n",
    "    print(description)\n",
    "    print(\"Computing ...\", end=\"\", flush=True)\n",
    "    print(\"\\r\", end=\"\")\n",
    "    \n",
    "    # Make computations and print output and time\n",
    "    wrapped_circuit = measure_time(circuit_factory, 'Compiling ', seq, process_seq)\n",
    "    output_fhe = circuit_wrapper(wrapped_circuit, seq)\n",
    "    \n",
    "    print('==> Result :', output_fhe, '\\n')\n",
    "\n",
    "    # In case we need the result\n",
    "    if res:\n",
    "        return output_fhe"
   ]
  },
  {
   "cell_type": "markdown",
   "metadata": {},
   "source": [
    "That's it ! Before starting our first practical application, we can try out this code on our test sequence and processing function defined earlier, checking homomorphically wether the two first sequences of the list are identical:"
   ]
  },
  {
   "cell_type": "code",
   "execution_count": 26,
   "metadata": {},
   "outputs": [
    {
     "name": "stdout",
     "output_type": "stream",
     "text": [
      "FHE: Are the first two sequences equal ?:\n",
      "|  Compiling  : 0.35 s  |\n",
      "|  Encrypting : 0.00 s  |\n",
      "|  Running    : 0.00 s  |\n",
      "==> Result : 0 \n",
      "\n"
     ]
    }
   ],
   "source": [
    "# Compute our simple process_sequence function in FHE on our test sequence:\n",
    "compute_fhe_output(SEQ, process_sequence, description='FHE: Are the first two sequences equal ?:')"
   ]
  },
  {
   "cell_type": "markdown",
   "metadata": {},
   "source": [
    "\n",
    "## II. Computing the distance between two sequences\n",
    "\n",
    "As a first application, we will compute in FHE the **distance between two sequences**. A distance between two sequences **A** and **B** is a function that measures their similarity and obeys the following conditions:\n",
    "- If A = B, then *distance(A,B)=0*\n",
    "- If A ≠ B, then *distance(A,B)>0*\n",
    "- For all sequences A and B, *distance(A,B) = distance(B,A)*\n",
    "- For all sequences A,B, and C, *distance(A,C) <= distance(A,B) + distance(B,C)*\n",
    "\n",
    "Computing the distance between two biological sequences, for instance **DNA** strands, is often used in bioinformatics as a measure of similarity. We will see here the [**hamming distance**](https://en.wikipedia.org/wiki/Hamming_distance) and the [Levenshtein distance](https://en.wikipedia.org/wiki/Levenshtein_distance).\n",
    "\n",
    "### Hamming distance \n",
    "\n",
    "( difficulty level: *easy* )\n",
    "\n",
    "The **hamming distance** between two sequences of **same length** is simply the number of positions where the two sequences are different. It is often used in bioinformatics to measure the similarity of biological sequences of same length such as **DNA** strands.  \n",
    "\n",
    "Let's define the `hamming` function which computes this distance between two arrays. The `hamming_adapter` allows to adapt inputs from either <span style=\"color:green\">**Seq**</span> or <span style=\"color:orange\">**FheSeq**</span> objects:"
   ]
  },
  {
   "cell_type": "code",
   "execution_count": 64,
   "metadata": {},
   "outputs": [],
   "source": [
    "def hamming(arr1, arr2):\n",
    "    \"\"\"\n",
    "    Return the number of differences between arrays arr1 and arr2\n",
    "    \"\"\"\n",
    "    if arr1.size != arr2.size:\n",
    "        raise ValueError('arrays must have same size')\n",
    "        \n",
    "    return np.sum(arr1 != arr2)\n",
    "\n",
    "def hamming_adapter(seq1, seq2):\n",
    "    \"\"\"\n",
    "    Adapter for hamming distance of Seq objects\n",
    "    Convert Seq or FheSeq objects into integer arrays\n",
    "    \"\"\"\n",
    "    if isinstance(seq1, FheSeq):\n",
    "        return hamming(seq1.toArray(),seq2.toArray())\n",
    "    elif isinstance(seq1, Seq):\n",
    "        return hamming(np.array(list(str(seq1))), np.array(list(str(seq2))))\n",
    "    else:\n",
    "        return NotImplemented"
   ]
  },
  {
   "cell_type": "markdown",
   "metadata": {},
   "source": [
    "Let's measure the distance between two short strands of **DNA**, both in python and FHE:"
   ]
  },
  {
   "cell_type": "code",
   "execution_count": 21,
   "metadata": {},
   "outputs": [
    {
     "name": "stdout",
     "output_type": "stream",
     "text": [
      "Python: Haming distance of S & T: 10\n",
      "FHE: Haming distance of S & T:\n",
      "|  Compiling  : 0.43 s  |\n",
      "|  Encrypting : 0.14 s  |\n",
      "|  Running    : 3.03 s  |\n",
      "==> Result : 10 \n",
      "\n"
     ]
    },
    {
     "name": "stderr",
     "output_type": "stream",
     "text": [
      "WARNING: The generated random seed is not crypto secure\n",
      "WARNING: The generated random seed is not crypto secure\n"
     ]
    }
   ],
   "source": [
    "S = Seq(\"AGGTTGGTAAAATGGTCCGTGGC\")\n",
    "T = Seq(\"ACCGTAATAAACGTGTCCGTTGG\")\n",
    "\n",
    "SEQ_H, INDICES_H = concat_sequences([S,T])\n",
    "\n",
    "def process_sequence(seq):\n",
    "    seqlist = slice_sequence(seq, INDICES_H)\n",
    "    return hamming_adapter(seqlist[0],seqlist[1])\n",
    "\n",
    "# run the circuit in python\n",
    "OUTPUT_PYTHON = process_sequence(SEQ_H)\n",
    "print('Python: Haming distance of S & T:', OUTPUT_PYTHON)\n",
    "\n",
    "# run the circuit in FHE and compare the results\n",
    "compute_fhe_output(SEQ_H, process_sequence, description='FHE: Haming distance of S & T:')\n"
   ]
  },
  {
   "cell_type": "markdown",
   "metadata": {},
   "source": [
    "The distance is relatively fast to compute in FHE because it is a simple algorithm."
   ]
  },
  {
   "cell_type": "markdown",
   "metadata": {},
   "source": [
    "### Levenshtein distance\n",
    "\n",
    "( difficulty level: *medium* )\n",
    "\n",
    "The **Levenshtein distance** between two sequences is a bit more complex to compute. It measures **the number of simple operations** needed to transform a sequence into another one. These three simple operations are the **deletion** of an element, the **addition** of an element, and the **swapping** of two different elements. Check out the pseudo-code algorithm at: [Levenshtein distance](https://en.wikipedia.org/wiki/Levenshtein_distance).\n",
    "\n",
    "This distance is also sometimes used in bioinformatics to measure the similarity of biological sequences with different length.\n",
    "\n",
    "Again, we define the `levenshtein` function in a recursive fashion (the recursion is in python, but the compiled graph will not be recursive in FHE), as well as a `levenshtein_adapter` to adapt inputs. Note that in `levenshtein` function, we use an **if** condition. While this is forbidden in FHE on encrypted variables, in this case the condition is allowed because it concerns the size of the arrays which is not encrypted.  \n",
    "\n",
    "However, contrary to the original algorithm where the condition `(arr1[0] == arr2[0])` will stop the computation of the corresponding recursion branch if it is true, the FHE algorithm needs to run both branches of the computation. Indeed, the result of the condition being encrypted, both branches will run which will greatly slow the computation."
   ]
  },
  {
   "cell_type": "code",
   "execution_count": 22,
   "metadata": {},
   "outputs": [
    {
     "name": "stdout",
     "output_type": "stream",
     "text": [
      "Python: Levenshtein distance of S & T: 2\n"
     ]
    }
   ],
   "source": [
    "def min_two(x, y):\n",
    "    \"\"\"\n",
    "    Return the minimum between a and b using a boolean mutliplication\n",
    "    \"\"\"    \n",
    "    x_lt_y = x<y\n",
    "    return x_lt_y*x + (1-x_lt_y)*y\n",
    "\n",
    "def min_three(a, b, c):\n",
    "    return min_two(a,min_two(b,c))\n",
    "\n",
    "def levenshtein(arr1, arr2):\n",
    "    \"\"\"\n",
    "    Compute the Levenshtein distance between two array objects\n",
    "    \"\"\"\n",
    "    if arr2.size == 0:\n",
    "        return fhe.ones(1)[0]*arr1.size\n",
    "    elif arr1.size == 0:\n",
    "        return fhe.ones(1)[0]*arr2.size\n",
    "    else:\n",
    "        iseq0 = (arr1[0] == arr2[0])\n",
    "        lev1 = levenshtein(arr1[1:], arr2[1:])\n",
    "        lev2 = levenshtein(arr1[1:], arr2)\n",
    "        lev3 = levenshtein(arr1, arr2[1:])\n",
    "        minlev = min_three(lev1, lev2, lev3)\n",
    "        return iseq0*lev1 + (1-iseq0)*(1+minlev)\n",
    "\n",
    "def levenshtein_adapter(seq1, seq2):\n",
    "    \"\"\"\n",
    "    Adapter for levenshtein distance of sequence objects\n",
    "    Convert Seq or FheSeq objects into integer arrays\n",
    "    \"\"\"\n",
    "    if isinstance(seq1, FheSeq):\n",
    "        return levenshtein(seq1.toArray(),seq2.toArray())\n",
    "    elif isinstance(seq1, Seq):\n",
    "        return levenshtein(np.array(list(str(seq1))), np.array(list(str(seq2))))\n",
    "    else:\n",
    "        return NotImplemented\n",
    "    \n",
    "S = Seq(\"ACGT\")\n",
    "T = Seq(\"CGTA\")\n",
    "\n",
    "SEQ_L, INDICES_L = concat_sequences([S,T])\n",
    "\n",
    "def process_sequence(seq):\n",
    "    seqlist = slice_sequence(seq, INDICES_L)\n",
    "    return levenshtein_adapter(seqlist[0],seqlist[1])\n",
    "\n",
    "OUTPUT_PYTHON = process_sequence(SEQ_L)\n",
    "print('Python: Levenshtein distance of S & T:', OUTPUT_PYTHON)"
   ]
  },
  {
   "cell_type": "markdown",
   "metadata": {},
   "source": [
    "Let's test this distance on very small DNA strands inputs:"
   ]
  },
  {
   "cell_type": "code",
   "execution_count": 23,
   "metadata": {},
   "outputs": [
    {
     "name": "stdout",
     "output_type": "stream",
     "text": [
      "FHE: Levenshtein distance of S & T:\n",
      "|  Compiling  : 19.35 s  |\n",
      "|  Encrypting : 0.24 s  |\n",
      "|  Running    : 22.98 s  |\n",
      "==> Result : 2 \n",
      "\n"
     ]
    },
    {
     "name": "stderr",
     "output_type": "stream",
     "text": [
      "WARNING: The generated random seed is not crypto secure\n",
      "WARNING: The generated random seed is not crypto secure\n"
     ]
    }
   ],
   "source": [
    "compute_fhe_output(SEQ_L, process_sequence, description='FHE: Levenshtein distance of S & T:')"
   ]
  },
  {
   "cell_type": "markdown",
   "metadata": {},
   "source": [
    "The computation is relatively quite **long**. Why is that ?  \n",
    "\n",
    "The function is quite complex compared to the hamming distance, and also it requires to run all conditional branches in the recursive computation. This makes the computation time grow exponentially with regard to the input length. Also, recall that we did earlier in `circuit_factory`:\n",
    "```python\n",
    "inputset=[\n",
    "    np.random.randint(0, SeqWrapper.maxInteger()+1, size=(len(seq),))\n",
    "    for _ in range(100)\n",
    "],\n",
    "```\n",
    "This inputset is made with values ranging from `0` to `SeqWrapper.maxInteger()`, which gives the size of the total alphabet of possible letters encoded as integers in <span style=\"color:orange\">**FheSeq**</span> objects. When we are dealing only with few letters, such as DNA/RNA letters, a lot of letters are unused, and so their encoding has a bigger bitwidth and complexity than necessary.\n",
    "\n",
    "To improve the speed of both encryption and computation, we can specify to the class <span style=\"color:#5CC8FF\">**SeqWrapper**</span> what alphabet we will be using in our sequences with <span style=\"color:#5CC8FF\">**SeqWrapper**</span>**.setAlphabet**. This will optimize the integer representation to work only for the provided letters. In our case, we want to work only with **DNA** upper case letters:"
   ]
  },
  {
   "cell_type": "code",
   "execution_count": 24,
   "metadata": {},
   "outputs": [
    {
     "name": "stdout",
     "output_type": "stream",
     "text": [
      "FHE: Levenshtein distance of S & T:\n",
      "|  Compiling  : 21.24 s  |\n",
      "|  Encrypting : 0.05 s  |\n",
      "|  Running    : 5.61 s  |\n",
      "==> Result : 2 \n",
      "\n"
     ]
    },
    {
     "name": "stderr",
     "output_type": "stream",
     "text": [
      "WARNING: The generated random seed is not crypto secure\n",
      "WARNING: The generated random seed is not crypto secure\n"
     ]
    }
   ],
   "source": [
    "# Reduce the alphabet to DNA/RNA uppercase letters\n",
    "SeqWrapper.setAlphabet('ACGTU')\n",
    "\n",
    "# Let's run the computation again (the SeqWrapper.maxInteger will be changed in circuit_factory ):\n",
    "compute_fhe_output(SEQ_L, process_sequence, description='FHE: Levenshtein distance of S & T:')\n",
    "\n",
    "# Reset alphabet\n",
    "SeqWrapper.resetAlphabet()"
   ]
  },
  {
   "cell_type": "markdown",
   "metadata": {},
   "source": [
    "As we can see, the encryption time and particularly the running time are better now. Be aware than setting an alphabet with <span style=\"color:#5CC8FF\">**SeqWrapper**</span>**.setAlphabet** will affect the <span style=\"color:orange\">**FheSeq**</span> internal representation which also uses the class <span style=\"color:#5CC8FF\">**SeqWrapper**</span>, so if the new alphabet does not include protein letters for instance, the <span style=\"color:orange\">**FheSeq**</span>.**translate** function will raise an error."
   ]
  },
  {
   "cell_type": "markdown",
   "metadata": {},
   "source": [
    "\n",
    "## III. Finding the origin of replication in a sequence\n",
    "\n",
    "( difficulty level: *medium* )\n",
    "\n",
    "As a second application, we will look in FHE for the [**origin of replication**](https://en.wikipedia.org/wiki/Origin_of_replication) in a DNA strand. The **origin of replication** (also called the **replication origin**) is a particular sequence in a genome at which **replication** is initiated, used when a cell divides. This area of the genome sometimes needs to be analyzed, but it needs to be found first.  \n",
    "\n",
    "In most area of DNA genomes, there is an equal proportion of nucleotides **'A'** (adenine), **'C'** (cytosine), **'G'** (guanine) and **'T'** (thymine). However, around the **origin of replication**, the proportion of guanine and thymine (G and T) **is greater** than the proportion of adenine and cytosine (A et C). This particularity is helpful to find the approximate localisation of the origin of replication.  \n",
    "\n",
    "In the function `minimum_skew` we take a look at the ratio between letter 'G' to letter 'C', to retrieve the location in the strand where this ratio is minimal. To that extent, we first create a lookup table to map letters 'G' to a 1 and letters 'C' to a -1, the other letters 'A' and 'T' being mapped to 0. Then, we sum up the values throughout the sequences, and keep the first index of the minimum value of this cumulated sum. We also return the whole cumulated sum array for plotting."
   ]
  },
  {
   "cell_type": "code",
   "execution_count": 25,
   "metadata": {},
   "outputs": [],
   "source": [
    "def minimum_skew(seq):\n",
    "    \"\"\"\n",
    "    Return the index of the minimum skew in a sequence\n",
    "    Note: Only the first index of minimum skew is returned\n",
    "    \"\"\" \n",
    "    # First, create a lookup table to map G to 1 and C to -1\n",
    "    if isinstance(seq, FheSeq):\n",
    "        CG_integers = SeqWrapper.toIntegers(Seq('CG'))\n",
    "        letter_table = [0]*(SeqWrapper.maxInteger()+1)\n",
    "        letter_table[CG_integers[0]]=-1\n",
    "        letter_table[CG_integers[1]]=1\n",
    "        letter_table = fhe.LookupTable(letter_table)\n",
    "        skew_counts = fhe.zeros(len(seq))\n",
    "    elif isinstance(seq, Seq):\n",
    "        letter_table = {'A':0, 'C':-1, 'G':1, 'T':0}\n",
    "        skew_counts = np.zeros(len(seq)).astype('int')\n",
    "    else:\n",
    "        return NotImplemented\n",
    "    \n",
    "    # Then compute the cumulated sum and keep the first index of the minimum\n",
    "    skew_counts[0] = letter_table[seq[0]]\n",
    "    minimum = skew_counts[0]\n",
    "    min_index = 0\n",
    "    for i in range(1,len(seq)):\n",
    "        # Compute cumulated sum\n",
    "        skew_counts[i] = skew_counts[i-1] + letter_table[seq[i]]\n",
    "        # and keep minimum\n",
    "        ismin = (skew_counts[i]<minimum)\n",
    "        minimum = min_two(skew_counts[i], minimum)\n",
    "        min_index = i*ismin + min_index*(1-ismin)\n",
    "        \n",
    "    return min_index, skew_counts\n"
   ]
  },
  {
   "cell_type": "markdown",
   "metadata": {},
   "source": [
    "As mentioned, the function will only output the first index where the minimum value is reached. This is a limitation of FHE. It is indeed not possible to retrieve an arbitrary number of locations in FHE, for instance to return a list with all indices where the minimum is reached. We could however return an array of the size of the sequence containing ones where the minimum is reached, or, with very extensive computations, containing the indices of the minimum followed by zeros.  \n",
    "\n",
    "Another limitation here is the size of the sequence. If the size becomes too long, the values in `skew_counts` may become larger than the maximum capacity of FHE integers that have limited bitwidth. But this could be overcome with counting trick such as splitting the hundreds or thousands in a separate counter variable. \n",
    "\n",
    "Let's test our function on a clear sequence, and plot the cumulated sum of 'C' letters minus 'G' letters. Then we test it with encrypted data:"
   ]
  },
  {
   "cell_type": "code",
   "execution_count": 26,
   "metadata": {
    "scrolled": true
   },
   "outputs": [
    {
     "name": "stdout",
     "output_type": "stream",
     "text": [
      "Python: The minimum skew is at index: 18\n"
     ]
    },
    {
     "data": {
      "image/png": "[encoded data removed]",
      "text/plain": [
       "<Figure size 640x480 with 1 Axes>"
      ]
     },
     "metadata": {},
     "output_type": "display_data"
    }
   ],
   "source": [
    "SEQ_O = Seq('AGTGACGTAGCACATCCACGAGGTG')\n",
    "\n",
    "OUTPUT_PYTHON, skew_counts = minimum_skew(SEQ_O)\n",
    "print('Python: The minimum skew is at index:', OUTPUT_PYTHON)\n",
    "\n",
    "# Plot the skew_counts to check them out\n",
    "import matplotlib.pyplot as plt\n",
    "plt.plot(skew_counts)\n",
    "plt.ylabel('Skew Counts')\n",
    "_=plt.xlabel('Index of DNA')\n"
   ]
  },
  {
   "cell_type": "code",
   "execution_count": 27,
   "metadata": {},
   "outputs": [
    {
     "name": "stdout",
     "output_type": "stream",
     "text": [
      "FHE: The minimum skew is at index:\n",
      "|  Compiling  : 3.66 s  |\n",
      "|  Encrypting : 0.47 s  |\n",
      "|  Running    : 32.07 s  |\n",
      "==> Result : 18 \n",
      "\n"
     ]
    },
    {
     "name": "stderr",
     "output_type": "stream",
     "text": [
      "WARNING: The generated random seed is not crypto secure\n",
      "WARNING: The generated random seed is not crypto secure\n"
     ]
    }
   ],
   "source": [
    "def process_sequence(seq):\n",
    "    return minimum_skew(seq)[0] # return only the minimum value for fhe\n",
    "\n",
    "compute_fhe_output(SEQ_O, process_sequence, description='FHE: The minimum skew is at index:')"
   ]
  },
  {
   "cell_type": "markdown",
   "metadata": {},
   "source": [
    "## IV. Sorting sequences\n",
    "\n",
    "### Comparing two sequences:\n",
    "\n",
    "As we already saw, <span style=\"color:green\">**Seq**</span> and <span style=\"color:orange\">**FheSeq**</span> classes implement some operators such as **len(**seq**)**, seq**[i:j]**,  or s1**==**s2. They also implement the comparison operators s1 **>** s2, s1 **>=** s2 and their opposite s1 **<** s2, s1 **<=** s2.  \n",
    "\n",
    "For the <span style=\"color:green\">**Seq**</span> class, a sequence **A** is lower than another sequence **B** (noted *A<B*) if **A** is alphabetically lower than **B** (and not equal to B). The first character is compared first:  \n",
    "- If *A[0] < B[0]* then *A < B*\n",
    "- Else, if *A[0] > B[0]* then *A > B*\n",
    "- Else, *A[0] = B[0]*, so the second character is compared, and so on.  \n",
    "\n",
    "For instance, `Seq('AB')` is lower than `Seq('AC')`. Also, `Seq('AA')` is lower than the `Seq('AAA')` because the empty character at the end is considered alphabetically lower than all other characters. The <span style=\"color:orange\">**FheSeq**</span> class works with the same principle. Comparing two sequences in alphabetical order is sometimes used inside bigger bioinformatics algorithms. If you need element wise comparison between <span style=\"color:orange\">**FheSeq**</span> objects instead, use `A.toArray() > B.toArray()`.\n",
    "\n",
    "### Ranking a list of sequences:\n",
    "\n",
    "( difficulty level: *medium* )\n",
    "\n",
    "With such comparison operators, we are able to sort a list of sequences. On clear data, it is possible to use `sorted(sequence_list)` to sort a list of sequences, but in FHE, this is impossible for sequences of different lenghts. Indeed, `sorted()` uses **if** conditions to order the sequences in a new **list** object. In FHE, because **if** conditions are forbidden, we cannot create a new ordered list. However, we can create an array where each index contains the rank of the sequence at this index.  \n",
    "\n",
    "To do so, we can build a comparison matrix. Suppose our list of sequences is the following : `seqlist = ['CAA', 'AAB', 'CAA', 'AA', 'AAA']`, and we want an ascending ranking. In our comparison matrix, we will compute `comp_matrix[i,j] = seqlist[i]<seqlist[j]` when `i<j`(upper half), and `seqlist[i]>=seqlist[j]` equal to `1-comp_matrix[i,j]` when `j<i` (lower half).  \n",
    "\n",
    "Then, we can sum up the results on each row to get how many other sequences are lower than the sequence of the row, which gives exactly the ranking of this sequence in the list. Note that even though two identical sequences are provided, they get each a different rank, which is preferable (this is because we used `seqlist[i]>=seqlist[j]` instead of `seqlist[i]>seqlist[j]`).\n",
    "\n",
    "<div>\n",
    "<img src=\"https://rcd-media.com/docs/fhe/tableau_sort.png\" width=\"750\"/>\n",
    "</div>"
   ]
  },
  {
   "cell_type": "code",
   "execution_count": 28,
   "metadata": {},
   "outputs": [],
   "source": [
    "def rank_sequences(seqlist, ascending=True):\n",
    "    \"\"\"\n",
    "    Returns an array with the rank of each sequence in the list\n",
    "    \"\"\"\n",
    "    n=len(seqlist)\n",
    "    \n",
    "    # Create a comparison matrix\n",
    "    comp_matrix = fhe.zeros((n,n)) # this works in regular python as well\n",
    "    \n",
    "    # Fill the matrix with comparison results\n",
    "    for i in range(0, n):\n",
    "        for j in range(i+1, n):\n",
    "            # Compute upper half of the matrix with seqlist[i]<seqlist[j]\n",
    "            if ascending:\n",
    "                comp_matrix[i,j] = (seqlist[i]<seqlist[j])\n",
    "            else:\n",
    "                comp_matrix[i,j] = (seqlist[i]>=seqlist[j])\n",
    "                \n",
    "            # Then fill the contrary to the lower half \n",
    "            comp_matrix[j,i] = 1-comp_matrix[i,j]\n",
    "            \n",
    "            # Note: 1-comp_matrix[i,j] is the same as seqlist[j]>=seqlist[i] (for ascending)\n",
    "            # Using seqlist[j]>=seqlist[i] instead of seqlist[j]>seqlist[i]\n",
    "            # will return a clear order, with different ranks even for\n",
    "            # equal sequences. Also, this is faster.\n",
    "            \n",
    "    # now sum up each row to get a sorting rank for the sequences\n",
    "    return np.sum(comp_matrix, axis=0)\n",
    "            \n",
    "     \n",
    "def process_sequence(seq):\n",
    "    seqlist = slice_sequence(seq, INDICES_S)\n",
    "    return rank_sequences(seqlist)"
   ]
  },
  {
   "cell_type": "markdown",
   "metadata": {},
   "source": [
    "Let's test this algorithm on the example sequence list:"
   ]
  },
  {
   "cell_type": "code",
   "execution_count": 29,
   "metadata": {},
   "outputs": [
    {
     "name": "stdout",
     "output_type": "stream",
     "text": [
      "Sorted list: [Seq('AA'), Seq('AAA'), Seq('AAB'), Seq('CAA'), Seq('CAA')]\n",
      "\n",
      "The ranks of sequences are : [4 2 3 0 1]\n"
     ]
    }
   ],
   "source": [
    "# Test the sequence list of the example\n",
    "SEQ1 = Seq('AA')\n",
    "SEQ2 = Seq('AAA') # as mentioned earlier, SEQ2 is alphabetically greater than SEQ1\n",
    "SEQ3 = Seq('AAB')\n",
    "SEQ4 = Seq('CAA')\n",
    "SEQ5 = Seq('CAA') # same a SEQ4, will be ranked after it\n",
    "\n",
    "# Create a shuffled list, like in the example\n",
    "seqlist = [SEQ5, SEQ3, SEQ4, SEQ1, SEQ2]\n",
    "# Note: the expected ranks are thus: [5 3 4 1 2], or equally: [4 2 3 0 1]\n",
    "\n",
    "# Test sorted in python to compare (remember this cannot work in FHE):\n",
    "print('Sorted list:', sorted(seqlist))\n",
    "\n",
    "# Concatenate the list\n",
    "SEQ_S, INDICES_S = concat_sequences(seqlist)\n",
    "\n",
    "# Test our algorithm in python\n",
    "OUTPUT_PYTHON = process_sequence(SEQ_S)\n",
    "print(\"\\nThe ranks of sequences are :\", OUTPUT_PYTHON)"
   ]
  },
  {
   "cell_type": "code",
   "execution_count": 30,
   "metadata": {},
   "outputs": [
    {
     "name": "stdout",
     "output_type": "stream",
     "text": [
      "FHE: The ranks of sequences are:\n",
      "|  Compiling  : 1.92 s  |\n",
      "|  Encrypting : 0.24 s  |\n",
      "|  Running    : 2.60 s  |\n",
      "==> Result : [4 2 3 0 1] \n",
      "\n"
     ]
    },
    {
     "name": "stderr",
     "output_type": "stream",
     "text": [
      "WARNING: The generated random seed is not crypto secure\n",
      "WARNING: The generated random seed is not crypto secure\n"
     ]
    }
   ],
   "source": [
    "compute_fhe_output(SEQ_S, process_sequence, description='FHE: The ranks of sequences are:')"
   ]
  },
  {
   "cell_type": "code",
   "execution_count": 31,
   "metadata": {},
   "outputs": [
    {
     "name": "stdout",
     "output_type": "stream",
     "text": [
      "The ranks of sequences are:\n",
      "|  Compiling  : 1.77 s  |\n",
      "|  Encrypting : 0.05 s  |\n",
      "|  Running    : 0.63 s  |\n",
      "==> Result : [4 2 3 0 1] \n",
      "\n"
     ]
    },
    {
     "name": "stderr",
     "output_type": "stream",
     "text": [
      "WARNING: The generated random seed is not crypto secure\n",
      "WARNING: The generated random seed is not crypto secure\n"
     ]
    }
   ],
   "source": [
    "# also test on a limited alphabet to compare\n",
    "SeqWrapper.setAlphabet('ABCDEFG')\n",
    "compute_fhe_output(SEQ_S, process_sequence, description='FHE: The ranks of sequences are:')\n",
    "SeqWrapper.resetAlphabet()"
   ]
  },
  {
   "cell_type": "markdown",
   "metadata": {},
   "source": [
    "Much faster !"
   ]
  },
  {
   "cell_type": "markdown",
   "metadata": {},
   "source": [
    "### Sorting sequences of same length:\n",
    "\n",
    "( difficulty level: *hard* )\n",
    "\n",
    "We saw that in FHE, it is impossible to sort a list for sequences of different lengths. But for sequences of identical lengths (or with adjusted length as we will see), there is a very computationally intensive way of proceeding.  \n",
    "\n",
    "When given a list `[a,b]` of two encrypted numbers **a** and **b**, we can sort them using the formula `sortedlist  = [ a*(a<b) + b*(b<a), a*(a>b) + b*(b>a) ]`. This formula uses what we can call a *boolean sum*. For two numbers, this is already computationally intensive, but it works. For a bigger list of numbers `numlist`, the same applies. Let's see how this can be done, using python for now:\n"
   ]
  },
  {
   "cell_type": "code",
   "execution_count": 32,
   "metadata": {},
   "outputs": [
    {
     "name": "stdout",
     "output_type": "stream",
     "text": [
      "sorted : [0, 2, 4, 6, 8, 10]\n"
     ]
    }
   ],
   "source": [
    "# Sorting a list of numbers\n",
    "numlist = [8,10,6,4,0,2]\n",
    "rank = rank_sequences(numlist) # the algorithm also works for any list of camparable objects\n",
    "n=len(numlist)\n",
    "\n",
    "# To sort the numbers, we simple make a boolean sum of them all that only keeps the one with the correct rank\n",
    "sortedlist = [ np.sum([numlist[k]*(i==rank[k]) for k in range(n)]) for i in range(n) ]\n",
    "print('sorted :',sortedlist)"
   ]
  },
  {
   "cell_type": "markdown",
   "metadata": {},
   "source": [
    "For a lists of elements of length `n`, we need to compute `n*n` steps of `numlist[k]*(i==rank[k])` in addition to the ranking algorithm. But recall we want to sort sequences. We can do the same for sequences by also looping on the index `j` in each sequence. When sequences have different lengths, we will first equalize their lengths by appending empty characters at the end of the shortest ones with `adjust_lenghts`."
   ]
  },
  {
   "cell_type": "code",
   "execution_count": 33,
   "metadata": {},
   "outputs": [],
   "source": [
    "def adjust_lenghts(seqlist):\n",
    "    \"\"\"\n",
    "    Append empty characters to short sequences\n",
    "    so they all have the same length\n",
    "    \"\"\"\n",
    "    lengths = [ len(s) for s in seqlist ]\n",
    "    maxlen = np.max(lengths)\n",
    "    newlist = []\n",
    "    for s in seqlist:\n",
    "        if len(s) < maxlen:\n",
    "            if isinstance(s, FheSeq):\n",
    "                s += FheSeq(fhe.zeros(maxlen-len(s)))\n",
    "            elif isinstance(s, Seq):\n",
    "                s += Seq('\\0'*(maxlen-len(s)))\n",
    "            else:\n",
    "                return NotImplemented\n",
    "        newlist.append(s)\n",
    "    \n",
    "    return newlist\n",
    "\n",
    "def sort_sequences(seqlist, ascending=True):\n",
    "    \"\"\"\n",
    "    Sort sequences\n",
    "    \"\"\"\n",
    "    # Rank the sequences\n",
    "    rank = rank_sequences(seqlist, ascending)\n",
    "    \n",
    "    # Adjust their length to be equal if needed\n",
    "    seqlist = adjust_lenghts(seqlist)\n",
    "    \n",
    "    # Create a new list to hold the result\n",
    "    n=len(seqlist)\n",
    "    m=len(seqlist[0])\n",
    "    sorted_list = []\n",
    "    \n",
    "    lib = fhe if isinstance(seqlist[0], FheSeq) else np\n",
    "    \n",
    "    # Fill the array with a boolean sum of all sequences at each row\n",
    "    for i in range(n): # i is the index of the sequence in the sorted list\n",
    "        i_eq_rank_k = rank==i\n",
    "        sorted_array = lib.zeros(m) if lib is fhe else ''\n",
    "        for j in range(m): # j is the index of the letter in the sequence\n",
    "            if lib is fhe:\n",
    "                # k is the index of a sequence in the unsorted list\n",
    "                # we could also put seqlist inside a 2d array and use a dot product here\n",
    "                sorted_array[j] = np.sum( [seqlist[k][j]*i_eq_rank_k[k] for k in range(n)] )\n",
    "            else:\n",
    "                for k in range(n):\n",
    "                    sorted_array += seqlist[k][j]*int(i_eq_rank_k[k])\n",
    "        \n",
    "        # Create sequence object from this array\n",
    "        if lib is fhe:\n",
    "            sorted_list.append(FheSeq(sorted_array))\n",
    "        else:\n",
    "            sorted_list.append(Seq(sorted_array))\n",
    "\n",
    "    # Return the list of sorted (adjusted) sequences\n",
    "    return sorted_list\n"
   ]
  },
  {
   "cell_type": "markdown",
   "metadata": {},
   "source": [
    "Now, we want to make again a `process_sequence` that will work both in python and FHE. Because `sort_sequences` returns a list of sequences, we will need to concatenate them again in FHE and return an array so it can be decrypted."
   ]
  },
  {
   "cell_type": "code",
   "execution_count": 34,
   "metadata": {},
   "outputs": [
    {
     "name": "stdout",
     "output_type": "stream",
     "text": [
      "The sorted list of sequences is:\n",
      " [Seq('AA\u0000'), Seq('AAA'), Seq('AAB'), Seq('CAA'), Seq('CAA')]\n"
     ]
    }
   ],
   "source": [
    "# Test the same sequence list\n",
    "SEQ1 = Seq('AA')\n",
    "SEQ2 = Seq('AAA')\n",
    "SEQ3 = Seq('AAB')\n",
    "SEQ4 = Seq('CAA')\n",
    "SEQ5 = Seq('CAA')\n",
    "\n",
    "seqlist = [SEQ5, SEQ3, SEQ4, SEQ1, SEQ2]\n",
    "SEQ_S, INDICES_S = concat_sequences(seqlist)\n",
    "\n",
    "def process_sequence(seq):\n",
    "    seqlist = slice_sequence(seq, INDICES_S)\n",
    "    sorted_list = sort_sequences(seqlist)\n",
    "    if isinstance(seq, FheSeq):\n",
    "        newseq, _ = concat_sequences(sorted_list)\n",
    "        return newseq.toArray()\n",
    "    elif isinstance(seq, Seq):\n",
    "        return sorted_list\n",
    "    else:\n",
    "        return NotImplemented\n",
    "    \n",
    "OUTPUT_PYTHON = process_sequence(SEQ_S)\n",
    "print('The sorted list of sequences is:\\n', OUTPUT_PYTHON)"
   ]
  },
  {
   "cell_type": "code",
   "execution_count": 35,
   "metadata": {},
   "outputs": [
    {
     "name": "stdout",
     "output_type": "stream",
     "text": [
      "The sorted sequences as array is:\n",
      "|  Compiling  : 4.13 s  |\n",
      "|  Encrypting : 0.05 s  |\n"
     ]
    },
    {
     "name": "stderr",
     "output_type": "stream",
     "text": [
      "WARNING: The generated random seed is not crypto secure\n",
      "WARNING: The generated random seed is not crypto secure\n"
     ]
    },
    {
     "name": "stdout",
     "output_type": "stream",
     "text": [
      "|  Running    : 4.46 s  |\n",
      "==> Result : [1 1 0 1 1 1 1 1 2 3 1 1 3 1 1] \n",
      "\n",
      "The sorted list of sequences is:\n",
      " [Seq('AA\u0000'), Seq('AAA'), Seq('AAB'), Seq('CAA'), Seq('CAA')]\n"
     ]
    }
   ],
   "source": [
    "def slice_sequence_n(seq, n):\n",
    "    \"\"\"\n",
    "    Slice a sequence into n subsequences of equal size\n",
    "    \"\"\"\n",
    "    seqs=[]\n",
    "    index=0\n",
    "    length = len(seq)//n\n",
    "    while index < len(seq):\n",
    "        seqs.append(seq[index:index+length])\n",
    "        index+=length\n",
    "    return seqs\n",
    "\n",
    "# test again on a limited alphabet to be faster\n",
    "SeqWrapper.setAlphabet('ABCDEFG')\n",
    "sorted_seq = compute_fhe_output(SEQ_S, process_sequence, description='The sorted sequences as array is:',res=True)\n",
    "OUTPUT_FHE = [SeqWrapper.toSeq(s) for s in slice_sequence_n(sorted_seq, len(seqlist))]\n",
    "print('The sorted list of sequences is:\\n', OUTPUT_FHE)\n",
    "\n",
    "SeqWrapper.resetAlphabet()"
   ]
  },
  {
   "cell_type": "markdown",
   "metadata": {},
   "source": [
    "## V. Aligning sequences\n",
    "\n",
    "Sequence alignment algorithms are extensively employed in the field of bioinformatics to identify patterns of similarity between sequences. These algorithms come in two main types: local and global alignment. Local alignment algorithms are designed to discover optimal local matches between two sequences, such as pinpointing specific gene segments within longer gene sequences. Conversely, global alignment algorithms strive to find the best alignment across the entire length of sequences, making them suitable for comparing different versions of the same gene, for example.\n",
    "\n",
    "### Smith-Waterman algorithm\n",
    "\n",
    "( difficulty level: hard )\n",
    "\n",
    "The Smith-Waterman algorithm is a local alignement algorithm. The idea is to "
   ]
  },
  {
   "cell_type": "code",
   "execution_count": 140,
   "metadata": {},
   "outputs": [],
   "source": [
    "def max_list(l, strictly_gt=True):\n",
    "    \"\"\"\n",
    "    Return the maximum value in a list using boolean mutliplication,\n",
    "    along with the argmax (the index of the maximum)\n",
    "    \n",
    "    strictly_gt: set to True will return the first maximum found in case there are\n",
    "    several identical values, while set to False will return the last maximum\n",
    "    \"\"\"\n",
    "    maxval = l[0]\n",
    "    argmax = 0\n",
    "    for i in range(1, len(l)):\n",
    "        is_gt = l[i]>maxval if strictly_gt else l[i]>=maxval\n",
    "        maxval = is_gt*l[i] + (1-is_gt)*maxval\n",
    "        argmax = is_gt*i + (1-is_gt)*argmax\n",
    "    \n",
    "    return maxval, argmax\n",
    "\n",
    "# Assigning the constants for the scores\n",
    "# These can be changed depending on what alignement we are looking for\n",
    "class Score:\n",
    "    MATCH = 1\n",
    "    MISMATCH = -1\n",
    "    GAP = -1\n",
    "\n",
    "# Assigning the constant values for the traceback\n",
    "class Trace:\n",
    "    STOP=0\n",
    "    LEFT=1\n",
    "    UP=2\n",
    "    DIAG=3\n",
    "\n",
    "def smith_waterman(seq1, seq2, strictly_gt=True):\n",
    "    \"\"\"\n",
    "    Returns the Smith Waterman local alignment of two sequences\n",
    "    \n",
    "    strictly_gt=True will favor shorter, more exact sequences\n",
    "    while strictly_gt=False will favor longer, less exact sequences\n",
    "    \"\"\"    \n",
    "    # Generating the empty matrices for storing scores and tracing\n",
    "    row = len(seq1) + 1\n",
    "    col = len(seq2) + 1\n",
    "    matrix = fhe.zeros((row, col))\n",
    "    tracing_matrix = fhe.zeros((row, col))\n",
    "    \n",
    "    # set variables depending on python or FHE run:\n",
    "    if isinstance(seq1, FheSeq):\n",
    "        zero_val = fhe.zeros(1)[0]\n",
    "        empty_char =  SeqWrapper.LETTERS_TO_INTEGERS['\\0']\n",
    "        gap_char = SeqWrapper.LETTERS_TO_INTEGERS['-']\n",
    "        make_empty_seq = lambda x: FheMutableSeq(fhe.zeros(x))\n",
    "    elif isinstance(seq1, Seq):\n",
    "        zero_val = 0\n",
    "        empty_char = '\\0'\n",
    "        gap_char = '-'\n",
    "        make_empty_seq = lambda x: MutableSeq('\\0'*x)        \n",
    "    else:\n",
    "        return NotImplemented\n",
    "        \n",
    "    # Initialising the variables to find the highest scoring cell\n",
    "    max_score = max_i = max_j = -1\n",
    "    \n",
    "    # Calculating the scores for all cells in the matrix\n",
    "    for i in range(1, row):\n",
    "        for j in range(1, col):\n",
    "        # Note: we loop on j for clarity here, but it would be\n",
    "        # faster to compute the whole column at once with tensors\n",
    "        \n",
    "            # Calculating the diagonal score (match score)\n",
    "            is_eq = seq1[i - 1] == seq2[j - 1]\n",
    "            match_value = Score.MATCH * is_eq + Score.MISMATCH* (1-is_eq)\n",
    "            diagonal_score = matrix[i - 1, j - 1] + match_value\n",
    "            \n",
    "            # Calculating the vertical gap score\n",
    "            vertical_score = matrix[i - 1, j] + Score.GAP\n",
    "            \n",
    "            # Calculating the horizontal gap score\n",
    "            horizontal_score = matrix[i, j - 1] + Score.GAP\n",
    "            \n",
    "            # Taking the local highest score and where it comes from\n",
    "            value_list = [zero_val, horizontal_score, vertical_score, diagonal_score]\n",
    "            matrix[i, j], tracing_matrix[i, j] = max_list(value_list, strictly_gt)\n",
    "            # if some scores are identical and are the maximum value, the value tracing_matrix will\n",
    "            # depend on the parameter strictly_gt (see max_list function)\n",
    "            # tracing_matrix[i, j] = 0, 1, 2 or 3 means STOP, LEFT, UP or DIAG\n",
    "                \n",
    "            # Tracking the cell with the global maximum score\n",
    "            is_ge = matrix[i, j] >= max_score\n",
    "            not_is_ge = (1-is_ge)\n",
    "            max_i = max_i * not_is_ge + i * is_ge\n",
    "            max_j = max_j * not_is_ge + j * is_ge\n",
    "            max_score = max_score * not_is_ge + matrix[i, j] * is_ge       \n",
    "    \n",
    "    # Initialising the variables for tracing\n",
    "    len_out = max(row,col)-1\n",
    "    aligned_seq1 = make_empty_seq(len_out)\n",
    "    aligned_seq2 = make_empty_seq(len_out)\n",
    "    ind_ij = fhe.zeros((row, col))\n",
    "    \n",
    "    # Tracing and computing the pathway with the local alignment from the global maximum up\n",
    "    #  while tracing_matrix[max_i, max_j] != Trace.STOP:\n",
    "    for k in reversed(range(len_out)):\n",
    "\n",
    "        # select value in tracing_matrix at index max_i, max_j:\n",
    "        ind_i = np.arange(row)==max_i\n",
    "        ind_j = np.arange(col)==max_j\n",
    "        \n",
    "        for i in range(1, row):\n",
    "            for j in range(1, col):\n",
    "                ind_ij[i,j] = ind_i[i] & ind_j[j] # using & for binary is faster than *\n",
    "        \n",
    "        V = np.sum(tracing_matrix*ind_ij)\n",
    "\n",
    "        VSTOP = (V==Trace.STOP)*1\n",
    "        VLEFT = (V==Trace.LEFT)*1\n",
    "        VUP = (V==Trace.UP)*1\n",
    "        VDIAG = (V==Trace.DIAG)*1\n",
    "        VLEFT_or_VDIAG = VLEFT + VDIAG\n",
    "        VUP_or_VDIAG = VUP + VDIAG        \n",
    "        # Note: the *1 is just for pure python, to convert booleans into ints\n",
    "        \n",
    "        # select value in seq1 at encrypted index max_i - 1:\n",
    "        v1 = seq1[max_i-1]\n",
    "        # Note: we accessed seq1 with an encrypted index max_i-1, this is allowed by the FheSeq class\n",
    "        # but it is computationally expensive, see FheSeq.__getitem__ function \n",
    "                \n",
    "        current_aligned_char1 = (VUP_or_VDIAG)*v1 + VLEFT*gap_char + VSTOP*empty_char;\n",
    "        # Note: in FHE, one should make as few multiplications as possible for speed purpose,\n",
    "        # that's why we regrouped VDIAG + VUP here\n",
    "        \n",
    "        # select value in seq2 at encrypted index max_j - 1:\n",
    "        v2 = seq2[max_j-1]\n",
    "        current_aligned_char2 = (VLEFT_or_VDIAG)*v2 + VUP*gap_char + VSTOP*empty_char; \n",
    "        \n",
    "        max_i = max_i - (VUP_or_VDIAG)\n",
    "        max_j = max_j - (VLEFT_or_VDIAG)\n",
    "        \n",
    "        aligned_seq1[k] = current_aligned_char1\n",
    "        aligned_seq2[k] = current_aligned_char2\n",
    "\n",
    "    return aligned_seq1, aligned_seq2\n"
   ]
  },
  {
   "cell_type": "markdown",
   "metadata": {},
   "source": [
    "Note that it is possible to access FheSeq values at encrypted index. It uses a trick, the same we used to select the value in the matrix, but it is very slow to process compared to unencrypted indexing. The algorithm is normally in O(mn), but here, because of this in the second loop, it is in O(p^3) where p=max(m,n)\n",
    "\n",
    "try different combinations of substitution matrices and gap penalties."
   ]
  },
  {
   "cell_type": "code",
   "execution_count": 141,
   "metadata": {},
   "outputs": [
    {
     "name": "stdout",
     "output_type": "stream",
     "text": [
      "The aligned sequences are:\n",
      " [Seq('\u0000\u0000ATTACA'), Seq('\u0000\u0000ATTACA')]\n"
     ]
    }
   ],
   "source": [
    "# Test the same sequence list\n",
    "SEQ1 = Seq('AG'+'TAGGCCGTTTAGCCAGTGGA'+'GTTGAGCTA'+'AG')\n",
    "SEQ2 = Seq('AACC'+  'TAAGCCGTTTAGCCAGTGG'+ 'GTTAAGCTA')\n",
    "\n",
    "SEQ1 = Seq('GATTACAGG')\n",
    "SEQ2 = Seq('GATTACA')\n",
    "\n",
    "seqlist = [SEQ1, SEQ2]\n",
    "SEQ_S, INDICES_S = concat_sequences(seqlist)\n",
    "\n",
    "def process_sequence(seq):\n",
    "    seqlist = slice_sequence(seq, INDICES_S)\n",
    "    if isinstance(seq, FheSeq):\n",
    "        aligned_seq1, aligned_seq2 = smith_waterman(seqlist[0],seqlist[1])\n",
    "        newseq, _ = concat_sequences([aligned_seq1, aligned_seq2])\n",
    "        return newseq.toArray()\n",
    "    elif isinstance(seq, Seq):\n",
    "        aligned_seq1, aligned_seq2 = smith_waterman(seqlist[0], seqlist[1])\n",
    "        return [Seq(aligned_seq1), Seq(aligned_seq2)]\n",
    "    else:\n",
    "        return NotImplemented\n",
    "    \n",
    "OUTPUT_PYTHON = process_sequence(SEQ_S)\n",
    "print('The aligned sequences are:\\n', OUTPUT_PYTHON)"
   ]
  },
  {
   "cell_type": "code",
   "execution_count": 29,
   "metadata": {},
   "outputs": [
    {
     "name": "stdout",
     "output_type": "stream",
     "text": [
      "Smith-Waterman\n",
      "|  Compiling  : 44.85 s  |\n",
      "|  Encrypting : 4.89 s  |\n",
      "|  Running    : 9.32 s  |\n",
      "==> Result : [0 0 0 0 0 4 0 0 0 0 0 4] \n",
      "\n",
      "The aligned sequences are:\n",
      " \u0000\u0000\u0000\u0000\u0000G \u0000\u0000\u0000\u0000\u0000G\n"
     ]
    },
    {
     "name": "stderr",
     "output_type": "stream",
     "text": [
      "KeySetCache: miss, regenerating .keys/5366286837612876716/0_0\n"
     ]
    }
   ],
   "source": [
    "SeqWrapper.setAlphabet('ACGT-')\n",
    "aligned_seqs = compute_fhe_output(SEQ_S, process_sequence, description='Smith-Waterman',res=True)\n",
    "len_out = max(len(SEQ1), len(SEQ2))+1\n",
    "aligned_seq1 = SeqWrapper.toSeq(aligned_seqs[0:len_out])\n",
    "aligned_seq2 = SeqWrapper.toSeq(aligned_seqs[len_out:])\n",
    "print('The aligned sequences are:\\n', aligned_seq1, aligned_seq2)\n",
    "\n",
    "SeqWrapper.resetAlphabet()"
   ]
  },
  {
   "cell_type": "markdown",
   "metadata": {},
   "source": [
    "Basic scoring schemes\n",
    "\n",
    "The simplest scoring schemes simply give a value for each match, mismatch and indel. The step-by-step guide above uses match = 1, mismatch = −1, indel = −2. Thus the lower the alignment score the larger the edit distance, for this scoring system one wants a high score. Another scoring system might be:\n",
    "\n",
    "    Match = 1\n",
    "    Indel = -2\n",
    "    Mismatch = -1\n",
    "\n",
    "For this system the alignment score will represent the edit distance between the two strings. Different scoring systems can be devised for different situations, for example if gaps are considered very bad for your alignment you may use a scoring system that penalises gaps heavily, such as:\n",
    "\n",
    "    Match = 1\n",
    "    Indel = -1\n",
    "    Mismatch = -2\n",
    "\n",
    "Similarity matrix\n",
    "More complicated scoring systems attribute values not only for the type of alteration, but also for the letters that are involved. For example, a match between A and A may be given 1, but a match between T and T may be given 4. Here (assuming the first scoring system) more importance is given to the Ts matching than the As, i.e. the Ts matching is assumed to be more significant to the alignment. This weighting based on letters also applies to mismatches. "
   ]
  },
  {
   "cell_type": "code",
   "execution_count": 8,
   "metadata": {},
   "outputs": [
    {
     "name": "stdout",
     "output_type": "stream",
     "text": [
      "(4, 2)\n"
     ]
    }
   ],
   "source": []
  },
  {
   "cell_type": "code",
   "execution_count": 130,
   "metadata": {},
   "outputs": [],
   "source": [
    "# Assigning the constants for the scores\n",
    "# These can be changed depending on what alignement we are looking for\n",
    "class Score:\n",
    "    MATCH = 1\n",
    "    MISMATCH = -1\n",
    "    GAP = -1\n",
    "\n",
    "# Assigning the constant values for the traceback (not stopping here)\n",
    "class Trace:\n",
    "    LEFT = 0 \n",
    "    UP = 1\n",
    "    DIAG = 2\n",
    "\n",
    "def needleman_wunsch(seq1, seq2, strictly_gt=False):\n",
    "    \"\"\"\n",
    "    Returns the Needleman Wunsch global alignment of two sequences\n",
    "    \n",
    "    strictly_gt=True will favor ????\n",
    "    while strictly_gt=False will ????\n",
    "    \"\"\"    \n",
    "    # Generating the empty matrices for storing scores and tracing\n",
    "    row = len(seq1) + 1\n",
    "    col = len(seq2) + 1\n",
    "    matrix = fhe.zeros((row, col))\n",
    "    tracing_matrix = fhe.zeros((row, col))\n",
    "    \n",
    "    # initialize the first row and col of the matrix\n",
    "    matrix[:,0] = -1*np.arange(row)\n",
    "    matrix[0,:] = -1*np.arange(col)\n",
    "    \n",
    "    # set variables depending on python or FHE run:\n",
    "    if isinstance(seq1, FheSeq):\n",
    "        gap_char = SeqWrapper.LETTERS_TO_INTEGERS['-']\n",
    "        make_empty_seq = lambda x: FheMutableSeq(fhe.zeros(x))\n",
    "    elif isinstance(seq1, Seq):\n",
    "        gap_char = '-'\n",
    "        make_empty_seq = lambda x: MutableSeq('\\0'*x)        \n",
    "    else:\n",
    "        return NotImplemented\n",
    "        \n",
    "    # Initialising the variables to find the highest scoring cell\n",
    "    max_score = max_i = max_j = -1\n",
    "    \n",
    "    # Calculating the scores for all cells in the matrix\n",
    "    for i in range(1, row):\n",
    "        for j in range(1, col):\n",
    "        # Note: we loop on j for clarity here, but it would be\n",
    "        # faster to compute the whole column at once with tensors\n",
    "        \n",
    "            # Calculating the diagonal score (match score)\n",
    "            is_eq = seq1[i - 1] == seq2[j - 1]\n",
    "            match_value = Score.MATCH * is_eq + Score.MISMATCH* (1-is_eq)\n",
    "            diagonal_score = matrix[i - 1, j - 1] + match_value\n",
    "            \n",
    "            # Calculating the vertical gap score\n",
    "            vertical_score = matrix[i - 1, j] + Score.GAP\n",
    "            \n",
    "            # Calculating the horizontal gap score\n",
    "            horizontal_score = matrix[i, j - 1] + Score.GAP\n",
    "            \n",
    "            # Taking the local highest score and where it comes from\n",
    "            value_list = [horizontal_score, vertical_score, diagonal_score]\n",
    "            matrix[i, j], tracing_matrix[i, j] = max_list(value_list, strictly_gt)\n",
    "            # if some scores are identical and are the maximum value, the value tracing_matrix will\n",
    "            # depend on the parameter strictly_gt (see max_list function)\n",
    "            # ?????????????????????????????????????????????\n",
    "                        # ?????????????????????????????????????????????\n",
    "            # tracing_matrix[i, j] = 0, 1, 2 means LEFT, UP or DIAG\n",
    "                \n",
    "            # No tracking of the cell with the global maximum score here\n",
    " \n",
    "    print(matrix)\n",
    "    \n",
    "    # Initialising the variables for tracing\n",
    "    len_out = max(row,col)-1\n",
    "    aligned_seq1 = make_empty_seq(len_out)\n",
    "    aligned_seq2 = make_empty_seq(len_out)\n",
    "    ind_ij = fhe.zeros((row, col))\n",
    "    \n",
    "    # Tracing and computing the pathway with the local alignment from the bottom-left up\n",
    "    max_i = row-1\n",
    "    max_j = col-1\n",
    "    \n",
    "    # select the starting value in tracing_matrix at index max_i, max_j (unencrypted for now)\n",
    "    V = tracing_matrix[max_i, max_j]\n",
    "        \n",
    "    for k in reversed(range(len_out)):\n",
    "\n",
    "        VLEFT = (V==Trace.LEFT)*1\n",
    "        VUP = (V==Trace.UP)*1\n",
    "        VDIAG = (V==Trace.DIAG)*1\n",
    "        VLEFT_or_VDIAG = VLEFT + VDIAG\n",
    "        VUP_or_VDIAG = VUP + VDIAG\n",
    "        # Note: the *1 is just for pure python, to convert booleans into ints\n",
    "        \n",
    "        # select value in seq1 at encrypted index max_i - 1:\n",
    "        v1 = seq1[max_i-1]\n",
    "        # Note: we accessed seq1 with an encrypted index max_i-1, this is allowed by the FheSeq class\n",
    "        # but it is computationally expensive, see FheSeq.__getitem__ function \n",
    "                \n",
    "        current_aligned_char1 = (VUP_or_VDIAG)*v1 + VLEFT*gap_char;\n",
    "        # Note: in FHE, one should make as few multiplications as possible for speed purpose,\n",
    "        # that's why we regrouped VDIAG + VUP here\n",
    "        \n",
    "        # select value in seq2 at encrypted index max_j - 1:\n",
    "        v2 = seq2[max_j-1]\n",
    "        current_aligned_char2 = (VLEFT_or_VDIAG)*v2 + VUP*gap_char; \n",
    "        \n",
    "        max_i = max_i - (VUP_or_VDIAG)\n",
    "        max_j = max_j - (VLEFT_or_VDIAG)\n",
    "        \n",
    "        aligned_seq1[k] = current_aligned_char1\n",
    "        aligned_seq2[k] = current_aligned_char2\n",
    "        \n",
    "        # select value in tracing_matrix at new indices max_i, max_j:\n",
    "        ind_i = np.arange(row)==max_i\n",
    "        ind_j = np.arange(col)==max_j\n",
    "        \n",
    "        if k == 0: # no need to compute the last one\n",
    "            break\n",
    "            \n",
    "        for i in range(1, row):\n",
    "            for j in range(1, col):\n",
    "                ind_ij[i,j] = ind_i[i] & ind_j[j] # using & for binary is faster than *\n",
    "        \n",
    "        V = np.sum(tracing_matrix*ind_ij)      \n",
    "\n",
    "    return aligned_seq1, aligned_seq2"
   ]
  },
  {
   "cell_type": "code",
   "execution_count": 135,
   "metadata": {},
   "outputs": [
    {
     "name": "stdout",
     "output_type": "stream",
     "text": [
      "[[ 0 -1 -2 -3 -4 -5 -6 -7]\n",
      " [-1 -1 -2 -1 -2 -3 -4 -5]\n",
      " [-2 -2 -2 -2  0 -1 -2 -3]\n",
      " [-3 -3 -3 -3 -1  1  0 -1]\n",
      " [-4 -4 -4 -2 -2  0  2  1]\n",
      " [-5 -5 -5 -3 -3 -1  1  3]\n",
      " [-6 -6 -6 -4 -4 -2  0  2]\n",
      " [-7 -5 -5 -5 -5 -3 -1  1]]\n",
      "Similarity score before alignment : 1\n",
      "The aligned sequences are:\n",
      " [Seq('ATTACAG'), Seq('ATTAC--')]\n",
      "Similarity score after alignement : 5\n"
     ]
    }
   ],
   "source": [
    "def similarity_score(seq1, seq2):\n",
    "    \"\"\"\n",
    "    Compute the number of identical characters in two Seq sequences objects\n",
    "    \"\"\"\n",
    "    nequal = 0\n",
    "    for i in range(min(len(seq1), len(seq2))):\n",
    "        nequal += 1 if seq1[i]==seq2[i] else 0\n",
    "    return nequal\n",
    "\n",
    "SEQ1 = Seq('ATTACAG')\n",
    "SEQ2 = Seq('GGATTAC')\n",
    "\n",
    "#SEQ1 = Seq('AGT')\n",
    "#SEQ2 = Seq('AT')\n",
    "\n",
    "seqlist = [SEQ1, SEQ2]\n",
    "SEQ_S, INDICES_S = concat_sequences(seqlist)\n",
    "\n",
    "def process_sequence(seq):\n",
    "    seqlist = slice_sequence(seq, INDICES_S)\n",
    "    if isinstance(seq, FheSeq):\n",
    "        aligned_seq1, aligned_seq2 = needleman_wunsch(seqlist[0],seqlist[1])\n",
    "        newseq, _ = concat_sequences([aligned_seq1, aligned_seq2])\n",
    "        return newseq.toArray()\n",
    "    elif isinstance(seq, Seq):\n",
    "        aligned_seq1, aligned_seq2 = needleman_wunsch(seqlist[0], seqlist[1])\n",
    "        return [Seq(aligned_seq1), Seq(aligned_seq2)]\n",
    "    else:\n",
    "        return NotImplemented\n",
    "    \n",
    "OUTPUT_PYTHON = process_sequence(SEQ_S)\n",
    "print('Similarity score before alignment :', similarity_score(SEQ1, SEQ2) )\n",
    "print('The aligned sequences are:\\n', OUTPUT_PYTHON)\n",
    "print('Similarity score after alignement :', similarity_score(*OUTPUT_PYTHON))"
   ]
  },
  {
   "cell_type": "code",
   "execution_count": null,
   "metadata": {},
   "outputs": [],
   "source": [
    "SEQ1 = Seq('GCATGCG')\n",
    "SEQ2 = Seq('GATTACA')\n",
    "\n",
    "seqlist = [SEQ1, SEQ2]\n",
    "SEQ_S, INDICES_S = concat_sequences(seqlist)\n",
    "\n",
    "\n",
    "SeqWrapper.setAlphabet('ACGT-')\n",
    "aligned_seqs = compute_fhe_output(SEQ_S, process_sequence, description='Smith-Waterman',res=True)\n",
    "len_out = max(len(SEQ1), len(SEQ2))+1\n",
    "aligned_seq1 = SeqWrapper.toSeq(aligned_seqs[0:len_out])\n",
    "aligned_seq2 = SeqWrapper.toSeq(aligned_seqs[len_out:])\n",
    "print('The aligned sequences are:\\n', aligned_seq1, aligned_seq2)\n",
    "\n",
    "SeqWrapper.resetAlphabet()"
   ]
  }
 ],
 "metadata": {
  "kernelspec": {
   "display_name": "concrete-biopython",
   "language": "python",
   "name": "concrete-biopython"
  },
  "language_info": {
   "codemirror_mode": {
    "name": "ipython",
    "version": 3
   },
   "file_extension": ".py",
   "mimetype": "text/x-python",
   "name": "python",
   "nbconvert_exporter": "python",
   "pygments_lexer": "ipython3",
   "version": "3.10.11"
  }
 },
 "nbformat": 4,
 "nbformat_minor": 4
}
