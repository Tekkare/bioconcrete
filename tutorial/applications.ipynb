{
 "cells": [
  {
   "cell_type": "markdown",
   "metadata": {},
   "source": [
    "# concrete.biopython, practical applications\n",
    "\n",
    "**concrete.biopython** is a **FHE** library based on python [**biopython**](https://biopython.org/) library. It implements the same objects and functions when they are compatible with fhe.\n",
    "\n",
    "In bioinformatics, the most basic object is the **sequence**. Sequences generally reprensent **DNA** and **RNA** strands, or **proteins** which are **amino acids** strands. Bioinformatics computations are most often processings of such sequences. This tutorial presents some basic processing algorithms on sequences, in **FHE**. Indeed, as data is often very sensitive in bioinformatics, using **FHE** garanties full end to end privacy of the data and of its processing.  \n",
    "\n",
    "Some applications are inspired from this python bioinformatics [tutorial](https://github.com/mrdbourke/coursera_bioinformatics_and_genetic_algorithm_experiment/blob/master/coursera-bioinformatics-content-and-genetic-algorithm-experiment.ipynb). We will first see how to make reusable code to easily generate circuits than can be used for different applications, then we will see the applications themselves.\n",
    "\n",
    "\n",
    "\n",
    "## I. Setting up FHE for practical applications\n",
    "\n",
    "Before presenting the algorithms, we will set up some reusable code that will help us for each application later. Given a sequence processing function and a list biopython <span style=\"color:green\">**Seq**</span> objects, our reusable code should allow to:\n",
    "\n",
    "**i.** Preprocess the list of sequences so as to convert it into a single integer array that will be the circuit's input.  \n",
    "\n",
    "**ii.** Generate automatically a circuit adapted to the length of our input and using a given sequence processing function.  \n",
    "\n",
    "**iii.** Run the circuit and measure performance on given input.\n",
    "\n",
    "### Imports\n",
    "First of all, we need to import **numpy** and **concrete.fhe**, as well as <span style=\"color:green\">**Seq**</span>  from **Bio.Seq**.\n",
    "Then we import <span style=\"color:orange\">**FheSeq**</span> from **concrete_biopython.FheSeq**, and also **SeqWrapper.**<span style=\"color:#5CC8FF\">**SeqWrapper**</span> which will allow to interface the two librairies.\n",
    "\n",
    "You can check out the quickstart tutorial presenting these objects in more details. Here, we will follow a similar route than in the quickstart to interface **Bio.Seq** and **concrete_biopython.FheSeq** objects."
   ]
  },
  {
   "cell_type": "code",
   "execution_count": 117,
   "metadata": {},
   "outputs": [],
   "source": [
    "import numpy as np\n",
    "import numpy as np\n",
    "from concrete import fhe\n",
    "from Bio.Seq import Seq\n",
    "\n",
    "import sys, os, time\n",
    "sys.path.append(os.path.dirname(os.getcwd()))\n",
    "\n",
    "from concrete_biopython.FheSeq import FheSeq\n",
    "from concrete_biopython.SeqWrapper import SeqWrapper\n"
   ]
  },
  {
   "cell_type": "markdown",
   "metadata": {},
   "source": [
    "### i. Sequence preprocessing\n",
    "\n",
    "As in the quickstart tutorial, we will need to convert <span style=\"color:green\">**Seq**</span> objects from outside FHE to <span style=\"color:orange\">**FheSeq**</span> objects inside the FHE circuit.  \n",
    "\n",
    "For each practical applications, we will have different numbers of <span style=\"color:green\">**Seq**</span> objects to encrypt and process. In order to be able to reuse our code for these multiple applications, we can merge these sequences into one long sequence, so that our circuit takes only one input sequence every time.\n",
    "\n",
    "Let's define a `concat_sequences` function that concatenates a list of sequences and returns the concatenated sequence, along with indices to be able to slice concatenated sequence back later. Let's also define the reverse function `slice_sequence` to slice back a long sequence into several sequences:"
   ]
  },
  {
   "cell_type": "code",
   "execution_count": 118,
   "metadata": {},
   "outputs": [
    {
     "name": "stdout",
     "output_type": "stream",
     "text": [
      "ABCDEF\n",
      "[Seq('AB'), Seq('C'), Seq('DEF')]\n"
     ]
    }
   ],
   "source": [
    "def concat_sequences(seqs):\n",
    "    \"\"\"\n",
    "    Concatenate sequences from a list and records indices as slice objects\n",
    "    \"\"\"\n",
    "    slices=[]\n",
    "    seq=Seq('')\n",
    "    index=0\n",
    "    for s in seqs:\n",
    "        seq = seq+s # Seq objects can be directly added\n",
    "        slices.append(slice(index, index+len(s)))\n",
    "        index+=len(s)\n",
    "    return seq, slices\n",
    "\n",
    "def slice_sequence(seq, slices):\n",
    "    \"\"\"\n",
    "    Slice a sequence into its original sub-sequences\n",
    "    \"\"\"\n",
    "    seqs=[]\n",
    "    index=0\n",
    "    for ind in slices:\n",
    "        seqs.append(seq[ind.start:ind.stop])\n",
    "    return seqs\n",
    "\n",
    "# Testing the functions\n",
    "SEQ, INDICES = concat_sequences([Seq('AB'), Seq('C'), Seq('DEF')])\n",
    "print(SEQ)\n",
    "print(slice_sequence(SEQ, INDICES))"
   ]
  },
  {
   "cell_type": "markdown",
   "metadata": {},
   "source": [
    "### ii. Making a circuit factory\n",
    "\n",
    "We want to make a circuit factory so that for each application later, we can simply provide a core sequence processing function and provide it to the factory that will generate a circuit from it. We will even wrap this circuit to be able to work with <span style=\"color:green\">**Seq**</span> objects inputs instead of integer arrays inputs.\n",
    "\n",
    "The core function will be named `process_sequence`, taking a sequence and returning the result of some processing algorithm. We want a function that can work on both clear or encrypted data, so we also provide it with the library **numpy** or **concrete.fhe** for when there are differences in the processing. For now, we define a simple processing function for the example, that outputs wether two sequences are identical. It first slices the input sequence into two sequences, and then compares them.  \n",
    "\n",
    "Then, let's make a `circuit_factory` returning a circuit compiled on a given sequence processing function, and adapted for a given input sequence: the inputset is adapted to the sequence length and to the letters present in the sequence, which allows faster and more precise FHE computations. Note that the integer array input `data` is first converted into a <span style=\"color:orange\">**FheSeq**</span> objects so that the sequence processing function can work on it the same way it works on <span style=\"color:green\">**Seq**</span> objects:"
   ]
  },
  {
   "cell_type": "code",
   "execution_count": 119,
   "metadata": {},
   "outputs": [
    {
     "name": "stdout",
     "output_type": "stream",
     "text": [
      "Python: Are the first two sequences equal ?:  False\n"
     ]
    }
   ],
   "source": [
    "def process_sequence(seq, lib=fhe):\n",
    "    \"\"\"\n",
    "    Check wether the two first subsequences are identical, for test\n",
    "    \"\"\"\n",
    "    seqlist = slice_sequence(seq, INDICES)\n",
    "    return seqlist[0]==seqlist[1]\n",
    "\n",
    "def circuit_factory(seq, process_seq):\n",
    "    \"\"\"\n",
    "    Return a circuit compiled on 'process_seq' with input lenght 'input_lengt'\n",
    "    \"\"\"\n",
    "    compiler = fhe.Compiler(lambda data: process_seq(FheSeq(data)), {\"data\": \"encrypted\"})    \n",
    "    return compiler.compile(\n",
    "        inputset=[\n",
    "        # Use SeqWrapper.maxInteger() to know the maximum integer that can be\n",
    "        # used to represent a character in FheSeq obects\n",
    "        np.random.randint(0, SeqWrapper.maxInteger()+1, size=(len(seq),))\n",
    "        for _ in range(300)\n",
    "        ],\n",
    "        configuration=fhe.Configuration(\n",
    "            enable_unsafe_features=True,\n",
    "            use_insecure_key_cache=True,\n",
    "            insecure_key_cache_location=\".keys\",\n",
    "            dataflow_parallelize=False, # setting it to True makes the jupyter kernel crash\n",
    "        ),\n",
    "        verbose=False,\n",
    "    )\n",
    "\n",
    "# Test process_sequence\n",
    "OUTPUT_PYTHON = process_sequence(SEQ, np)\n",
    "print(\"Python: Are the first two sequences equal ?: \", OUTPUT_PYTHON)"
   ]
  },
  {
   "cell_type": "markdown",
   "metadata": {},
   "source": [
    "### iii. Running the circuit and measuring performance\n",
    "\n",
    "As we wish to compare the performance of different circuit, we will use the `measure_time` function which will execute a function on given inputs and display the computation time.  \n",
    "\n",
    "Then, we make a `circuit_wrapper` that allows to run a circuit onto a <span style=\"color:green\">**Seq**</span> object, using the <span style=\"color:#5CC8FF\">**SeqWrapper**</span>**.toIntegers** function. Here, we will need the wrapper to return **integer outputs**, but we could have converted them back into a <span style=\"color:green\">**Seq**</span> object if needed using <span style=\"color:#5CC8FF\">**SeqWrapper**</span>**.toSeq**. We measure and display the times for compiling, encrypting, and running.  \n",
    "\n",
    "Finally, in order to keep reusing code, we can pack the actual making and running of a circuit in a function, along with printing the output and displaying computation time in `compute_fhe_output`:"
   ]
  },
  {
   "cell_type": "code",
   "execution_count": 120,
   "metadata": {},
   "outputs": [],
   "source": [
    "def measure_time(function, descripton, *inputs):\n",
    "    \"\"\"\n",
    "    Compute a function on inputs and return output along with duration\n",
    "    \"\"\"\n",
    "    start = time.time()\n",
    "    output = function(*inputs)\n",
    "    end = time.time()\n",
    "    print(f\"|  {descripton} : {end-start:.2f} s  |\")\n",
    "    return output\n",
    "\n",
    "def circuit_wrapper(circuit, seq):\n",
    "    \"\"\"\n",
    "    Wrap a fhe circuit in order to input Bio.Seq objects, and simulate if needed\n",
    "    \"\"\"\n",
    "    # Convert Seq object to integers with SeqWrapper.toIntegers\n",
    "    integers = SeqWrapper.toIntegers(seq)\n",
    "    # Run the circuit on integer inputs\n",
    "    encrypted = measure_time(circuit.encrypt, 'Encrypting', integers)\n",
    "    run = measure_time(circuit.run,'Running   ', encrypted)\n",
    "    integer_output = circuit.decrypt(run)\n",
    "    # Return the integers output\n",
    "    return integer_output\n",
    "    # Alternatively, one could return a Seq objects with: return SeqWrapper.toSeq(integer_output)\n",
    "    \n",
    "def compute_fhe_output(seq, process_seq, description):\n",
    "    \"\"\"\n",
    "    Pack up the creation and running of a circuit,\n",
    "    and display the result along with the computation time\n",
    "    \"\"\"\n",
    "    # First print the description and a waiting message\n",
    "    print(description)\n",
    "    print(\"Computing ...\", end=\"\", flush=True)\n",
    "    print(\"\\r\", end=\"\")\n",
    "    \n",
    "    # Make computations and print output and time\n",
    "    wrapped_circuit = measure_time(circuit_factory, 'Compiling ', seq, process_seq)\n",
    "    output_fhe = circuit_wrapper(wrapped_circuit, seq)\n",
    "    \n",
    "    print('==> Result :', output_fhe, '\\n')"
   ]
  },
  {
   "cell_type": "markdown",
   "metadata": {},
   "source": [
    "That's it ! Before starting our first practical application, we can try out this code on our test sequence and processing function defined earlier, checking homomorphically wether the two first sequences of the list are identical:"
   ]
  },
  {
   "cell_type": "code",
   "execution_count": 121,
   "metadata": {},
   "outputs": [
    {
     "name": "stdout",
     "output_type": "stream",
     "text": [
      "FHE: Are the first two sequences equal ?:\n",
      "|  Compiling  : 0.34 s  |\n",
      "|  Encrypting : 0.01 s  |\n",
      "|  Running    : 0.00 s  |\n",
      "==> Result : 0 \n",
      "\n"
     ]
    },
    {
     "name": "stderr",
     "output_type": "stream",
     "text": [
      "WARNING: The generated random seed is not crypto secure\n",
      "WARNING: The generated random seed is not crypto secure\n"
     ]
    }
   ],
   "source": [
    "# Compute our simple process_sequence function in FHE on our test sequence:\n",
    "compute_fhe_output(SEQ, process_sequence, description='FHE: Are the first two sequences equal ?:')"
   ]
  },
  {
   "cell_type": "markdown",
   "metadata": {},
   "source": [
    "\n",
    "## II. Computing the distance between two sequences\n",
    "\n",
    "As a first application, we will compute in FHE the **distance between two sequences**. A distance between two sequences **A** and **B** is a function that measures their similarity and obeys the following conditions:\n",
    "- If A = B, then *distance(A,B)=0*\n",
    "- If A ≠ B, then *distance(A,B)>0*\n",
    "- For all sequences A and B, *distance(A,B) = distance(B,A)*\n",
    "- For all sequences A,B, and C, *distance(A,C) <= distance(A,B) + distance(B,C)*\n",
    "\n",
    "Computing the distance between two biological sequences, for instance **DNA** strands, is often used in bioinformatics as a measure of similarity. We will see here the [**hamming distance**](https://en.wikipedia.org/wiki/Hamming_distance) and the [Levenshtein distance](https://en.wikipedia.org/wiki/Levenshtein_distance).\n",
    "\n",
    "### Hamming distance \n",
    "The **hamming distance** between two sequences of **same length** is simply the number of positions where the two sequences are different. It is often used in bioinformatics to measure the similarity of biological sequences of same length such as **DNA** strands.  \n",
    "\n",
    "Let's define the `hamming` function which computes this distance between two arrays. The `hamming_adapter` allows to adapt inputs from either <span style=\"color:green\">**Seq**</span> or <span style=\"color:orange\">**FheSeq**</span> objects:"
   ]
  },
  {
   "cell_type": "code",
   "execution_count": 122,
   "metadata": {},
   "outputs": [],
   "source": [
    "def hamming(arr1, arr2):\n",
    "    \"\"\"\n",
    "    Return the number of differences between arrays arr1 and arr2\n",
    "    \"\"\"\n",
    "    if arr1.size != arr2.size:\n",
    "        raise ValueError('arrays must have same size')\n",
    "        \n",
    "    return np.sum(arr1 != arr2)\n",
    "\n",
    "def hamming_adapter(seq1, seq2, lib=fhe):\n",
    "    \"\"\"\n",
    "    Adapter for hamming distance of Seq objects\n",
    "    Convert Seq or FheSeq objects into integer arrays\n",
    "    \"\"\"\n",
    "    if lib is fhe:\n",
    "        return hamming(seq1.toArray(),seq2.toArray())\n",
    "    else:\n",
    "        return hamming(np.array(list(str(seq1))), np.array(list(str(seq2))))"
   ]
  },
  {
   "cell_type": "markdown",
   "metadata": {},
   "source": [
    "Let's measure the distance between two short strands of **DNA**, both in python and FHE:"
   ]
  },
  {
   "cell_type": "code",
   "execution_count": 123,
   "metadata": {},
   "outputs": [
    {
     "name": "stdout",
     "output_type": "stream",
     "text": [
      "Python: Haming distance of S & T: 10\n",
      "FHE: Haming distance of S & T:\n",
      "|  Compiling  : 0.42 s  |\n",
      "|  Encrypting : 0.19 s  |\n"
     ]
    },
    {
     "name": "stderr",
     "output_type": "stream",
     "text": [
      "WARNING: The generated random seed is not crypto secure\n",
      "WARNING: The generated random seed is not crypto secure\n"
     ]
    },
    {
     "name": "stdout",
     "output_type": "stream",
     "text": [
      "|  Running    : 2.26 s  |\n",
      "==> Result : 10 \n",
      "\n"
     ]
    }
   ],
   "source": [
    "S = Seq(\"AGGTTGGTAAAATGGTCCGTGGC\")\n",
    "T = Seq(\"ACCGTAATAAACGTGTCCGTTGG\")\n",
    "\n",
    "SEQ_H, INDICES_H = concat_sequences([S,T])\n",
    "\n",
    "def process_sequence(seq, lib=fhe):\n",
    "    seqlist = slice_sequence(seq, INDICES_H)\n",
    "    return hamming_adapter(seqlist[0],seqlist[1], lib)\n",
    "\n",
    "# run the circuit in python\n",
    "OUTPUT_PYTHON = process_sequence(SEQ_H, np)\n",
    "print('Python: Haming distance of S & T:', OUTPUT_PYTHON)\n",
    "\n",
    "# run the circuit in FHE and compare the results\n",
    "compute_fhe_output(SEQ_H, process_sequence, description='FHE: Haming distance of S & T:')\n"
   ]
  },
  {
   "cell_type": "markdown",
   "metadata": {},
   "source": [
    "The distance is relatively fast to compute in FHE because it is a simple algorithm."
   ]
  },
  {
   "cell_type": "markdown",
   "metadata": {},
   "source": [
    "### Levenshtein distance\n",
    "\n",
    "The **Levenshtein distance** between two sequences is a bit more complex to compute. It measures **the number of simple operations** needed to transform a sequence into another one. These three simple operations are the **deletion** of an element, the **addition** of an element, and the **swapping** of two different elements. Check out the pseudo-code algorithm at: [Levenshtein distance](https://en.wikipedia.org/wiki/Levenshtein_distance).\n",
    "\n",
    "This distance is also sometimes used in bioinformatics to measure the similarity of biological sequences with different length.\n",
    "\n",
    "Again, we define the `levenshtein` function in a recursive fashion (the recursion is in python, but the compiled graph will not be recursive in FHE), as well as a `levenshtein_adapter` to adapt inputs. Note that in `levenshtein` function, we use an **if** condition. While this is forbidden in FHE on encrypted variables, in this case the condition is allowed because it concerns the size of the arrays which is not encrypted.  \n",
    "\n",
    "However, contrary to the original algorithm where the condition `(arr1[0] == arr2[0])` will stop the computation of the corresponding recursion branch if it is true, the FHE algorithm needs to run both branches of the computation. Indeed, the result of the condition being encrypted, both branches will run which will greatly slow the computation."
   ]
  },
  {
   "cell_type": "code",
   "execution_count": 124,
   "metadata": {},
   "outputs": [
    {
     "name": "stdout",
     "output_type": "stream",
     "text": [
      "Python: Levenshtein distance of S & T: 2\n"
     ]
    }
   ],
   "source": [
    "def min_two(x, y):\n",
    "    \"\"\"\n",
    "    Return the minimum between a and b\n",
    "    Note: Using fhe.univariate instead of a boolean multiplication is faster\n",
    "    \"\"\"    \n",
    "    diff = y - x\n",
    "    min_xy = y - fhe.univariate(lambda x: 0 if x < 0 else x)(diff)\n",
    "    return min_xy\n",
    "\n",
    "def min_three(a, b, c):\n",
    "    return min_two(a,min_two(b,c))\n",
    "\n",
    "def levenshtein(arr1, arr2):\n",
    "    \"\"\"\n",
    "    Compute the Levenshtein distance between two array objects\n",
    "    \"\"\"\n",
    "    if arr2.size == 0:\n",
    "        return fhe.ones(1)[0]*arr1.size\n",
    "    elif arr1.size == 0:\n",
    "        return fhe.ones(1)[0]*arr2.size\n",
    "    else:\n",
    "        iseq0 = (arr1[0] == arr2[0])\n",
    "        lev1 = levenshtein(arr1[1:], arr2[1:])\n",
    "        lev2 = levenshtein(arr1[1:], arr2)\n",
    "        lev3 = levenshtein(arr1, arr2[1:])\n",
    "        minlev = min_three(lev1, lev2, lev3)\n",
    "        return iseq0*lev1 + (1-iseq0)*(1+minlev)\n",
    "\n",
    "def levenshtein_adapter(seq1, seq2, lib=fhe):\n",
    "    \"\"\"\n",
    "    Adapter for levenshtein distance of sequence objects\n",
    "    Convert Seq or FheSeq objects into integer arrays\n",
    "    \"\"\"\n",
    "    if lib is fhe:\n",
    "        return levenshtein(seq1.toArray(),seq2.toArray())\n",
    "    else:\n",
    "        return levenshtein(np.array(list(str(seq1))), np.array(list(str(seq2))))\n",
    "    \n",
    "S = Seq(\"ACGT\")\n",
    "T = Seq(\"CGTA\")\n",
    "\n",
    "SEQ_L, INDICES_L = concat_sequences([S,T])\n",
    "\n",
    "def process_sequence(seq, lib=fhe):\n",
    "    seqlist = slice_sequence(seq, INDICES_L)\n",
    "    return levenshtein_adapter(seqlist[0],seqlist[1], lib)\n",
    "\n",
    "OUTPUT_PYTHON = process_sequence(SEQ_L, np)\n",
    "print('Python: Levenshtein distance of S & T:', OUTPUT_PYTHON)"
   ]
  },
  {
   "cell_type": "markdown",
   "metadata": {},
   "source": [
    "Let's test this distance on very small DNA strands inputs:"
   ]
  },
  {
   "cell_type": "code",
   "execution_count": 125,
   "metadata": {},
   "outputs": [
    {
     "name": "stdout",
     "output_type": "stream",
     "text": [
      "FHE: Levenshtein distance of S & T:\n",
      "|  Compiling  : 14.23 s  |\n",
      "|  Encrypting : 0.16 s  |\n"
     ]
    },
    {
     "name": "stderr",
     "output_type": "stream",
     "text": [
      "WARNING: The generated random seed is not crypto secure\n",
      "WARNING: The generated random seed is not crypto secure\n"
     ]
    },
    {
     "name": "stdout",
     "output_type": "stream",
     "text": [
      "|  Running    : 9.64 s  |\n",
      "==> Result : 2 \n",
      "\n"
     ]
    }
   ],
   "source": [
    "compute_fhe_output(SEQ_L, process_sequence, description='FHE: Levenshtein distance of S & T:')"
   ]
  },
  {
   "cell_type": "markdown",
   "metadata": {},
   "source": [
    "The computation is relatively quite **long**, and it is sometimes even **wrong** ! Why is that ?  \n",
    "\n",
    "The function is quite complex compared to the hamming distance, and also it requires to run all conditional branches in the recursive computation. So, it takes a lot of time. But why is the result wrong sometimes ?  \n",
    "\n",
    "Recall that we did earlier in `circuit_factory`:\n",
    "```python\n",
    "inputset=[\n",
    "    np.random.randint(0, SeqWrapper.maxInteger()+1, size=(len(seq),))\n",
    "    for _ in range(100)\n",
    "],\n",
    "```\n",
    "This inputset is built randomly. It seems to be not precise enough for our levenshtein algorithm. Let us see different ways to correct this:\n",
    "\n",
    "- Increasing the size of the input set with more value, with for instance `range(300)` instead. However, this would make the graph creation even slower.  \n",
    "\n",
    "- Making the inputset more precise, by providing only inputs that will actually be used. In our case, we are working on DNA sequences, so we don't need the inputset to contain other letters such as protein letters. We can specify the exact inputs that will be used:\n",
    "```python\n",
    "inputset=[\n",
    "    np.random.choice( list(set(SeqWrapper.toIntegers(seq))), size=(len(seq),))\n",
    "    for _ in range(100)\n",
    "],\n",
    "```\n",
    "This works, because here we create a new circuit for every different sequence `seq`. However, in a general case, we would like a circuit working for different sequences, some that may contain other characters than those in seq. Also, it is not optimal because the circuit may be working with integers bigger than necessary.  \n",
    "\n",
    "- Specifying to the class <span style=\"color:#5CC8FF\">**SeqWrapper**</span> what alphabet we will be using in our sequences with <span style=\"color:#5CC8FF\">**SeqWrapper**</span>**.setAlphabet**. This will optimize the integer representation to work only for the provided letters. In our case, we want to work only with **DNA** upper case letters:"
   ]
  },
  {
   "cell_type": "code",
   "execution_count": 126,
   "metadata": {},
   "outputs": [
    {
     "name": "stdout",
     "output_type": "stream",
     "text": [
      "FHE: Levenshtein distance of S & T:\n",
      "|  Compiling  : 13.76 s  |\n",
      "|  Encrypting : 0.10 s  |\n",
      "|  Running    : 2.47 s  |\n",
      "==> Result : 2 \n",
      "\n"
     ]
    },
    {
     "name": "stderr",
     "output_type": "stream",
     "text": [
      "WARNING: The generated random seed is not crypto secure\n",
      "WARNING: The generated random seed is not crypto secure\n"
     ]
    }
   ],
   "source": [
    "# Reduce the alphabet to DNA uppercase letters\n",
    "SeqWrapper.setAlphabet('ACGTU')\n",
    "\n",
    "# Let's run the computation again (the SeqWrapper.maxInteger will be changed in circuit_factory ):\n",
    "compute_fhe_output(SEQ_L, process_sequence, description='FHE: Levenshtein distance of S & T:')\n",
    "\n",
    "# Reset alphabet\n",
    "SeqWrapper.resetAlphabet()"
   ]
  },
  {
   "cell_type": "markdown",
   "metadata": {},
   "source": [
    "As we can see, the results are good now, and the running time is smaller. Be aware than setting an alphabet with <span style=\"color:#5CC8FF\">**SeqWrapper**</span>**.setAlphabet** will affect the <span style=\"color:orange\">**FheSeq**</span> internal representation which also uses the class <span style=\"color:#5CC8FF\">**SeqWrapper**</span>, so if the new alphabet does not include protein letters for instance, the <span style=\"color:orange\">**FheSeq**</span>.**translate** function will raise an error."
   ]
  },
  {
   "cell_type": "markdown",
   "metadata": {},
   "source": [
    "\n",
    "## II. Finding the origin of replication in a sequence\n",
    "\n",
    "As a second application, we will look in FHE for the [**origin of replication**](https://en.wikipedia.org/wiki/Origin_of_replication) in a DNA strand. The **origin of replication** (also called the **replication origin**) is a particular sequence in a genome at which **replication** is initiated, used when a cell divides. This area of the genome sometimes needs to be analyzed, but it needs to be found first.  \n",
    "\n",
    "In most area of DNA genomes, there is an equal proportion of nucleotides **'A'** (adenine), **'C'** (cytosine), **'G'** (guanine) and **'T'** (thymine). However, around the **origin of replication**, the proportion of guanine and thymine (G and T) **is greater** than the proportion of adenine and cytosine (A et C). This particularity is helpful to find the approximate localisation of the origin of replication.  \n",
    "\n",
    "In the function `minimum_skew` we take a look at the ratio between letter 'G' to letter 'C', to retrieve the location in the strand where this ratio is minimal. To that extent, we first create a lookup table to map letters 'G' to a 1 and letters 'C' to a -1, the other letters 'A' and 'T' being mapped to 0. Then, we sum up the values throughout the sequences, and keep the first index of the minimum value of this cumulated sum. We also return the whole cumulated sum array for plotting."
   ]
  },
  {
   "cell_type": "code",
   "execution_count": 97,
   "metadata": {},
   "outputs": [],
   "source": [
    "def minimum_skew(seq,lib=fhe):\n",
    "    \"\"\"\n",
    "    Return the index of the minimum skew in a sequence\n",
    "    Note: Only the first index of minimum skew is returned\n",
    "    \"\"\" \n",
    "    # First, create a lookup table to map G to 1 and C to -1\n",
    "    if lib is fhe:\n",
    "        CG_integers = SeqWrapper.toIntegers(Seq('CG'))\n",
    "        letter_table = [0]*(SeqWrapper.maxInteger()+1)\n",
    "        letter_table[CG_integers[0]]=-1\n",
    "        letter_table[CG_integers[1]]=1\n",
    "        letter_table = fhe.LookupTable(letter_table)\n",
    "        skew_counts = fhe.zeros(len(seq))\n",
    "    else:\n",
    "        letter_table = {'A':0, 'C':-1, 'G':1, 'T':0}\n",
    "        skew_counts = np.zeros(len(seq)).astype('int')\n",
    "    \n",
    "    # Then compute the cumulated sum and keep the first index of the minimum\n",
    "    skew_counts[0] = letter_table[seq[0]]\n",
    "    minimum = skew_counts[0]\n",
    "    min_index = 0\n",
    "    for i in range(1,len(seq)):\n",
    "        # Compute cumulated sum\n",
    "        skew_counts[i] = skew_counts[i-1] + letter_table[seq[i]]\n",
    "        # and keep minimum\n",
    "        ismin = (skew_counts[i]<minimum)\n",
    "        minimum = min_two(skew_counts[i], minimum)\n",
    "        min_index = i*ismin + min_index*(1-ismin)\n",
    "        \n",
    "    return min_index, skew_counts\n"
   ]
  },
  {
   "cell_type": "markdown",
   "metadata": {},
   "source": [
    "As mentioned, the function will only output the first index where the minimum value is reached. This is a limitation of FHE. It is indeed not possible to retrieve an arbitrary number of locations in FHE, for instance to return a list with all indices where the minimum is reached. We could however return an array of the size of the sequence containing ones where the minimum is reached, or, with very extensive computations, containing the indices of the minimum followed by zeros.  \n",
    "\n",
    "Let's test our function on a clear sequence, and plot the cumulated sum of 'C' letters minus 'G' letters. Then we test it with encrypted data:"
   ]
  },
  {
   "cell_type": "code",
   "execution_count": 99,
   "metadata": {
    "scrolled": true
   },
   "outputs": [
    {
     "name": "stdout",
     "output_type": "stream",
     "text": [
      "Python: The minimum skew is at index: 18\n"
     ]
    },
    {
     "data": {
      "image/png": "[encoded data removed]",
      "text/plain": [
       "<Figure size 640x480 with 1 Axes>"
      ]
     },
     "metadata": {},
     "output_type": "display_data"
    }
   ],
   "source": [
    "SEQ_O = Seq('AGTGACGTAGCACATCCACGAGGTG')\n",
    "\n",
    "OUTPUT_PYTHON, skew_counts = minimum_skew(SEQ_O, np)\n",
    "print('Python: The minimum skew is at index:', OUTPUT_PYTHON)\n",
    "\n",
    "# Plot the skew_counts to check them out\n",
    "import matplotlib.pyplot as plt\n",
    "plt.plot(skew_counts)\n",
    "plt.ylabel('Skew Counts')\n",
    "_=plt.xlabel('Index of DNA')\n"
   ]
  },
  {
   "cell_type": "code",
   "execution_count": 100,
   "metadata": {},
   "outputs": [
    {
     "name": "stdout",
     "output_type": "stream",
     "text": [
      "FHE, simulated: The minimum skew is at index:\n",
      "|  Compiling  : 2.57 s  |\n",
      "|  Encrypting : 0.39 s  |\n"
     ]
    },
    {
     "name": "stderr",
     "output_type": "stream",
     "text": [
      "WARNING: The generated random seed is not crypto secure\n",
      "WARNING: The generated random seed is not crypto secure\n"
     ]
    },
    {
     "name": "stdout",
     "output_type": "stream",
     "text": [
      "|  Running    : 18.84 s  |\n",
      "==> Result : 18 \n",
      "\n"
     ]
    }
   ],
   "source": [
    "def process_sequence(seq, lib=fhe):\n",
    "    return minimum_skew(seq, lib)[0] # return only the minimum value for fhe\n",
    "\n",
    "compute_fhe_output(SEQ_O, process_sequence, description='FHE: The minimum skew is at index:')"
   ]
  },
  {
   "cell_type": "markdown",
   "metadata": {},
   "source": [
    "## III. Sorting sequences\n",
    "\n",
    "### Comparing two sequences:\n",
    "\n",
    "As we already saw, <span style=\"color:green\">**Seq**</span> and <span style=\"color:orange\">**FheSeq**</span> classes implement some operators such as **len(**seq**)**, seq**[i:j]**,  or s1**==**s2. They also implement the comparison operators s1 **>** s2, s1 **>=** s2 and their opposite s1 **<** s2, s1 **<=** s2.  \n",
    "\n",
    "For the <span style=\"color:green\">**Seq**</span> class, a sequence **A** is lower than another sequence **B** (noted *A<B*) if **A** is alphabetically lower than **B** (and not equal to B). The first character is compared first:  \n",
    "- If *A[0] < B[0]* then *A < B*\n",
    "- Else, if *A[0] > B[0]* then *A > B*\n",
    "- Else, *A[0] = B[0]*, so the second character is compared, and so on.  \n",
    "\n",
    "For instance, `Seq('AB')` is lower than `Seq('AC')`. Also, `Seq('AA')` is lower than the `Seq('AAA')` because the empty character at the end is considered alphabetically lower than all other characters. The <span style=\"color:orange\">**HfeSeq**</span> class works with the same principle.\n",
    "\n",
    "### Ranking a list of sequences:\n",
    "With such comparison operators, we are able to sort a list of sequences. On clear data, it is possible to use `sorted(sequence_list)` to sort a list of sequences, but in FHE, this is impossible. Indeed, `sorted()` uses **if** conditions to order the sequences in a new **list** object. In FHE, because **if** conditions are forbidden, we cannot create a new ordered list. However, we can create an array where each index contains the rank of the sequence at this index.  \n",
    "\n",
    "To do so, we can build a comparison matrix. Suppose our list of sequences is the following : `seqlist = ['CAA', 'AAB', 'CAA', 'AA', 'AAA']`, and we want an ascending ranking. In our comparison matrix, we will compute `comp_matrix[i,j] = seqlist[i]<seqlist[j]` when `i<j`(upper half), and `seqlist[i]>=seqlist[j]` equal to `1-comp_matrix[i,j]` when `j<i` (lower half).  \n",
    "\n",
    "Then, we can sum up the results on each row to get how many other sequences are lower than the sequence of the row, which gives exactly the ranking of this sequence in the list. Note that even though two identical sequences are provided, they get each a different rank, which is preferable (this is because we used `seqlist[i]>=seqlist[j]` instead of `seqlist[i]>seqlist[j]`).\n",
    "\n",
    "<div>\n",
    "<img src=\"https://rcd-media.com/docs/fhe/tableau_sort.png\" width=\"750\"/>\n",
    "</div>"
   ]
  },
  {
   "cell_type": "code",
   "execution_count": 103,
   "metadata": {},
   "outputs": [],
   "source": [
    "def sort_rank(seqlist, lib=fhe, ascending=True):\n",
    "    \"\"\"\n",
    "    Returns an array with the rank of each sequence in the list\n",
    "    \"\"\"\n",
    "    n=len(seqlist)\n",
    "    # Create a comparison matrix\n",
    "    comp_matrix = lib.zeros((n,n))\n",
    "    # Fill the matrix with comparison results\n",
    "    for i in range(0, n):\n",
    "        for j in range(i+1, n):\n",
    "            # Compute upper half of the matrix with seqlist[i]<seqlist[j]\n",
    "            if ascending:\n",
    "                comp_matrix[i,j] = (seqlist[i]<seqlist[j])\n",
    "            else:\n",
    "                comp_matrix[i,j] = (seqlist[i]>=seqlist[j])\n",
    "                \n",
    "            # Then fill the contrary to the lower half \n",
    "            comp_matrix[j,i] = 1-comp_matrix[i,j]\n",
    "            # Note: 1-comp_matrix[i,j] is the same as seqlist[j]>=seqlist[i] (for ascending)\n",
    "            # Using seqlist[j]>=seqlist[i] instead of seqlist[j]>seqlist[i]\n",
    "            # will return a clear order, with different ranks even for\n",
    "            # equal sequences. Also, this is faster.\n",
    "            \n",
    "    # now sum up each row to get a sorting rank for the sequences\n",
    "    return np.sum(comp_matrix, axis=0)\n",
    "            \n",
    "     \n",
    "def process_sequence(seq, lib=fhe):\n",
    "    seqlist = slice_sequence(seq, INDICES_S)\n",
    "    return sort_rank(seqlist, lib)"
   ]
  },
  {
   "cell_type": "markdown",
   "metadata": {},
   "source": [
    "Let's test this algorithm on the example sequence list:"
   ]
  },
  {
   "cell_type": "code",
   "execution_count": 106,
   "metadata": {},
   "outputs": [
    {
     "name": "stdout",
     "output_type": "stream",
     "text": [
      "Sorted list: [Seq('AA'), Seq('AAA'), Seq('AAB'), Seq('CAA'), Seq('CAA')]\n",
      "\n",
      "The sorted indices of sequences are : [4. 2. 3. 0. 1.]\n"
     ]
    }
   ],
   "source": [
    "# Test the sequence list of the example\n",
    "SEQ1 = Seq('AA')\n",
    "SEQ2 = Seq('AAA') # as mentioned earlier, SEQ2 is alphabetically greater than SEQ1\n",
    "SEQ3 = Seq('AAB')\n",
    "SEQ4 = Seq('CAA')\n",
    "SEQ5 = Seq('CAA') # same a SEQ4, will be ranked after it\n",
    "\n",
    "# Create a shuffled list, like in the example\n",
    "seqlist = [SEQ5, SEQ3, SEQ4, SEQ1, SEQ2]\n",
    "\n",
    "# Test sorted in python to compare (remember this cannot work in fhe):\n",
    "print('Sorted list:', sorted(seqlist))\n",
    "\n",
    "# Concatenate the list\n",
    "SEQ_S, INDICES_S = concat_sequences(seqlist)\n",
    "\n",
    "# Test our algorithm in python\n",
    "OUTPUT_PYTHON = process_sequence(SEQ_S, np)\n",
    "print(\"\\nThe ranks of sequences are :\", OUTPUT_PYTHON)"
   ]
  },
  {
   "cell_type": "code",
   "execution_count": 107,
   "metadata": {},
   "outputs": [
    {
     "name": "stdout",
     "output_type": "stream",
     "text": [
      "The sorted indices of sequences are:\n",
      "|  Compiling  : 2.64 s  |\n",
      "|  Encrypting : 0.20 s  |\n"
     ]
    },
    {
     "name": "stderr",
     "output_type": "stream",
     "text": [
      "WARNING: The generated random seed is not crypto secure\n",
      "WARNING: The generated random seed is not crypto secure\n"
     ]
    },
    {
     "name": "stdout",
     "output_type": "stream",
     "text": [
      "|  Running    : 7.50 s  |\n",
      "==> Result : [4 2 3 0 1] \n",
      "\n"
     ]
    }
   ],
   "source": [
    "compute_fhe_output(SEQ_S, process_sequence, description='FHE: The ranks of sequences are:')"
   ]
  },
  {
   "cell_type": "code",
   "execution_count": 108,
   "metadata": {},
   "outputs": [
    {
     "name": "stdout",
     "output_type": "stream",
     "text": [
      "The sorted indices of sequences are:\n",
      "|  Compiling  : 1.89 s  |\n",
      "|  Encrypting : 0.10 s  |\n",
      "|  Running    : 1.05 s  |\n",
      "==> Result : [4 2 3 0 1] \n",
      "\n"
     ]
    },
    {
     "name": "stderr",
     "output_type": "stream",
     "text": [
      "WARNING: The generated random seed is not crypto secure\n",
      "WARNING: The generated random seed is not crypto secure\n"
     ]
    }
   ],
   "source": [
    "# also test on a limited alphabet to compare\n",
    "SeqWrapper.setAlphabet('ABCDEFG')\n",
    "compute_fhe_output(SEQ_S, process_sequence, description='The ranks of sequences are:')\n",
    "SeqWrapper.resetAlphabet()"
   ]
  },
  {
   "cell_type": "markdown",
   "metadata": {},
   "source": [
    "Much faster !"
   ]
  },
  {
   "cell_type": "code",
   "execution_count": null,
   "metadata": {},
   "outputs": [],
   "source": []
  }
 ],
 "metadata": {
  "kernelspec": {
   "display_name": "concrete-biopython",
   "language": "python",
   "name": "concrete-biopython"
  },
  "language_info": {
   "codemirror_mode": {
    "name": "ipython",
    "version": 3
   },
   "file_extension": ".py",
   "mimetype": "text/x-python",
   "name": "python",
   "nbconvert_exporter": "python",
   "pygments_lexer": "ipython3",
   "version": "3.10.11"
  }
 },
 "nbformat": 4,
 "nbformat_minor": 4
}
