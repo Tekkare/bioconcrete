{
 "cells": [
  {
   "cell_type": "markdown",
   "metadata": {},
   "source": [
    "## Sorting sequences"
   ]
  },
  {
   "cell_type": "code",
   "execution_count": 41,
   "metadata": {},
   "outputs": [],
   "source": [
    "import numpy as np\n",
    "import numpy as np\n",
    "from concrete import fhe\n",
    "from Bio.Seq import Seq, MutableSeq\n",
    "\n",
    "import sys, os\n",
    "sys.path.append(os.path.dirname(os.getcwd()))\n",
    "\n",
    "from concrete_biopython.FheSeq import FheSeq, FheMutableSeq\n",
    "from concrete_biopython.SeqWrapper import SeqWrapper\n"
   ]
  },
  {
   "cell_type": "code",
   "execution_count": 42,
   "metadata": {},
   "outputs": [],
   "source": [
    "SEQ1 = Seq('AA')\n",
    "SEQ2 = Seq('AAA')\n",
    "SEQ3 = Seq('AAB')\n",
    "SEQ4 = Seq('CAA')"
   ]
  },
  {
   "cell_type": "code",
   "execution_count": 43,
   "metadata": {},
   "outputs": [],
   "source": [
    "# concatenate sequences from a list and record indices as slices\n",
    "def gen_seq_indices(seqs):\n",
    "    slices=[]\n",
    "    seq=Seq('')\n",
    "    index=0\n",
    "    for s in seqs:\n",
    "        seq = seq+s\n",
    "        slices.append(slice(index, index+len(s)))\n",
    "        index+=len(s)\n",
    "    return seq, slices"
   ]
  },
  {
   "cell_type": "code",
   "execution_count": 44,
   "metadata": {},
   "outputs": [
    {
     "name": "stdout",
     "output_type": "stream",
     "text": [
      "AABCAAAAAAA\n"
     ]
    }
   ],
   "source": [
    "SEQ, INDICES = gen_seq_indices([SEQ3, SEQ4, SEQ1, SEQ2])\n",
    "print(SEQ)"
   ]
  },
  {
   "cell_type": "code",
   "execution_count": 45,
   "metadata": {},
   "outputs": [],
   "source": [
    "def slice_seq(seq, slices):\n",
    "    seqs=[]\n",
    "    index=0\n",
    "    for ind in slices:\n",
    "        seqs.append(seq[ind.start:ind.stop])\n",
    "    return seqs"
   ]
  },
  {
   "cell_type": "code",
   "execution_count": 46,
   "metadata": {},
   "outputs": [],
   "source": [
    "def sort_rank(seqlist, lib=fhe):\n",
    "    n=len(seqlist)\n",
    "    # create comparison matrix\n",
    "    comp_matrix = lib.zeros((n,n))\n",
    "    # fill the matrix with results of seqlist[i]>seqlist[j]\n",
    "    for i in range(0, n):\n",
    "        for j in range(i+1, n):\n",
    "            # compute upper half of the matrix\n",
    "            comp_matrix[i,j] = 1*(seqlist[i]<seqlist[j])\n",
    "            # then copy the opposite to the lower half because the matrix is antisymetrical\n",
    "            comp_matrix[j,i] = 1-comp_matrix[i,j] # this counts seqlist[j]>=seqlist[i]\n",
    "    # now sum up each row to get a sorting rank for the sequences\n",
    "    return np.sum(comp_matrix, axis=0)\n",
    "            \n",
    "def process_seq(seq, lib=fhe):\n",
    "    seqlist = slice_seq(seq, INDICES)\n",
    "    return sort_rank(seqlist, lib)"
   ]
  },
  {
   "cell_type": "code",
   "execution_count": 47,
   "metadata": {},
   "outputs": [
    {
     "name": "stdout",
     "output_type": "stream",
     "text": [
      "The sorted indices of sequences are :  [2. 3. 0. 1.]\n"
     ]
    }
   ],
   "source": [
    "OUTPUT_PYTHON = process_seq(SEQ, np)\n",
    "print(\"The sorted indices of sequences are : \", OUTPUT_PYTHON)"
   ]
  },
  {
   "cell_type": "code",
   "execution_count": 48,
   "metadata": {},
   "outputs": [],
   "source": [
    "# wrap a fhe circuit in order to input and output Bio.Seq objects.\n",
    "def circuit_wrapper(circuit, seq, simulate=False):\n",
    "    # convert Seq objects to integers with SeqWrapper.toIntegers\n",
    "    integers = SeqWrapper(seq).toIntegers()\n",
    "    # run the circuit with integer inputs\n",
    "    integer_output = circuit.simulate(integers) if simulate else circuit.encrypt_run_decrypt(integers)\n",
    "    # convert back the integer outputs into a Seq objects with SeqWrapper.toSeq\n",
    "    return integer_output"
   ]
  },
  {
   "cell_type": "code",
   "execution_count": 49,
   "metadata": {},
   "outputs": [],
   "source": [
    "def process_seq_adapter(integer_seq):\n",
    "    # convert integer to FheSeq object, process it and return result as integer array\n",
    "    return process_seq(FheSeq(integer_seq))"
   ]
  },
  {
   "cell_type": "code",
   "execution_count": 50,
   "metadata": {},
   "outputs": [],
   "source": [
    "def make_circuit(input_length):\n",
    "    # compile the process_seq_adapter function and create a circuit\n",
    "    compiler = fhe.Compiler(lambda data: process_seq_adapter(data), {\"data\": \"encrypted\"})    \n",
    "    return compiler.compile(\n",
    "        inputset=[\n",
    "        np.random.randint(0, SeqWrapper.maxInteger()+1, size=(input_length,))\n",
    "        for _ in range(100)\n",
    "        ],\n",
    "        configuration=fhe.Configuration(\n",
    "            enable_unsafe_features=True,\n",
    "            use_insecure_key_cache=True,\n",
    "            insecure_key_cache_location=\".keys\",\n",
    "            dataflow_parallelize=False, # setting it to True makes the jupyter kernel crash\n",
    "        ),\n",
    "        verbose=False,\n",
    "    )"
   ]
  },
  {
   "cell_type": "code",
   "execution_count": 51,
   "metadata": {},
   "outputs": [
    {
     "name": "stderr",
     "output_type": "stream",
     "text": [
      "WARNING: The generated random seed is not crypto secure\n"
     ]
    },
    {
     "name": "stdout",
     "output_type": "stream",
     "text": [
      "The sorted indices of sequences are :  [2 3 0 1]\n"
     ]
    },
    {
     "name": "stderr",
     "output_type": "stream",
     "text": [
      "WARNING: The generated random seed is not crypto secure\n"
     ]
    }
   ],
   "source": [
    "# now we can run our circuit on Seq objects and compare the result with output_seq\n",
    "\n",
    "simulate = False\n",
    "\n",
    "# and without (slower)\n",
    "OUTPUT_FHE = circuit_wrapper(make_circuit(len(SEQ)), SEQ, simulate)\n",
    "print(\"The sorted indices of sequences are : \", OUTPUT_FHE)\n",
    "assert(np.all(OUTPUT_PYTHON == OUTPUT_FHE))\n"
   ]
  },
  {
   "cell_type": "markdown",
   "metadata": {},
   "source": [
    "## Hamming distance"
   ]
  },
  {
   "cell_type": "code",
   "execution_count": 31,
   "metadata": {},
   "outputs": [],
   "source": [
    "def hamming(dna1, dna2):\n",
    "    \"\"\"\n",
    "    Returns the number of differences between dna1 and dna2.\n",
    "    \"\"\"\n",
    "    return np.sum(dna1 != dna2)\n",
    "\n",
    "def hamming_adapter(seq1, seq2, lib=fhe):\n",
    "    \"\"\"\n",
    "    Adapter for hamming distance of Seq objects\n",
    "    \"\"\"\n",
    "    if lib is fhe:\n",
    "        return hamming(seq1.toArray(),seq2.toArray())\n",
    "    else:\n",
    "        return hamming(np.array(list(seq1.__str__())), np.array(list(seq2.__str__())))\n",
    "\n",
    "\n",
    "S = \"AGGTTGGTAAAATGGTCCGTGGC\"\n",
    "T = \"ACCGTAATAAACGTGTCCGTTGG\"\n"
   ]
  },
  {
   "cell_type": "code",
   "execution_count": 52,
   "metadata": {},
   "outputs": [
    {
     "name": "stdout",
     "output_type": "stream",
     "text": [
      "AGGTTGGTAAAATGGTCCGTGGCACCGTAATAAACGTGTCCGTTGG\n"
     ]
    }
   ],
   "source": [
    "SEQ_H, INDICES_H = gen_seq_indices([S,T])\n",
    "print(SEQ_H)"
   ]
  },
  {
   "cell_type": "code",
   "execution_count": 53,
   "metadata": {},
   "outputs": [],
   "source": [
    "def process_seq(seq, lib=fhe):\n",
    "    seqlist = slice_seq(seq, INDICES_H)\n",
    "    return hamming_adapter(seqlist[0],seqlist[1], lib)"
   ]
  },
  {
   "cell_type": "code",
   "execution_count": 54,
   "metadata": {},
   "outputs": [
    {
     "name": "stdout",
     "output_type": "stream",
     "text": [
      "There are 10 differences between S & T.\n"
     ]
    }
   ],
   "source": [
    "OUTPUT_PYTHON = process_seq(SEQ_H, np)\n",
    "print(f'There are {OUTPUT_PYTHON} differences between S & T.')"
   ]
  },
  {
   "cell_type": "code",
   "execution_count": 55,
   "metadata": {},
   "outputs": [
    {
     "name": "stderr",
     "output_type": "stream",
     "text": [
      "WARNING: The generated random seed is not crypto secure\n"
     ]
    },
    {
     "name": "stdout",
     "output_type": "stream",
     "text": [
      "The sorted indices of sequences are :  10\n"
     ]
    },
    {
     "name": "stderr",
     "output_type": "stream",
     "text": [
      "WARNING: The generated random seed is not crypto secure\n"
     ]
    }
   ],
   "source": [
    "# now we can run our circuit on Seq objects and compare the result with output_seq\n",
    "\n",
    "simulate = False\n",
    "\n",
    "# and without (slower)\n",
    "OUTPUT_FHE = circuit_wrapper(make_circuit(len(SEQ_H)), SEQ_H, simulate)\n",
    "print(\"The sorted indices of sequences are : \", OUTPUT_FHE)\n",
    "assert(np.all(OUTPUT_PYTHON == OUTPUT_FHE))"
   ]
  },
  {
   "cell_type": "code",
   "execution_count": null,
   "metadata": {},
   "outputs": [],
   "source": []
  }
 ],
 "metadata": {
  "kernelspec": {
   "display_name": "concrete-biopython",
   "language": "python",
   "name": "concrete-biopython"
  },
  "language_info": {
   "codemirror_mode": {
    "name": "ipython",
    "version": 3
   },
   "file_extension": ".py",
   "mimetype": "text/x-python",
   "name": "python",
   "nbconvert_exporter": "python",
   "pygments_lexer": "ipython3",
   "version": "3.10.11"
  }
 },
 "nbformat": 4,
 "nbformat_minor": 4
}
