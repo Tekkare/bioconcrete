{
 "cells": [
  {
   "cell_type": "markdown",
   "metadata": {},
   "source": [
    "## Set up for multiple practical applications"
   ]
  },
  {
   "cell_type": "code",
   "execution_count": 43,
   "metadata": {},
   "outputs": [],
   "source": [
    "import numpy as np\n",
    "import numpy as np\n",
    "from concrete import fhe\n",
    "from Bio.Seq import Seq, MutableSeq\n",
    "\n",
    "import sys, os\n",
    "sys.path.append(os.path.dirname(os.getcwd()))\n",
    "\n",
    "from concrete_biopython.FheSeq import FheSeq, FheMutableSeq\n",
    "from concrete_biopython.SeqWrapper import SeqWrapper\n"
   ]
  },
  {
   "cell_type": "code",
   "execution_count": 44,
   "metadata": {},
   "outputs": [],
   "source": [
    "# concatenate sequences from a list and record indices as slices\n",
    "def gen_seq_indices(seqs):\n",
    "    slices=[]\n",
    "    seq=Seq('')\n",
    "    index=0\n",
    "    for s in seqs:\n",
    "        seq = seq+s\n",
    "        slices.append(slice(index, index+len(s)))\n",
    "        index+=len(s)\n",
    "    return seq, slices"
   ]
  },
  {
   "cell_type": "code",
   "execution_count": 45,
   "metadata": {},
   "outputs": [
    {
     "name": "stdout",
     "output_type": "stream",
     "text": [
      "ABCDEF\n"
     ]
    }
   ],
   "source": [
    "SEQ, INDICES = gen_seq_indices([Seq('AB'), Seq('C'), Seq('DEF')])\n",
    "print(SEQ)"
   ]
  },
  {
   "cell_type": "code",
   "execution_count": 46,
   "metadata": {},
   "outputs": [],
   "source": [
    "def slice_seq(seq, slices):\n",
    "    seqs=[]\n",
    "    index=0\n",
    "    for ind in slices:\n",
    "        seqs.append(seq[ind.start:ind.stop])\n",
    "    return seqs"
   ]
  },
  {
   "cell_type": "code",
   "execution_count": 47,
   "metadata": {},
   "outputs": [],
   "source": [
    "def process_seq(seq, lib=fhe):\n",
    "    seqlist = slice_seq(seq, INDICES)\n",
    "    return seqlist[0]==seqlist[1]"
   ]
  },
  {
   "cell_type": "code",
   "execution_count": 48,
   "metadata": {},
   "outputs": [
    {
     "name": "stdout",
     "output_type": "stream",
     "text": [
      "Are the first two sequences equal ? :  False\n"
     ]
    }
   ],
   "source": [
    "OUTPUT_PYTHON = process_seq(SEQ, np)\n",
    "print(\"Are the first two sequences equal ? : \", OUTPUT_PYTHON)"
   ]
  },
  {
   "cell_type": "code",
   "execution_count": 49,
   "metadata": {},
   "outputs": [],
   "source": [
    "# wrap a fhe circuit in order to input and output Bio.Seq objects.\n",
    "def circuit_wrapper(circuit, seq, simulate=False):\n",
    "    # convert Seq objects to integers with SeqWrapper.toIntegers\n",
    "    integers = SeqWrapper(seq).toIntegers()\n",
    "    # run the circuit with integer inputs\n",
    "    integer_output = circuit.simulate(integers) if simulate else circuit.encrypt_run_decrypt(integers)\n",
    "    # convert back the integer outputs into a Seq objects with SeqWrapper.toSeq\n",
    "    return integer_output"
   ]
  },
  {
   "cell_type": "code",
   "execution_count": 50,
   "metadata": {},
   "outputs": [],
   "source": [
    "def process_seq_adapter(integer_seq, process_seq):\n",
    "    # convert integer to FheSeq object, process it and return result as integer array\n",
    "    return process_seq(FheSeq(integer_seq))"
   ]
  },
  {
   "cell_type": "code",
   "execution_count": 66,
   "metadata": {},
   "outputs": [],
   "source": [
    "def make_circuit(input_length, process_seq):\n",
    "    # compile the process_seq_adapter function and create a circuit\n",
    "    compiler = fhe.Compiler(lambda data: process_seq_adapter(data, process_seq), {\"data\": \"encrypted\"})    \n",
    "    return compiler.compile(\n",
    "        inputset=[\n",
    "        np.random.randint(0, SeqWrapper.maxInteger()+1, size=(input_length,))\n",
    "        for _ in range(100)\n",
    "        ],\n",
    "        configuration=fhe.Configuration(\n",
    "            enable_unsafe_features=True,\n",
    "            use_insecure_key_cache=True,\n",
    "            insecure_key_cache_location=\".keys\",\n",
    "            dataflow_parallelize=False, # setting it to True makes the jupyter kernel crash\n",
    "        ),\n",
    "        verbose=False,\n",
    "    )"
   ]
  },
  {
   "cell_type": "code",
   "execution_count": 67,
   "metadata": {},
   "outputs": [
    {
     "name": "stdout",
     "output_type": "stream",
     "text": [
      "\n",
      "Computation Graph\n",
      "--------------------------------------------------------------------------------\n",
      " %0 = data                                             # EncryptedTensor<uint5, shape=(6,)>        ∈ [0, 27]\n",
      " %1 = %0[:]                                            # EncryptedTensor<uint5, shape=(6,)>        ∈ [0, 27]\n",
      " %2 = zeros()                                          # EncryptedTensor<int3, shape=(6,)>         ∈ [-2, 2]\n",
      " %3 = %1[0]                                            # EncryptedScalar<uint5>                    ∈ [0, 27]\n",
      " %4 = tlu(%3, table=[ 0  0  0  ...   0  0  0])         # EncryptedScalar<int2>                     ∈ [-1, 1]\n",
      " %5 = (%2[0] = %4)                                     # EncryptedTensor<int3, shape=(6,)>         ∈ [-2, 2]\n",
      " %6 = %5[0]                                            # EncryptedScalar<int2>                     ∈ [-1, 1]\n",
      " %7 = %5[0]                                            # EncryptedScalar<int2>                     ∈ [-1, 1]\n",
      " %8 = %1[1]                                            # EncryptedScalar<uint5>                    ∈ [0, 27]\n",
      " %9 = tlu(%8, table=[ 0  0  0  ...   0  0  0])         # EncryptedScalar<int2>                     ∈ [-1, 1]\n",
      "%10 = add(%7, %9)                                      # EncryptedScalar<int3>                     ∈ [-1, 2]\n",
      "%11 = (%5[1] = %10)                                    # EncryptedTensor<int3, shape=(6,)>         ∈ [-2, 2]\n",
      "%12 = %11[1]                                           # EncryptedScalar<int3>                     ∈ [-1, 2]\n",
      "%13 = less(%12, %6)                                    # EncryptedScalar<uint1>                    ∈ [0, 1]\n",
      "%14 = %11[1]                                           # EncryptedScalar<int3>                     ∈ [-1, 2]\n",
      "%15 = multiply(%14, %13)                               # EncryptedScalar<int1>                     ∈ [-1, 0]\n",
      "%16 = 1                                                # ClearScalar<uint1>                        ∈ [1, 1]\n",
      "%17 = subtract(%16, %13)                               # EncryptedScalar<uint1>                    ∈ [0, 1]\n",
      "%18 = multiply(%6, %17)                                # EncryptedScalar<int2>                     ∈ [-1, 1]\n",
      "%19 = add(%15, %18)                                    # EncryptedScalar<int2>                     ∈ [-1, 1]\n",
      "%20 = 1                                                # ClearScalar<uint1>                        ∈ [1, 1]\n",
      "%21 = multiply(%20, %13)                               # EncryptedScalar<uint1>                    ∈ [0, 1]\n",
      "%22 = 1                                                # ClearScalar<uint1>                        ∈ [1, 1]\n",
      "%23 = subtract(%22, %13)                               # EncryptedScalar<uint1>                    ∈ [0, 1]\n",
      "%24 = 0                                                # ClearScalar<uint1>                        ∈ [0, 0]\n",
      "%25 = multiply(%24, %23)                               # EncryptedScalar<uint1>                    ∈ [0, 0]\n",
      "%26 = add(%21, %25)                                    # EncryptedScalar<uint1>                    ∈ [0, 1]\n",
      "%27 = %11[1]                                           # EncryptedScalar<int3>                     ∈ [-1, 2]\n",
      "%28 = %1[2]                                            # EncryptedScalar<uint5>                    ∈ [0, 27]\n",
      "%29 = tlu(%28, table=[ 0  0  0  ...   0  0  0])        # EncryptedScalar<int1>                     ∈ [-1, 0]\n",
      "%30 = add(%27, %29)                                    # EncryptedScalar<int3>                     ∈ [-1, 2]\n",
      "%31 = (%11[2] = %30)                                   # EncryptedTensor<int3, shape=(6,)>         ∈ [-2, 2]\n",
      "%32 = %31[2]                                           # EncryptedScalar<int3>                     ∈ [-1, 2]\n",
      "%33 = less(%32, %19)                                   # EncryptedScalar<uint1>                    ∈ [0, 1]\n",
      "%34 = %31[2]                                           # EncryptedScalar<int3>                     ∈ [-1, 2]\n",
      "%35 = multiply(%34, %33)                               # EncryptedScalar<int1>                     ∈ [-1, 0]\n",
      "%36 = 1                                                # ClearScalar<uint1>                        ∈ [1, 1]\n",
      "%37 = subtract(%36, %33)                               # EncryptedScalar<uint1>                    ∈ [0, 1]\n",
      "%38 = multiply(%19, %37)                               # EncryptedScalar<int2>                     ∈ [-1, 1]\n",
      "%39 = add(%35, %38)                                    # EncryptedScalar<int2>                     ∈ [-1, 1]\n",
      "%40 = 2                                                # ClearScalar<uint2>                        ∈ [2, 2]\n",
      "%41 = multiply(%40, %33)                               # EncryptedScalar<uint2>                    ∈ [0, 2]\n",
      "%42 = 1                                                # ClearScalar<uint1>                        ∈ [1, 1]\n",
      "%43 = subtract(%42, %33)                               # EncryptedScalar<uint1>                    ∈ [0, 1]\n",
      "%44 = multiply(%26, %43)                               # EncryptedScalar<uint1>                    ∈ [0, 1]\n",
      "%45 = add(%41, %44)                                    # EncryptedScalar<uint2>                    ∈ [0, 2]\n",
      "%46 = %31[2]                                           # EncryptedScalar<int3>                     ∈ [-1, 2]\n",
      "%47 = %1[3]                                            # EncryptedScalar<uint5>                    ∈ [0, 27]\n",
      "%48 = tlu(%47, table=[ 0  0  0  ...   0  0  0])        # EncryptedScalar<int2>                     ∈ [-1, 1]\n",
      "%49 = add(%46, %48)                                    # EncryptedScalar<int2>                     ∈ [-2, 1]\n",
      "%50 = (%31[3] = %49)                                   # EncryptedTensor<int3, shape=(6,)>         ∈ [-2, 2]\n",
      "%51 = %50[3]                                           # EncryptedScalar<int2>                     ∈ [-2, 1]\n",
      "%52 = less(%51, %39)                                   # EncryptedScalar<uint1>                    ∈ [0, 1]\n",
      "%53 = %50[3]                                           # EncryptedScalar<int2>                     ∈ [-2, 1]\n",
      "%54 = multiply(%53, %52)                               # EncryptedScalar<int2>                     ∈ [-2, 0]\n",
      "%55 = 1                                                # ClearScalar<uint1>                        ∈ [1, 1]\n",
      "%56 = subtract(%55, %52)                               # EncryptedScalar<uint1>                    ∈ [0, 1]\n",
      "%57 = multiply(%39, %56)                               # EncryptedScalar<int2>                     ∈ [-1, 1]\n",
      "%58 = add(%54, %57)                                    # EncryptedScalar<int2>                     ∈ [-2, 1]\n",
      "%59 = 3                                                # ClearScalar<uint2>                        ∈ [3, 3]\n",
      "%60 = multiply(%59, %52)                               # EncryptedScalar<uint2>                    ∈ [0, 3]\n",
      "%61 = 1                                                # ClearScalar<uint1>                        ∈ [1, 1]\n",
      "%62 = subtract(%61, %52)                               # EncryptedScalar<uint1>                    ∈ [0, 1]\n",
      "%63 = multiply(%45, %62)                               # EncryptedScalar<uint2>                    ∈ [0, 2]\n",
      "%64 = add(%60, %63)                                    # EncryptedScalar<uint2>                    ∈ [0, 3]\n",
      "%65 = %50[3]                                           # EncryptedScalar<int2>                     ∈ [-2, 1]\n",
      "%66 = %1[4]                                            # EncryptedScalar<uint5>                    ∈ [0, 27]\n",
      "%67 = tlu(%66, table=[ 0  0  0  ...   0  0  0])        # EncryptedScalar<int2>                     ∈ [-1, 1]\n",
      "%68 = add(%65, %67)                                    # EncryptedScalar<int2>                     ∈ [-2, 1]\n",
      "%69 = (%50[4] = %68)                                   # EncryptedTensor<int3, shape=(6,)>         ∈ [-2, 2]\n",
      "%70 = %69[4]                                           # EncryptedScalar<int2>                     ∈ [-2, 1]\n",
      "%71 = less(%70, %58)                                   # EncryptedScalar<uint1>                    ∈ [0, 1]\n",
      "%72 = %69[4]                                           # EncryptedScalar<int2>                     ∈ [-2, 1]\n",
      "%73 = multiply(%72, %71)                               # EncryptedScalar<int1>                     ∈ [-1, 0]\n",
      "%74 = 1                                                # ClearScalar<uint1>                        ∈ [1, 1]\n",
      "%75 = subtract(%74, %71)                               # EncryptedScalar<uint1>                    ∈ [0, 1]\n",
      "%76 = multiply(%58, %75)                               # EncryptedScalar<int2>                     ∈ [-2, 1]\n",
      "%77 = add(%73, %76)                                    # EncryptedScalar<int2>                     ∈ [-2, 1]\n",
      "%78 = 4                                                # ClearScalar<uint3>                        ∈ [4, 4]\n",
      "%79 = multiply(%78, %71)                               # EncryptedScalar<uint3>                    ∈ [0, 4]\n",
      "%80 = 1                                                # ClearScalar<uint1>                        ∈ [1, 1]\n",
      "%81 = subtract(%80, %71)                               # EncryptedScalar<uint1>                    ∈ [0, 1]\n",
      "%82 = multiply(%64, %81)                               # EncryptedScalar<uint2>                    ∈ [0, 3]\n",
      "%83 = add(%79, %82)                                    # EncryptedScalar<uint3>                    ∈ [0, 4]\n",
      "%84 = %69[4]                                           # EncryptedScalar<int2>                     ∈ [-2, 1]\n",
      "%85 = %1[5]                                            # EncryptedScalar<uint5>                    ∈ [0, 27]\n",
      "%86 = tlu(%85, table=[ 0  0  0  ...   0  0  0])        # EncryptedScalar<int2>                     ∈ [-1, 1]\n",
      "%87 = add(%84, %86)                                    # EncryptedScalar<int3>                     ∈ [-2, 2]\n",
      "%88 = (%69[5] = %87)                                   # EncryptedTensor<int3, shape=(6,)>         ∈ [-2, 2]\n",
      "%89 = %88[5]                                           # EncryptedScalar<int3>                     ∈ [-2, 2]\n",
      "%90 = less(%89, %77)                                   # EncryptedScalar<uint1>                    ∈ [0, 1]\n",
      "%91 = 5                                                # ClearScalar<uint3>                        ∈ [5, 5]\n",
      "%92 = multiply(%91, %90)                               # EncryptedScalar<uint3>                    ∈ [0, 5]\n",
      "%93 = 1                                                # ClearScalar<uint1>                        ∈ [1, 1]\n",
      "%94 = subtract(%93, %90)                               # EncryptedScalar<uint1>                    ∈ [0, 1]\n",
      "%95 = multiply(%83, %94)                               # EncryptedScalar<uint3>                    ∈ [0, 4]\n",
      "%96 = add(%92, %95)                                    # EncryptedScalar<uint3>                    ∈ [0, 5]\n",
      "return %96\n",
      "--------------------------------------------------------------------------------\n",
      "\n",
      "MLIR\n",
      "--------------------------------------------------------------------------------\n",
      "module {\n",
      "  func.func @main(%arg0: tensor<6x!FHE.eint<5>>) -> !FHE.eint<5> {\n",
      "    %extracted_slice = tensor.extract_slice %arg0[0] [6] [1] : tensor<6x!FHE.eint<5>> to tensor<6x!FHE.eint<5>>\n",
      "    %0 = \"FHE.zero_tensor\"() : () -> tensor<6x!FHE.esint<5>>\n",
      "    %c0 = arith.constant 0 : index\n",
      "    %extracted = tensor.extract %extracted_slice[%c0] : tensor<6x!FHE.eint<5>>\n",
      "    %cst = arith.constant dense<[0, 0, 0, 0, -1, 0, 0, 0, 1, 0, 0, 0, 0, 0, 0, 0, 0, 0, 0, 0, 0, 0, 0, 0, 0, 0, 0, 0, 0, 0, 0, 0]> : tensor<32xi64>\n",
      "    %1 = \"FHE.apply_lookup_table\"(%extracted, %cst) : (!FHE.eint<5>, tensor<32xi64>) -> !FHE.esint<5>\n",
      "    %2 = tensor.from_elements %1 : tensor<1x!FHE.esint<5>>\n",
      "    %inserted_slice = tensor.insert_slice %2 into %0[0] [1] [1] : tensor<1x!FHE.esint<5>> into tensor<6x!FHE.esint<5>>\n",
      "    %extracted_0 = tensor.extract %inserted_slice[%c0] : tensor<6x!FHE.esint<5>>\n",
      "    %c1 = arith.constant 1 : index\n",
      "    %extracted_1 = tensor.extract %extracted_slice[%c1] : tensor<6x!FHE.eint<5>>\n",
      "    %3 = \"FHE.apply_lookup_table\"(%extracted_1, %cst) : (!FHE.eint<5>, tensor<32xi64>) -> !FHE.esint<5>\n",
      "    %4 = \"FHE.add_eint\"(%extracted_0, %3) : (!FHE.esint<5>, !FHE.esint<5>) -> !FHE.esint<5>\n",
      "    %5 = tensor.from_elements %4 : tensor<1x!FHE.esint<5>>\n",
      "    %inserted_slice_2 = tensor.insert_slice %5 into %inserted_slice[1] [1] [1] : tensor<1x!FHE.esint<5>> into tensor<6x!FHE.esint<5>>\n",
      "    %extracted_3 = tensor.extract %inserted_slice_2[%c1] : tensor<6x!FHE.esint<5>>\n",
      "    %6 = \"FHE.to_unsigned\"(%extracted_3) : (!FHE.esint<5>) -> !FHE.eint<5>\n",
      "    %7 = \"FHE.to_unsigned\"(%extracted_0) : (!FHE.esint<5>) -> !FHE.eint<5>\n",
      "    %8 = \"FHE.sub_eint\"(%6, %7) : (!FHE.eint<5>, !FHE.eint<5>) -> !FHE.eint<5>\n",
      "    %9 = \"FHE.to_signed\"(%8) : (!FHE.eint<5>) -> !FHE.esint<5>\n",
      "    %cst_4 = arith.constant dense<[0, 0, 0, 0, 0, 0, 0, 0, 0, 0, 0, 0, 0, 0, 0, 0, 1, 1, 1, 1, 1, 1, 1, 1, 1, 1, 1, 1, 1, 1, 1, 1]> : tensor<32xi64>\n",
      "    %10 = \"FHE.apply_lookup_table\"(%9, %cst_4) : (!FHE.esint<5>, tensor<32xi64>) -> !FHE.eint<5>\n",
      "    %11 = \"FHE.to_signed\"(%10) : (!FHE.eint<5>) -> !FHE.esint<5>\n",
      "    %12 = \"FHE.mul_eint\"(%extracted_3, %11) : (!FHE.esint<5>, !FHE.esint<5>) -> !FHE.esint<5>\n",
      "    %c1_i6 = arith.constant 1 : i6\n",
      "    %13 = \"FHE.sub_int_eint\"(%c1_i6, %10) : (i6, !FHE.eint<5>) -> !FHE.eint<5>\n",
      "    %14 = \"FHE.to_signed\"(%13) : (!FHE.eint<5>) -> !FHE.esint<5>\n",
      "    %15 = \"FHE.mul_eint\"(%extracted_0, %14) : (!FHE.esint<5>, !FHE.esint<5>) -> !FHE.esint<5>\n",
      "    %16 = \"FHE.add_eint\"(%12, %15) : (!FHE.esint<5>, !FHE.esint<5>) -> !FHE.esint<5>\n",
      "    %17 = \"FHE.mul_eint_int\"(%10, %c1_i6) : (!FHE.eint<5>, i6) -> !FHE.eint<5>\n",
      "    %c0_i6 = arith.constant 0 : i6\n",
      "    %18 = \"FHE.mul_eint_int\"(%13, %c0_i6) : (!FHE.eint<5>, i6) -> !FHE.eint<5>\n",
      "    %19 = \"FHE.add_eint\"(%17, %18) : (!FHE.eint<5>, !FHE.eint<5>) -> !FHE.eint<5>\n",
      "    %c2 = arith.constant 2 : index\n",
      "    %extracted_5 = tensor.extract %extracted_slice[%c2] : tensor<6x!FHE.eint<5>>\n",
      "    %20 = \"FHE.apply_lookup_table\"(%extracted_5, %cst) : (!FHE.eint<5>, tensor<32xi64>) -> !FHE.esint<5>\n",
      "    %21 = \"FHE.add_eint\"(%extracted_3, %20) : (!FHE.esint<5>, !FHE.esint<5>) -> !FHE.esint<5>\n",
      "    %22 = tensor.from_elements %21 : tensor<1x!FHE.esint<5>>\n",
      "    %inserted_slice_6 = tensor.insert_slice %22 into %inserted_slice_2[2] [1] [1] : tensor<1x!FHE.esint<5>> into tensor<6x!FHE.esint<5>>\n",
      "    %extracted_7 = tensor.extract %inserted_slice_6[%c2] : tensor<6x!FHE.esint<5>>\n",
      "    %23 = \"FHE.to_unsigned\"(%extracted_7) : (!FHE.esint<5>) -> !FHE.eint<5>\n",
      "    %24 = \"FHE.to_unsigned\"(%16) : (!FHE.esint<5>) -> !FHE.eint<5>\n",
      "    %25 = \"FHE.sub_eint\"(%23, %24) : (!FHE.eint<5>, !FHE.eint<5>) -> !FHE.eint<5>\n",
      "    %26 = \"FHE.to_signed\"(%25) : (!FHE.eint<5>) -> !FHE.esint<5>\n",
      "    %27 = \"FHE.apply_lookup_table\"(%26, %cst_4) : (!FHE.esint<5>, tensor<32xi64>) -> !FHE.eint<5>\n",
      "    %28 = \"FHE.to_signed\"(%27) : (!FHE.eint<5>) -> !FHE.esint<5>\n",
      "    %29 = \"FHE.mul_eint\"(%extracted_7, %28) : (!FHE.esint<5>, !FHE.esint<5>) -> !FHE.esint<5>\n",
      "    %30 = \"FHE.sub_int_eint\"(%c1_i6, %27) : (i6, !FHE.eint<5>) -> !FHE.eint<5>\n",
      "    %31 = \"FHE.to_signed\"(%30) : (!FHE.eint<5>) -> !FHE.esint<5>\n",
      "    %32 = \"FHE.mul_eint\"(%16, %31) : (!FHE.esint<5>, !FHE.esint<5>) -> !FHE.esint<5>\n",
      "    %33 = \"FHE.add_eint\"(%29, %32) : (!FHE.esint<5>, !FHE.esint<5>) -> !FHE.esint<5>\n",
      "    %c2_i6 = arith.constant 2 : i6\n",
      "    %34 = \"FHE.mul_eint_int\"(%27, %c2_i6) : (!FHE.eint<5>, i6) -> !FHE.eint<5>\n",
      "    %35 = \"FHE.mul_eint\"(%19, %30) : (!FHE.eint<5>, !FHE.eint<5>) -> !FHE.eint<5>\n",
      "    %36 = \"FHE.add_eint\"(%34, %35) : (!FHE.eint<5>, !FHE.eint<5>) -> !FHE.eint<5>\n",
      "    %c3 = arith.constant 3 : index\n",
      "    %extracted_8 = tensor.extract %extracted_slice[%c3] : tensor<6x!FHE.eint<5>>\n",
      "    %37 = \"FHE.apply_lookup_table\"(%extracted_8, %cst) : (!FHE.eint<5>, tensor<32xi64>) -> !FHE.esint<5>\n",
      "    %38 = \"FHE.add_eint\"(%extracted_7, %37) : (!FHE.esint<5>, !FHE.esint<5>) -> !FHE.esint<5>\n",
      "    %39 = tensor.from_elements %38 : tensor<1x!FHE.esint<5>>\n",
      "    %inserted_slice_9 = tensor.insert_slice %39 into %inserted_slice_6[3] [1] [1] : tensor<1x!FHE.esint<5>> into tensor<6x!FHE.esint<5>>\n",
      "    %extracted_10 = tensor.extract %inserted_slice_9[%c3] : tensor<6x!FHE.esint<5>>\n",
      "    %40 = \"FHE.to_unsigned\"(%extracted_10) : (!FHE.esint<5>) -> !FHE.eint<5>\n",
      "    %41 = \"FHE.to_unsigned\"(%33) : (!FHE.esint<5>) -> !FHE.eint<5>\n",
      "    %42 = \"FHE.sub_eint\"(%40, %41) : (!FHE.eint<5>, !FHE.eint<5>) -> !FHE.eint<5>\n",
      "    %43 = \"FHE.to_signed\"(%42) : (!FHE.eint<5>) -> !FHE.esint<5>\n",
      "    %44 = \"FHE.apply_lookup_table\"(%43, %cst_4) : (!FHE.esint<5>, tensor<32xi64>) -> !FHE.eint<5>\n",
      "    %45 = \"FHE.to_signed\"(%44) : (!FHE.eint<5>) -> !FHE.esint<5>\n",
      "    %46 = \"FHE.mul_eint\"(%extracted_10, %45) : (!FHE.esint<5>, !FHE.esint<5>) -> !FHE.esint<5>\n",
      "    %47 = \"FHE.sub_int_eint\"(%c1_i6, %44) : (i6, !FHE.eint<5>) -> !FHE.eint<5>\n",
      "    %48 = \"FHE.to_signed\"(%47) : (!FHE.eint<5>) -> !FHE.esint<5>\n",
      "    %49 = \"FHE.mul_eint\"(%33, %48) : (!FHE.esint<5>, !FHE.esint<5>) -> !FHE.esint<5>\n",
      "    %50 = \"FHE.add_eint\"(%46, %49) : (!FHE.esint<5>, !FHE.esint<5>) -> !FHE.esint<5>\n",
      "    %c3_i6 = arith.constant 3 : i6\n",
      "    %51 = \"FHE.mul_eint_int\"(%44, %c3_i6) : (!FHE.eint<5>, i6) -> !FHE.eint<5>\n",
      "    %52 = \"FHE.mul_eint\"(%36, %47) : (!FHE.eint<5>, !FHE.eint<5>) -> !FHE.eint<5>\n",
      "    %53 = \"FHE.add_eint\"(%51, %52) : (!FHE.eint<5>, !FHE.eint<5>) -> !FHE.eint<5>\n",
      "    %c4 = arith.constant 4 : index\n",
      "    %extracted_11 = tensor.extract %extracted_slice[%c4] : tensor<6x!FHE.eint<5>>\n",
      "    %54 = \"FHE.apply_lookup_table\"(%extracted_11, %cst) : (!FHE.eint<5>, tensor<32xi64>) -> !FHE.esint<5>\n",
      "    %55 = \"FHE.add_eint\"(%extracted_10, %54) : (!FHE.esint<5>, !FHE.esint<5>) -> !FHE.esint<5>\n",
      "    %56 = tensor.from_elements %55 : tensor<1x!FHE.esint<5>>\n",
      "    %inserted_slice_12 = tensor.insert_slice %56 into %inserted_slice_9[4] [1] [1] : tensor<1x!FHE.esint<5>> into tensor<6x!FHE.esint<5>>\n",
      "    %extracted_13 = tensor.extract %inserted_slice_12[%c4] : tensor<6x!FHE.esint<5>>\n",
      "    %57 = \"FHE.to_unsigned\"(%extracted_13) : (!FHE.esint<5>) -> !FHE.eint<5>\n",
      "    %58 = \"FHE.to_unsigned\"(%50) : (!FHE.esint<5>) -> !FHE.eint<5>\n",
      "    %59 = \"FHE.sub_eint\"(%57, %58) : (!FHE.eint<5>, !FHE.eint<5>) -> !FHE.eint<5>\n",
      "    %60 = \"FHE.to_signed\"(%59) : (!FHE.eint<5>) -> !FHE.esint<5>\n",
      "    %61 = \"FHE.apply_lookup_table\"(%60, %cst_4) : (!FHE.esint<5>, tensor<32xi64>) -> !FHE.eint<5>\n",
      "    %62 = \"FHE.to_signed\"(%61) : (!FHE.eint<5>) -> !FHE.esint<5>\n",
      "    %63 = \"FHE.mul_eint\"(%extracted_13, %62) : (!FHE.esint<5>, !FHE.esint<5>) -> !FHE.esint<5>\n",
      "    %64 = \"FHE.sub_int_eint\"(%c1_i6, %61) : (i6, !FHE.eint<5>) -> !FHE.eint<5>\n",
      "    %65 = \"FHE.to_signed\"(%64) : (!FHE.eint<5>) -> !FHE.esint<5>\n",
      "    %66 = \"FHE.mul_eint\"(%50, %65) : (!FHE.esint<5>, !FHE.esint<5>) -> !FHE.esint<5>\n",
      "    %67 = \"FHE.add_eint\"(%63, %66) : (!FHE.esint<5>, !FHE.esint<5>) -> !FHE.esint<5>\n",
      "    %c4_i6 = arith.constant 4 : i6\n",
      "    %68 = \"FHE.mul_eint_int\"(%61, %c4_i6) : (!FHE.eint<5>, i6) -> !FHE.eint<5>\n",
      "    %69 = \"FHE.mul_eint\"(%53, %64) : (!FHE.eint<5>, !FHE.eint<5>) -> !FHE.eint<5>\n",
      "    %70 = \"FHE.add_eint\"(%68, %69) : (!FHE.eint<5>, !FHE.eint<5>) -> !FHE.eint<5>\n",
      "    %c5 = arith.constant 5 : index\n",
      "    %extracted_14 = tensor.extract %extracted_slice[%c5] : tensor<6x!FHE.eint<5>>\n",
      "    %71 = \"FHE.apply_lookup_table\"(%extracted_14, %cst) : (!FHE.eint<5>, tensor<32xi64>) -> !FHE.esint<5>\n",
      "    %72 = \"FHE.add_eint\"(%extracted_13, %71) : (!FHE.esint<5>, !FHE.esint<5>) -> !FHE.esint<5>\n",
      "    %73 = tensor.from_elements %72 : tensor<1x!FHE.esint<5>>\n",
      "    %inserted_slice_15 = tensor.insert_slice %73 into %inserted_slice_12[5] [1] [1] : tensor<1x!FHE.esint<5>> into tensor<6x!FHE.esint<5>>\n",
      "    %extracted_16 = tensor.extract %inserted_slice_15[%c5] : tensor<6x!FHE.esint<5>>\n",
      "    %74 = \"FHE.to_unsigned\"(%extracted_16) : (!FHE.esint<5>) -> !FHE.eint<5>\n",
      "    %75 = \"FHE.to_unsigned\"(%67) : (!FHE.esint<5>) -> !FHE.eint<5>\n",
      "    %76 = \"FHE.sub_eint\"(%74, %75) : (!FHE.eint<5>, !FHE.eint<5>) -> !FHE.eint<5>\n",
      "    %77 = \"FHE.to_signed\"(%76) : (!FHE.eint<5>) -> !FHE.esint<5>\n",
      "    %78 = \"FHE.apply_lookup_table\"(%77, %cst_4) : (!FHE.esint<5>, tensor<32xi64>) -> !FHE.eint<5>\n",
      "    %c5_i6 = arith.constant 5 : i6\n",
      "    %79 = \"FHE.mul_eint_int\"(%78, %c5_i6) : (!FHE.eint<5>, i6) -> !FHE.eint<5>\n",
      "    %80 = \"FHE.sub_int_eint\"(%c1_i6, %78) : (i6, !FHE.eint<5>) -> !FHE.eint<5>\n",
      "    %81 = \"FHE.mul_eint\"(%70, %80) : (!FHE.eint<5>, !FHE.eint<5>) -> !FHE.eint<5>\n",
      "    %82 = \"FHE.add_eint\"(%79, %81) : (!FHE.eint<5>, !FHE.eint<5>) -> !FHE.eint<5>\n",
      "    return %82 : !FHE.eint<5>\n",
      "  }\n",
      "}\n",
      "--------------------------------------------------------------------------------\n",
      "\n",
      "Optimizer\n",
      "--------------------------------------------------------------------------------\n"
     ]
    },
    {
     "name": "stdout",
     "output_type": "stream",
     "text": [
      "--------------------------------------------------------------------------------\n",
      "\n",
      "Are the first two sequences equal ? :  2\n"
     ]
    },
    {
     "name": "stderr",
     "output_type": "stream",
     "text": [
      "WARNING: The generated random seed is not crypto secure\n",
      "KeySetCache: miss, regenerating .keys/13369213901258421060/0_0\n",
      "WARNING: The generated random seed is not crypto secure\n"
     ]
    },
    {
     "ename": "AssertionError",
     "evalue": "",
     "output_type": "error",
     "traceback": [
      "\u001b[0;31m---------------------------------------------------------------------------\u001b[0m",
      "\u001b[0;31mAssertionError\u001b[0m                            Traceback (most recent call last)",
      "Cell \u001b[0;32mIn[67], line 6\u001b[0m\n\u001b[1;32m      3\u001b[0m     \u001b[38;5;28mprint\u001b[39m(message, output_fhe)\n\u001b[1;32m      4\u001b[0m     \u001b[38;5;28;01massert\u001b[39;00m(np\u001b[38;5;241m.\u001b[39mall(OUTPUT_PYTHON \u001b[38;5;241m==\u001b[39m output_fhe))\n\u001b[0;32m----> 6\u001b[0m \u001b[43mcompute_fhe_output\u001b[49m\u001b[43m(\u001b[49m\u001b[43mSEQ\u001b[49m\u001b[43m,\u001b[49m\u001b[43m \u001b[49m\u001b[43mprocess_seq\u001b[49m\u001b[43m,\u001b[49m\u001b[43m \u001b[49m\u001b[38;5;28;43;01mFalse\u001b[39;49;00m\u001b[43m,\u001b[49m\u001b[43m \u001b[49m\u001b[38;5;124;43m'\u001b[39;49m\u001b[38;5;124;43mAre the first two sequences equal ? : \u001b[39;49m\u001b[38;5;124;43m'\u001b[39;49m\u001b[43m)\u001b[49m\n",
      "Cell \u001b[0;32mIn[67], line 4\u001b[0m, in \u001b[0;36mcompute_fhe_output\u001b[0;34m(seq, process_seq, simulate, message)\u001b[0m\n\u001b[1;32m      2\u001b[0m output_fhe \u001b[38;5;241m=\u001b[39m circuit_wrapper(make_circuit(\u001b[38;5;28mlen\u001b[39m(seq),process_seq), seq, simulate)\n\u001b[1;32m      3\u001b[0m \u001b[38;5;28mprint\u001b[39m(message, output_fhe)\n\u001b[0;32m----> 4\u001b[0m \u001b[38;5;28;01massert\u001b[39;00m(np\u001b[38;5;241m.\u001b[39mall(OUTPUT_PYTHON \u001b[38;5;241m==\u001b[39m output_fhe))\n",
      "\u001b[0;31mAssertionError\u001b[0m: "
     ]
    }
   ],
   "source": [
    "def compute_fhe_output(seq, process_seq, simulate, message):\n",
    "    output_fhe = circuit_wrapper(make_circuit(len(seq),process_seq), seq, simulate)\n",
    "    print(message, output_fhe)\n",
    "    assert(np.all(OUTPUT_PYTHON == output_fhe))\n",
    "    \n",
    "compute_fhe_output(SEQ, process_seq, False, 'Are the first two sequences equal ? : ')"
   ]
  },
  {
   "cell_type": "markdown",
   "metadata": {},
   "source": [
    "## Computing the hamming distance of sequences"
   ]
  },
  {
   "cell_type": "code",
   "execution_count": 55,
   "metadata": {},
   "outputs": [],
   "source": [
    "def hamming(dna1, dna2):\n",
    "    \"\"\"\n",
    "    Returns the number of differences between dna1 and dna2.\n",
    "    \"\"\"\n",
    "    return np.sum(dna1 != dna2)\n",
    "\n",
    "def hamming_adapter(seq1, seq2, lib=fhe):\n",
    "    \"\"\"\n",
    "    Adapter for hamming distance of Seq objects\n",
    "    \"\"\"\n",
    "    if lib is fhe:\n",
    "        return hamming(seq1.toArray(),seq2.toArray())\n",
    "    else:\n",
    "        return hamming(np.array(list(seq1.__str__())), np.array(list(seq2.__str__())))\n",
    "\n",
    "\n",
    "S = \"AGGTTGGTAAAATGGTCCGTGGC\"\n",
    "T = \"ACCGTAATAAACGTGTCCGTTGG\"\n"
   ]
  },
  {
   "cell_type": "code",
   "execution_count": 56,
   "metadata": {},
   "outputs": [
    {
     "name": "stdout",
     "output_type": "stream",
     "text": [
      "AGGTTGGTAAAATGGTCCGTGGCACCGTAATAAACGTGTCCGTTGG\n"
     ]
    }
   ],
   "source": [
    "SEQ_H, INDICES_H = gen_seq_indices([S,T])\n",
    "print(SEQ_H)"
   ]
  },
  {
   "cell_type": "code",
   "execution_count": 57,
   "metadata": {},
   "outputs": [],
   "source": [
    "def process_seq(seq, lib=fhe):\n",
    "    seqlist = slice_seq(seq, INDICES_H)\n",
    "    return hamming_adapter(seqlist[0],seqlist[1], lib)"
   ]
  },
  {
   "cell_type": "code",
   "execution_count": 58,
   "metadata": {},
   "outputs": [
    {
     "name": "stdout",
     "output_type": "stream",
     "text": [
      "There are 10 differences between S & T.\n"
     ]
    }
   ],
   "source": [
    "OUTPUT_PYTHON = process_seq(SEQ_H, np)\n",
    "print(f'There are {OUTPUT_PYTHON} differences between S & T.')"
   ]
  },
  {
   "cell_type": "code",
   "execution_count": 59,
   "metadata": {},
   "outputs": [
    {
     "name": "stderr",
     "output_type": "stream",
     "text": [
      "WARNING: The generated random seed is not crypto secure\n",
      "WARNING: The generated random seed is not crypto secure\n"
     ]
    },
    {
     "name": "stdout",
     "output_type": "stream",
     "text": [
      "The sorted indices of sequences are :  10\n"
     ]
    }
   ],
   "source": [
    "# now we can run our circuit on Seq objects and compare the result with output_seq\n",
    "compute_fhe_output(SEQ_H, process_seq, False, 'The sorted indices of sequences are : ')\n"
   ]
  },
  {
   "cell_type": "markdown",
   "metadata": {},
   "source": [
    "## Finding the origin of replication in a sequence"
   ]
  },
  {
   "cell_type": "code",
   "execution_count": 62,
   "metadata": {},
   "outputs": [],
   "source": [
    "# Function to find the minimum skew\n",
    "\n",
    "## FHE LIMITATION: only one minimum can be found\n",
    "\n",
    "def minimum_skew(seq,lib=fhe):\n",
    "    if lib is fhe:\n",
    "        CG_integers = SeqWrapper(Seq('CG')).toIntegers()\n",
    "        letter_table = [0]*(SeqWrapper.maxInteger()+1)\n",
    "        letter_table[CG_integers[0]]=-1\n",
    "        letter_table[CG_integers[1]]=1\n",
    "        letter_table = fhe.LookupTable(letter_table)\n",
    "    else:\n",
    "        letter_table = {'A':0, 'C':-1, 'G':1, 'T':0}\n",
    "        \n",
    "    skew_counts = lib.zeros(len(seq))\n",
    "    skew_counts[0] = letter_table[seq[0]]\n",
    "    minimum = skew_counts[0]\n",
    "    min_index = 0\n",
    "    for i in range(1,len(seq)):\n",
    "        # compute cumulated sum\n",
    "        skew_counts[i] = skew_counts[i-1] + letter_table[seq[i]]\n",
    "        # and keep minimum\n",
    "        ismin = (skew_counts[i]<minimum)\n",
    "        minimum = skew_counts[i]*ismin + minimum*(1-ismin)\n",
    "        min_index = i*ismin + min_index*(1-ismin)\n",
    "        \n",
    "    return min_index, skew_counts\n"
   ]
  },
  {
   "cell_type": "code",
   "execution_count": 63,
   "metadata": {},
   "outputs": [
    {
     "ename": "SyntaxError",
     "evalue": "invalid syntax (1603194846.py, line 4)",
     "output_type": "error",
     "traceback": [
      "\u001b[0;36m  Cell \u001b[0;32mIn[63], line 4\u001b[0;36m\u001b[0m\n\u001b[0;31m    print('The minimum skew is at index : ': OUTPUT_PYTHON)\u001b[0m\n\u001b[0m                                           ^\u001b[0m\n\u001b[0;31mSyntaxError\u001b[0m\u001b[0;31m:\u001b[0m invalid syntax\n"
     ]
    }
   ],
   "source": [
    "SEQ_O = Seq('ACGTGAGGTACGATCGCATACCACTGACGACCATAACCCAGACCACCCCATAGCCAGAGATCGATTGAGATGAGGCCCAGTTAGGGACAG')\n",
    "\n",
    "OUTPUT_PYTHON, skew_counts = minimum_skew(SEQ_O, np)\n",
    "print('The minimum skew is at index : ': OUTPUT_PYTHON)"
   ]
  },
  {
   "cell_type": "code",
   "execution_count": 64,
   "metadata": {},
   "outputs": [
    {
     "data": {
      "text/plain": [
       "Text(0.5, 0, 'Index of DNA')"
      ]
     },
     "execution_count": 64,
     "metadata": {},
     "output_type": "execute_result"
    },
    {
     "data": {
      "image/png": "[encoded data removed]",
      "text/plain": [
       "<Figure size 640x480 with 1 Axes>"
      ]
     },
     "metadata": {},
     "output_type": "display_data"
    }
   ],
   "source": [
    "# Plot the skew_counts to check them out\n",
    "import matplotlib.pyplot as plt\n",
    "plt.plot(skew_counts)\n",
    "plt.ylabel('Skew Counts')\n",
    "plt.xlabel('Index of DNA')"
   ]
  },
  {
   "cell_type": "code",
   "execution_count": 65,
   "metadata": {},
   "outputs": [
    {
     "name": "stdout",
     "output_type": "stream",
     "text": [
      "The minimum skew is at index :  54\n"
     ]
    }
   ],
   "source": [
    "def process_seq(seq, lib=fhe):\n",
    "    return minimum_skew(seq, lib)[0] # return only the minimum value for fhe\n",
    "\n",
    "compute_fhe_output(SEQ_O, process_seq, True, 'The minimum skew is at index : ')"
   ]
  },
  {
   "cell_type": "markdown",
   "metadata": {},
   "source": [
    "## Sorting sequences"
   ]
  },
  {
   "cell_type": "code",
   "execution_count": 33,
   "metadata": {},
   "outputs": [
    {
     "name": "stdout",
     "output_type": "stream",
     "text": [
      "AABCAAAAAAA\n"
     ]
    }
   ],
   "source": [
    "SEQ1 = Seq('AA')\n",
    "SEQ2 = Seq('AAA')\n",
    "SEQ3 = Seq('AAB')\n",
    "SEQ4 = Seq('CAA')\n",
    "\n",
    "SEQ_S, INDICES_S = gen_seq_indices([SEQ3, SEQ4, SEQ1, SEQ2])\n",
    "print(SEQ)"
   ]
  },
  {
   "cell_type": "code",
   "execution_count": 34,
   "metadata": {},
   "outputs": [],
   "source": [
    "def sort_rank(seqlist, lib=fhe):\n",
    "    n=len(seqlist)\n",
    "    # create comparison matrix\n",
    "    comp_matrix = lib.zeros((n,n))\n",
    "    # fill the matrix with results of seqlist[i]>seqlist[j]\n",
    "    for i in range(0, n):\n",
    "        for j in range(i+1, n):\n",
    "            # compute upper half of the matrix\n",
    "            comp_matrix[i,j] = 1*(seqlist[i]<seqlist[j])\n",
    "            # then copy the opposite to the lower half because the matrix is antisymetrical\n",
    "            comp_matrix[j,i] = 1-comp_matrix[i,j] # this counts seqlist[j]>=seqlist[i]\n",
    "    # now sum up each row to get a sorting rank for the sequences\n",
    "    return np.sum(comp_matrix, axis=0)\n",
    "            \n",
    "     \n",
    "def process_seq(seq, lib=fhe):\n",
    "    seqlist = slice_seq(seq, INDICES_S)\n",
    "    return sort_rank(seqlist, lib)"
   ]
  },
  {
   "cell_type": "code",
   "execution_count": 35,
   "metadata": {},
   "outputs": [
    {
     "name": "stdout",
     "output_type": "stream",
     "text": [
      "The sorted indices of sequences are : [2. 3. 0. 1.]\n"
     ]
    }
   ],
   "source": [
    "OUTPUT_PYTHON = process_seq(SEQ_S, np)\n",
    "print(\"The sorted indices of sequences are :\", OUTPUT_PYTHON)"
   ]
  },
  {
   "cell_type": "code",
   "execution_count": 36,
   "metadata": {},
   "outputs": [
    {
     "name": "stdout",
     "output_type": "stream",
     "text": [
      "The sorted indices of sequences are :  [2 3 0 1]\n"
     ]
    }
   ],
   "source": [
    "# now we can run our circuit on Seq objects and compare the result with output_seq\n",
    "\n",
    "simulate = True\n",
    "OUTPUT_FHE = circuit_wrapper(make_circuit(len(SEQ_S), process_seq), SEQ_S, simulate)\n",
    "print(\"The sorted indices of sequences are : \", OUTPUT_FHE)\n",
    "assert(np.all(OUTPUT_PYTHON == OUTPUT_FHE))\n"
   ]
  },
  {
   "cell_type": "code",
   "execution_count": null,
   "metadata": {},
   "outputs": [],
   "source": []
  }
 ],
 "metadata": {
  "kernelspec": {
   "display_name": "concrete-biopython",
   "language": "python",
   "name": "concrete-biopython"
  },
  "language_info": {
   "codemirror_mode": {
    "name": "ipython",
    "version": 3
   },
   "file_extension": ".py",
   "mimetype": "text/x-python",
   "name": "python",
   "nbconvert_exporter": "python",
   "pygments_lexer": "ipython3",
   "version": "3.10.11"
  }
 },
 "nbformat": 4,
 "nbformat_minor": 4
}
