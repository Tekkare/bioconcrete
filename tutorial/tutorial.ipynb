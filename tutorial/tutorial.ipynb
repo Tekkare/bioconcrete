{
 "cells": [
  {
   "cell_type": "markdown",
   "metadata": {},
   "source": [
    "\n",
    "# concrete.biopython quickstart\n",
    "\n",
    "**concrete.biopython** is a FHE library based on python [**biopython**](https://biopython.org/) library. It implements the same objects and functions when they are compatible with fhe.\n",
    "\n",
    "In biology, data are often sensitive, hence protecting their privacy is a major issue. Using FHE for processing  sensitive data such as human DNA, laboratory researches, or hospitals patient's personnal data, garanties the full privacy of the processing: no one other than the data owners has access to it and the result of the processing. \n",
    "\n",
    "### FheSeq class\n",
    "\n",
    "<span style=\"color:orange\">**FheSeq**</span> is the FHE implementation of biopython <span style=\"color:green\">**Seq**</span>.\n",
    "\n",
    "**Biopython** <span style=\"color:green\">**Seq**</span> objects are constructed from a string, generally representing a **DNA**, **RNA** or a **protein** sequence. It provides functions to process this string sequence. <span style=\"color:green\">**MutableSeq**</span> can also be used to provide mutable strings because <span style=\"color:green\">**Seq**</span> are immutable.\n",
    "\n",
    "<span style=\"color:orange\">**FheSeq**</span> implements the same functions as <span style=\"color:green\">**Seq**</span> (when they are compatible with FHE), operating on an encrypted array of integers which encodes the string sequence. <span style=\"color:orange\">**FheMutableSeq**</span> is also available.\n",
    "\n",
    "### BioCircuit class\n",
    "\n",
    "To be able to work directly with Sequence objects and not arrays of integers, the <span style=\"color:purple\">**BioCircuit**</span> class can be used. It wraps a concrete circuit compiler and will make internally the conversion from arrays to \n",
    "\n",
    "## I. Making a simple circuit\n",
    "We will deal first with the simplest way to use the library. We will use the <span style=\"color:purple\">**BioCircuit**</span> class in order to easily create circuits for processing sequence objects. However, we will not be able to process both sequence objects and integer arrays in a single circuit, but we will explain how to do that in the following section.\n",
    "\n"
   ]
  },
  {
   "cell_type": "markdown",
   "metadata": {},
   "source": [
    "### Working with FheSeq and FheMutableSeq objects\n",
    "First of all, we need to import **numpy** and **concrete.fhe**, as well as <span style=\"color:green\">**Seq**</span>  and <span style=\"color:green\">**MutableSeq**</span>  from **Bio.Seq**.\n",
    "Then we import <span style=\"color:orange\">**FheSeq**</span>  and <span style=\"color:orange\">**FheMutableSeq**</span>  from **concrete_biopython.FheSeq**, and also **BioCircuit.**<span style=\"color:purple\">**BioCircuit**</span> to create the circuit."
   ]
  },
  {
   "cell_type": "code",
   "execution_count": 1,
   "metadata": {},
   "outputs": [],
   "source": [
    "import numpy as np\n",
    "import numpy as np\n",
    "from concrete import fhe\n",
    "from Bio.Seq import Seq, MutableSeq\n",
    "\n",
    "import sys, os\n",
    "sys.path.append(os.path.dirname(os.getcwd()))\n",
    "\n",
    "from concrete_biopython.FheSeq import FheSeq, FheMutableSeq\n",
    "from concrete_biopython.BioCircuit import BioCircuit"
   ]
  },
  {
   "cell_type": "markdown",
   "metadata": {},
   "source": [
    "Let's define an arbitrary function process_seq that takes in input a Seq and a MutableSeq objects seq1 and seq2 representing DNA sequences, processes them using some of the possibilities offered by the biopython library, and returns a short protein sequence."
   ]
  },
  {
   "cell_type": "code",
   "execution_count": 2,
   "metadata": {},
   "outputs": [],
   "source": [
    "def process_seq(seq1, seq2):\n",
    "    seq2.pop()\n",
    "    new_seq = seq1.reverse_complement() + seq2[0:3]\n",
    "    protein = new_seq.translate('Standard')\n",
    "    return protein"
   ]
  },
  {
   "cell_type": "markdown",
   "metadata": {},
   "source": [
    "As a reminder, [**DNA**](https://en.wikipedia.org/wiki/DNA) strands are very long sequences of nucleotids, which come in four types depending on the nitrogenous base they hold. Each type is represented with a letter, either '**A**', '**C**', '**G**' or '**T**'. Each strand is attached to a complement strand, where the '**A**' bases are linked to '**T**' bases and vice-versa, same for '**C**' and '**G**' letters. Some parts of the strand called genes are encoding for proteins. In a gene, bases can be read in groups of three called codons, where every codon encodes for a amino acid (or a stop when the gene ends). Amino acids are chained to form a protein. The conversion from a gene to a protein is called [**translation**](https://en.wikipedia.org/wiki/Translation_(biology)), and follows an encoding from codons to amino acids that can vary. In our case, we will use the standard [codon table](https://en.wikipedia.org/wiki/DNA_and_RNA_codon_tables).\n",
    "\n",
    "Please read the **biopython** [documentation](https://biopython.org/wiki/Documentation) or [tutorial](http://biopython.org/DIST/docs/tutorial/Tutorial.html) for further notice about the used functions.  \n",
    "\n",
    "For the example, let's create two short sequences (with no biological meaning) and test the `process_seq` function on this unencrypted data:"
   ]
  },
  {
   "cell_type": "code",
   "execution_count": 3,
   "metadata": {},
   "outputs": [
    {
     "name": "stdout",
     "output_type": "stream",
     "text": [
      "VPGR\n"
     ]
    }
   ],
   "source": [
    "seq1 = Seq('ACCAGGTAC')\n",
    "seq2 = MutableSeq('CGTTAGC')\n",
    "output_seq = process_seq(seq1, seq2)\n",
    "print(output_seq)"
   ]
  },
  {
   "cell_type": "markdown",
   "metadata": {},
   "source": [
    "The result is very small protein made of 4 amino acids with no biological meaning.  \n",
    "\n",
    "### Processing steps with FHE\n",
    "\n",
    "Now, we will see how we can run the function **process_seq** homomorphically, using <span style=\"color:orange\">**FheSeq**</span> and a <span style=\"color:orange\">**FheMutableSeq**</span> objects."
   ]
  },
  {
   "cell_type": "code",
   "execution_count": 4,
   "metadata": {},
   "outputs": [],
   "source": [
    "# prepare the compiler configuration\n",
    "configuration=fhe.Configuration(\n",
    "    enable_unsafe_features=True,\n",
    "    use_insecure_key_cache=True,\n",
    "    insecure_key_cache_location=\".keys\",\n",
    "    dataflow_parallelize=False,\n",
    ")\n",
    "\n",
    "# specify for each sequence if it needs to be encrypted or clear, for instance:\n",
    "encryption = { \"seq1\": \"encrypted\", \"seq2\":\"clear\" }\n",
    "\n",
    "# Create a BioCircuit wrapped circuit using the process_seq funciton, the encryption\n",
    "# a typical list of sequences that we would like to process, and the configuration\n",
    "circuit = BioCircuit(\n",
    "    function=process_seq,\n",
    "    encryption=encryption,\n",
    "    seq_list=[seq1, seq2],\n",
    "    configuration=configuration,\n",
    "    # any other concrete compiler arguments;\n",
    "    verbose=False,\n",
    ")"
   ]
  },
  {
   "cell_type": "code",
   "execution_count": 5,
   "metadata": {},
   "outputs": [
    {
     "ename": "ValueError",
     "evalue": "Concrete cannot represent Seq('ACCAGGTAC')",
     "output_type": "error",
     "traceback": [
      "\u001b[0;31m---------------------------------------------------------------------------\u001b[0m",
      "\u001b[0;31mValueError\u001b[0m                                Traceback (most recent call last)",
      "Cell \u001b[0;32mIn[5], line 1\u001b[0m\n\u001b[0;32m----> 1\u001b[0m \u001b[43mcircuit\u001b[49m\u001b[38;5;241;43m.\u001b[39;49m\u001b[43mencrypt_run_decrypt\u001b[49m\u001b[43m(\u001b[49m\u001b[43mseq1\u001b[49m\u001b[43m,\u001b[49m\u001b[43m \u001b[49m\u001b[43mseq2\u001b[49m\u001b[43m)\u001b[49m\n",
      "File \u001b[0;32m~/Documents/Mes_Documents/Travail-Projets/THFE/bio-concrete/concrete-biopython/concrete_biopython/BioCircuit.py:192\u001b[0m, in \u001b[0;36mBioCircuit.encrypt_run_decrypt\u001b[0;34m(self, *seq_list)\u001b[0m\n\u001b[1;32m    188\u001b[0m \u001b[38;5;28;01mdef\u001b[39;00m \u001b[38;5;21mencrypt_run_decrypt\u001b[39m(\u001b[38;5;28mself\u001b[39m, \u001b[38;5;241m*\u001b[39mseq_list):\n\u001b[1;32m    189\u001b[0m \u001b[38;5;250m    \u001b[39m\u001b[38;5;124;03m\"\"\"\u001b[39;00m\n\u001b[1;32m    190\u001b[0m \u001b[38;5;124;03m    Encrypt, run and decrypt at once\u001b[39;00m\n\u001b[1;32m    191\u001b[0m \u001b[38;5;124;03m    \"\"\"\u001b[39;00m\n\u001b[0;32m--> 192\u001b[0m     encrypted_input \u001b[38;5;241m=\u001b[39m \u001b[38;5;28;43mself\u001b[39;49m\u001b[38;5;241;43m.\u001b[39;49m\u001b[43m_circuit\u001b[49m\u001b[38;5;241;43m.\u001b[39;49m\u001b[43mencrypt\u001b[49m\u001b[43m(\u001b[49m\u001b[38;5;241;43m*\u001b[39;49m\u001b[43mseq_list\u001b[49m\u001b[43m)\u001b[49m\n\u001b[1;32m    193\u001b[0m     encrypted_output \u001b[38;5;241m=\u001b[39m \u001b[38;5;28mself\u001b[39m\u001b[38;5;241m.\u001b[39m_circuit\u001b[38;5;241m.\u001b[39mrun(encrypted_input)\n\u001b[1;32m    194\u001b[0m     decrypted_result \u001b[38;5;241m=\u001b[39m \u001b[38;5;28mself\u001b[39m\u001b[38;5;241m.\u001b[39m_circuit\u001b[38;5;241m.\u001b[39mdecrypt(encrypted_output)\n",
      "File \u001b[0;32m~/Library/Caches/pypoetry/virtualenvs/concrete-biopython-t5Ux1rK--py3.10/lib/python3.10/site-packages/concrete/fhe/compilation/circuit.py:206\u001b[0m, in \u001b[0;36mCircuit.encrypt\u001b[0;34m(self, *args)\u001b[0m\n\u001b[1;32m    203\u001b[0m \u001b[38;5;28;01mif\u001b[39;00m \u001b[38;5;129;01mnot\u001b[39;00m \u001b[38;5;28mhasattr\u001b[39m(\u001b[38;5;28mself\u001b[39m, \u001b[38;5;124m\"\u001b[39m\u001b[38;5;124mclient\u001b[39m\u001b[38;5;124m\"\u001b[39m):  \u001b[38;5;66;03m# pragma: no cover\u001b[39;00m\n\u001b[1;32m    204\u001b[0m     \u001b[38;5;28mself\u001b[39m\u001b[38;5;241m.\u001b[39menable_fhe_execution()\n\u001b[0;32m--> 206\u001b[0m \u001b[38;5;28;01mreturn\u001b[39;00m \u001b[38;5;28;43mself\u001b[39;49m\u001b[38;5;241;43m.\u001b[39;49m\u001b[43mclient\u001b[49m\u001b[38;5;241;43m.\u001b[39;49m\u001b[43mencrypt\u001b[49m\u001b[43m(\u001b[49m\u001b[38;5;241;43m*\u001b[39;49m\u001b[43margs\u001b[49m\u001b[43m)\u001b[49m\n",
      "File \u001b[0;32m~/Library/Caches/pypoetry/virtualenvs/concrete-biopython-t5Ux1rK--py3.10/lib/python3.10/site-packages/concrete/fhe/compilation/client.py:133\u001b[0m, in \u001b[0;36mClient.encrypt\u001b[0;34m(self, *args)\u001b[0m\n\u001b[1;32m    117\u001b[0m \u001b[38;5;28;01mdef\u001b[39;00m \u001b[38;5;21mencrypt\u001b[39m(\n\u001b[1;32m    118\u001b[0m     \u001b[38;5;28mself\u001b[39m,\n\u001b[1;32m    119\u001b[0m     \u001b[38;5;241m*\u001b[39margs: Optional[Union[\u001b[38;5;28mint\u001b[39m, np\u001b[38;5;241m.\u001b[39mndarray, List]],\n\u001b[1;32m    120\u001b[0m ) \u001b[38;5;241m-\u001b[39m\u001b[38;5;241m>\u001b[39m Optional[Union[Value, Tuple[Optional[Value], \u001b[38;5;241m.\u001b[39m\u001b[38;5;241m.\u001b[39m\u001b[38;5;241m.\u001b[39m]]]:\n\u001b[1;32m    121\u001b[0m \u001b[38;5;250m    \u001b[39m\u001b[38;5;124;03m\"\"\"\u001b[39;00m\n\u001b[1;32m    122\u001b[0m \u001b[38;5;124;03m    Encrypt argument(s) to for evaluation.\u001b[39;00m\n\u001b[1;32m    123\u001b[0m \n\u001b[0;32m   (...)\u001b[0m\n\u001b[1;32m    130\u001b[0m \u001b[38;5;124;03m            encrypted argument(s) for evaluation\u001b[39;00m\n\u001b[1;32m    131\u001b[0m \u001b[38;5;124;03m    \"\"\"\u001b[39;00m\n\u001b[0;32m--> 133\u001b[0m     ordered_sanitized_args \u001b[38;5;241m=\u001b[39m \u001b[43mvalidate_input_args\u001b[49m\u001b[43m(\u001b[49m\u001b[38;5;28;43mself\u001b[39;49m\u001b[38;5;241;43m.\u001b[39;49m\u001b[43mspecs\u001b[49m\u001b[43m,\u001b[49m\u001b[43m \u001b[49m\u001b[38;5;241;43m*\u001b[39;49m\u001b[43margs\u001b[49m\u001b[43m)\u001b[49m\n\u001b[1;32m    135\u001b[0m     \u001b[38;5;28mself\u001b[39m\u001b[38;5;241m.\u001b[39mkeygen(force\u001b[38;5;241m=\u001b[39m\u001b[38;5;28;01mFalse\u001b[39;00m)\n\u001b[1;32m    136\u001b[0m     keyset \u001b[38;5;241m=\u001b[39m \u001b[38;5;28mself\u001b[39m\u001b[38;5;241m.\u001b[39mkeys\u001b[38;5;241m.\u001b[39m_keyset  \u001b[38;5;66;03m# pylint: disable=protected-access\u001b[39;00m\n",
      "File \u001b[0;32m~/Library/Caches/pypoetry/virtualenvs/concrete-biopython-t5Ux1rK--py3.10/lib/python3.10/site-packages/concrete/fhe/compilation/utils.py:87\u001b[0m, in \u001b[0;36mvalidate_input_args\u001b[0;34m(client_specs, *args)\u001b[0m\n\u001b[1;32m     84\u001b[0m         sanitized_args[index] \u001b[38;5;241m=\u001b[39m arg\n\u001b[1;32m     86\u001b[0m \u001b[38;5;28;01mif\u001b[39;00m \u001b[38;5;129;01mnot\u001b[39;00m is_valid:\n\u001b[0;32m---> 87\u001b[0m     actual_value \u001b[38;5;241m=\u001b[39m \u001b[43mValueDescription\u001b[49m\u001b[38;5;241;43m.\u001b[39;49m\u001b[43mof\u001b[49m\u001b[43m(\u001b[49m\u001b[43marg\u001b[49m\u001b[43m,\u001b[49m\u001b[43m \u001b[49m\u001b[43mis_encrypted\u001b[49m\u001b[38;5;241;43m=\u001b[39;49m\u001b[43mis_encrypted\u001b[49m\u001b[43m)\u001b[49m\n\u001b[1;32m     88\u001b[0m     message \u001b[38;5;241m=\u001b[39m \u001b[38;5;124mf\u001b[39m\u001b[38;5;124m\"\u001b[39m\u001b[38;5;124mExpected argument \u001b[39m\u001b[38;5;132;01m{\u001b[39;00mindex\u001b[38;5;132;01m}\u001b[39;00m\u001b[38;5;124m to be \u001b[39m\u001b[38;5;132;01m{\u001b[39;00mexpected_value\u001b[38;5;132;01m}\u001b[39;00m\u001b[38;5;124m but it\u001b[39m\u001b[38;5;124m'\u001b[39m\u001b[38;5;124ms \u001b[39m\u001b[38;5;132;01m{\u001b[39;00mactual_value\u001b[38;5;132;01m}\u001b[39;00m\u001b[38;5;124m\"\u001b[39m\n\u001b[1;32m     89\u001b[0m     \u001b[38;5;28;01mraise\u001b[39;00m \u001b[38;5;167;01mValueError\u001b[39;00m(message)\n",
      "File \u001b[0;32m~/Library/Caches/pypoetry/virtualenvs/concrete-biopython-t5Ux1rK--py3.10/lib/python3.10/site-packages/concrete/fhe/values/value_description.py:100\u001b[0m, in \u001b[0;36mValueDescription.of\u001b[0;34m(value, is_encrypted)\u001b[0m\n\u001b[1;32m     95\u001b[0m         \u001b[38;5;28;01mreturn\u001b[39;00m ValueDescription(\n\u001b[1;32m     96\u001b[0m             dtype\u001b[38;5;241m=\u001b[39mFloat(\u001b[38;5;241m16\u001b[39m), shape\u001b[38;5;241m=\u001b[39mvalue\u001b[38;5;241m.\u001b[39mshape, is_encrypted\u001b[38;5;241m=\u001b[39mis_encrypted\n\u001b[1;32m     97\u001b[0m         )\n\u001b[1;32m     99\u001b[0m message \u001b[38;5;241m=\u001b[39m \u001b[38;5;124mf\u001b[39m\u001b[38;5;124m\"\u001b[39m\u001b[38;5;124mConcrete cannot represent \u001b[39m\u001b[38;5;132;01m{\u001b[39;00m\u001b[38;5;28mrepr\u001b[39m(value)\u001b[38;5;132;01m}\u001b[39;00m\u001b[38;5;124m\"\u001b[39m\n\u001b[0;32m--> 100\u001b[0m \u001b[38;5;28;01mraise\u001b[39;00m \u001b[38;5;167;01mValueError\u001b[39;00m(message)\n",
      "\u001b[0;31mValueError\u001b[0m: Concrete cannot represent Seq('ACCAGGTAC')"
     ]
    }
   ],
   "source": [
    "circuit.encrypt_run_decrypt(seq1, seq2)"
   ]
  },
  {
   "cell_type": "code",
   "execution_count": null,
   "metadata": {},
   "outputs": [],
   "source": []
  },
  {
   "cell_type": "markdown",
   "metadata": {},
   "source": [
    "## II. Making more complex circuits\n",
    "\n",
    "In this section, we will not use the **BioCircuit** and study how to make a more complex circuit using the library.\n",
    "\n",
    "As <span style=\"color:orange\">**FheSeq**</span> works within a FHE circuit, it is agnostic to whatever comes before or after the circuit. The class <span style=\"color:#5CC8FF\">**SeqWrapper**</span> is thus used to interface <span style=\"color:green\">**Seq**</span> objects from outside the circuit to <span style=\"color:orange\">**FheSeq**</span> objects inside it during encryption, and the other way around at decryption.\n",
    "\n",
    "### Working with FheSeq and FheMutableSeq objects\n",
    "First of all, we need to import **numpy** and **concrete.fhe**, as well as <span style=\"color:green\">**Seq**</span>  and <span style=\"color:green\">**MutableSeq**</span>  from **Bio.Seq**.\n",
    "Then we import <span style=\"color:orange\">**FheSeq**</span>  and <span style=\"color:orange\">**FheMutableSeq**</span>  from **concrete_biopython.FheSeq**, and also **SeqWrapper.**<span style=\"color:#5CC8FF\">**SeqWrapper**</span> which will allow to interface the two librairies."
   ]
  },
  {
   "cell_type": "code",
   "execution_count": 1,
   "metadata": {},
   "outputs": [],
   "source": [
    "import numpy as np\n",
    "import numpy as np\n",
    "from concrete import fhe\n",
    "from Bio.Seq import Seq, MutableSeq\n",
    "\n",
    "import sys, os\n",
    "sys.path.append(os.path.dirname(os.getcwd()))\n",
    "\n",
    "from concrete_biopython.FheSeq import FheSeq, FheMutableSeq\n",
    "from concrete_biopython.SeqWrapper import SeqWrapper"
   ]
  },
  {
   "cell_type": "markdown",
   "metadata": {},
   "source": [
    "Let's define an arbitrary function **process_seq** that takes in input a <span style=\"color:green\">**Seq**</span>  and a <span style=\"color:green\">**MutableSeq**</span>  objects **seq1** and **seq2** representing DNA sequences, processes them using some of the possibilities offered by the biopython library, and returns a short protein sequence."
   ]
  },
  {
   "cell_type": "code",
   "execution_count": 2,
   "metadata": {},
   "outputs": [],
   "source": [
    "def process_seq(seq1, seq2):\n",
    "    seq2.pop()\n",
    "    new_seq = seq1.reverse_complement() + seq2[0:3]\n",
    "    protein = new_seq.translate('Standard')\n",
    "    return protein"
   ]
  },
  {
   "cell_type": "markdown",
   "metadata": {},
   "source": [
    "As a reminder, [**DNA**](https://en.wikipedia.org/wiki/DNA) strands are very long sequences of nucleotids, which come in four types depending on the nitrogenous base they hold. Each type is represented with a letter, either '**A**', '**C**', '**G**' or '**T**'. Each strand is attached to a complement strand, where the '**A**' bases are linked to '**T**' bases and vice-versa, same for '**C**' and '**G**' letters. Some parts of the strand called genes are encoding for proteins. In a gene, bases can be read in groups of three called codons, where every codon encodes for a amino acid (or a stop when the gene ends). Amino acids are chained to form a protein. The conversion from a gene to a protein is called [**translation**](https://en.wikipedia.org/wiki/Translation_(biology)), and follows an encoding from codons to amino acids that can vary. In our case, we will use the standard [codon table](https://en.wikipedia.org/wiki/DNA_and_RNA_codon_tables).\n",
    "\n",
    "Please read the **biopython** [documentation](https://biopython.org/wiki/Documentation) or [tutorial](http://biopython.org/DIST/docs/tutorial/Tutorial.html) for further notice about the used functions.  \n",
    "\n",
    "For the example, let's create two short sequences (with no biological meaning) and test the `process_seq` function on this unencrypted data:"
   ]
  },
  {
   "cell_type": "code",
   "execution_count": 3,
   "metadata": {},
   "outputs": [
    {
     "name": "stdout",
     "output_type": "stream",
     "text": [
      "VPGR\n"
     ]
    }
   ],
   "source": [
    "seq1 = Seq('ACCAGGTAC')\n",
    "seq2 = MutableSeq('CGTTAGC')\n",
    "output_seq = process_seq(seq1, seq2)\n",
    "print(output_seq)"
   ]
  },
  {
   "cell_type": "markdown",
   "metadata": {},
   "source": [
    "The result is very small protein made of 4 amino acids with no biological meaning.  \n",
    "\n",
    "### Processing steps with FHE\n",
    "\n",
    "Now, we will see how we can run the function **process_seq** homomorphically, using <span style=\"color:orange\">**FheSeq**</span> and a <span style=\"color:orange\">**FheMutableSeq**</span>  objects. Indeed, the function can be reused as is on a <span style=\"color:orange\">**FheSeq**</span> and a <span style=\"color:orange\">**FheMutableSeq**</span> objects inside a circuit, but we need some more work to start from unencrypted <span style=\"color:green\">**Seq**</span> and a <span style=\"color:green\">**MutableSeq**</span> objects before processing and return to them after processing.\n",
    "\n",
    "We will need to follow the steps below:\n",
    "1. Convert <span style=\"color:green\">**Seq**</span>  and a <span style=\"color:green\">**MutableSeq**</span>  objects to integer arrays with <span style=\"color:#5CC8FF\">**SeqWrapper**</span>**.toIntegers**\n",
    "2. Encrypt the integer arrays (this is done within the `circuit.encrypt_run_decrypt` function)\n",
    "3. Create <span style=\"color:orange\">**FheSeq**</span>  and a <span style=\"color:orange\">**FheMutableSeq**</span>  objects from the encrypted integer arrays inside the circuit\n",
    "4. Call our function **process_seq** homomorphically on the FHE sequence objects\n",
    "5. Convert back the output from a <span style=\"color:orange\">**FheSeq**</span>  to an encrypted array with <span style=\"color:orange\">**FheSeq**</span>**.toArray**\n",
    "6. Decrypt the encrypted output array (again done within the `circuit.encrypt_run_decrypt` function)\n",
    "7. Convert the array back to a <span style=\"color:green\">**Seq**</span> object using <span style=\"color:#5CC8FF\">**SeqWrapper**</span>**.toSeq**\n",
    "\n",
    "<div>\n",
    "<img src=\"https://rcd-media.com/docs/fhe/diagram-im.png\" width=\"650\"/>\n",
    "</div>\n",
    "\n",
    "\n",
    "### Factorization\n",
    "For steps **1**, **2**, **6** and **7**, we can create a circuit wrapper to do the Seq to integer and integer to Seq conversions in a FHE-compatible way :"
   ]
  },
  {
   "cell_type": "code",
   "execution_count": 4,
   "metadata": {},
   "outputs": [],
   "source": [
    "# wrap a fhe circuit in order to input and output Bio.Seq objects.\n",
    "def circuit_wrapper(circuit, seq1, seq2, simulate=False):\n",
    "    # convert Seq objects to integers with SeqWrapper.toIntegers\n",
    "    integers1 = SeqWrapper.toIntegers(seq1)\n",
    "    integers2 = SeqWrapper.toIntegers(seq2)\n",
    "    \n",
    "    # run the circuit with integer inputs\n",
    "    integer_output = circuit.simulate(integers1, integers2) if simulate else circuit.encrypt_run_decrypt(integers1, integers2)\n",
    "\n",
    "    # convert back the integer outputs into a Seq objects with SeqWrapper.toSeq\n",
    "    return SeqWrapper.toSeq(integer_output)"
   ]
  },
  {
   "cell_type": "markdown",
   "metadata": {},
   "source": [
    "For steps **3** and **5**, we can create an adapter function that will be the circuit's main function. This function will create <span style=\"color:orange\">**FheSeq**</span>  and <span style=\"color:orange\">**FheMutableSeq**</span>  objects for the function **process_seq** to process homomorphically. Then it will convert back the <span style=\"color:orange\">**FheSeq**</span>  output into an encrypted integer array that the circuit can decrypt."
   ]
  },
  {
   "cell_type": "code",
   "execution_count": 5,
   "metadata": {},
   "outputs": [],
   "source": [
    "def process_seq_adapter(integer_seq1, integer_seq2):\n",
    "    \n",
    "    # convert integer sequences into FheSeq and FheMutableSeq objects\n",
    "    seq1=FheSeq(integer_seq1)\n",
    "    seq2=FheMutableSeq(integer_seq2)\n",
    "    \n",
    "    # process the sequence objects with our function\n",
    "    new_seq = process_seq(seq1, seq2)\n",
    "    \n",
    "    # return the new sequence as integer array\n",
    "    return new_seq.toArray()"
   ]
  },
  {
   "cell_type": "markdown",
   "metadata": {},
   "source": [
    "For step **4**, let's make the circuit from **process_seq_adapter** function, and create a correct inputset taking into account the number of possible letters with **SeqWrapper.maxInteger()** and the size of input sequences with **len(seq1)** and **len(seq2)**:"
   ]
  },
  {
   "cell_type": "code",
   "execution_count": 6,
   "metadata": {},
   "outputs": [],
   "source": [
    "# compile the process_seq_adapter function and create a circuit\n",
    "compiler = fhe.Compiler(lambda data1,data2: process_seq_adapter(data1, data2), {\"data1\": \"encrypted\", \"data2\": \"encrypted\"})\n",
    "circuit = compiler.compile(\n",
    "    inputset=[\n",
    "    (np.random.randint(0, SeqWrapper.maxInteger()+1, size=(len(seq1),)),\n",
    "    np.random.randint(0, SeqWrapper.maxInteger()+1, size=(len(seq2),)))\n",
    "    for _ in range(100)\n",
    "    ],\n",
    "    configuration=fhe.Configuration(\n",
    "        enable_unsafe_features=True,\n",
    "        use_insecure_key_cache=True,\n",
    "        insecure_key_cache_location=\".keys\",\n",
    "        dataflow_parallelize=False, # setting it to True makes the jupyter kernel crash\n",
    "    ),\n",
    "    verbose=False,\n",
    ")"
   ]
  },
  {
   "cell_type": "markdown",
   "metadata": {},
   "source": [
    "### Execution \n",
    "\n",
    "We can now run our wrapped circuit on the variables **seq1** and **seq2** defined earlier and compare the output sequence with the one obtained earlier on clear data:"
   ]
  },
  {
   "cell_type": "code",
   "execution_count": 7,
   "metadata": {},
   "outputs": [
    {
     "name": "stdout",
     "output_type": "stream",
     "text": [
      "Simulated : VPGR\n",
      "FHE : VPGR\n"
     ]
    },
    {
     "name": "stderr",
     "output_type": "stream",
     "text": [
      "WARNING: The generated random seed is not crypto secure\n",
      "WARNING: The generated random seed is not crypto secure\n"
     ]
    }
   ],
   "source": [
    "# now we can run our circuit on Seq objects and compare the result with output_seq\n",
    "\n",
    "# with simulation\n",
    "fheSim_output_seq = circuit_wrapper(circuit, seq1, seq2, True)\n",
    "print('Simulated :', fheSim_output_seq)\n",
    "assert(output_seq == fheSim_output_seq)\n",
    "\n",
    "# and without (slower)\n",
    "fhe_output_seq = circuit_wrapper(circuit, seq1, seq2, False)\n",
    "print('FHE :', fhe_output_seq)\n",
    "assert(output_seq == fhe_output_seq)"
   ]
  },
  {
   "cell_type": "markdown",
   "metadata": {},
   "source": [
    "### Going further\n",
    "\n",
    "In a real world application, the data could be sent to a distant server for processing. In this scenario, the DNA sequences in input could be private data. To keep the DNA private, the `circuit_wrapper` function could be changed as bellow, using an **evaluation** and **private** keys encryption set up:\n",
    "1. Convert DNA sequences to integer arrays\n",
    "2. Encrypt the sequences locally with `circuit.encrypt` with the **private key**\n",
    "3. Send the encrypted sequences and the **evaluation key** to the distant server\n",
    "4. Run the circuit on the server with `circuit.run` and the **evaluation key**\n",
    "5. Send back the output sequence from the server\n",
    "6. Decrypt the output array locally with `circuit.decrypt` and the **private key**\n",
    "7. Convert back the decrypted array to a sequence object"
   ]
  },
  {
   "cell_type": "code",
   "execution_count": null,
   "metadata": {},
   "outputs": [],
   "source": []
  }
 ],
 "metadata": {
  "kernelspec": {
   "display_name": "concrete-biopython",
   "language": "python",
   "name": "concrete-biopython"
  },
  "language_info": {
   "codemirror_mode": {
    "name": "ipython",
    "version": 3
   },
   "file_extension": ".py",
   "mimetype": "text/x-python",
   "name": "python",
   "nbconvert_exporter": "python",
   "pygments_lexer": "ipython3",
   "version": "3.10.11"
  }
 },
 "nbformat": 4,
 "nbformat_minor": 4
}
