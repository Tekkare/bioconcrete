{
 "cells": [
  {
   "cell_type": "markdown",
   "metadata": {},
   "source": [
    "\n",
    "# concrete.biopython quickstart\n",
    "\n",
    "**concrete.biopython** is a FHE library based on python [**biopython**](https://biopython.org/) library. It implements the same objects and functions when they are compatible with fhe.\n",
    "\n",
    "In biology, data are often sensitive, hence protecting their privacy is a major issue. Using FHE for processing  sensitive data such as human DNA, laboratory researches, or hospitals patient's personnal data, garanties the full privacy of the processing: no one other than the data owners has access to it and the result of the processing. \n",
    "\n",
    "## I. FheSeq, FheMutableSeq and SeqInterface classes\n",
    "\n",
    "<span style=\"color:orange\">**FheSeq**</span> is the FHE implementation of biopython <span style=\"color:green\">**Seq**</span>.\n",
    "\n",
    "**Biopython** <span style=\"color:green\">**Seq**</span> objects are constructed from a string, generally representing a **DNA**, **RNA** or a **protein** sequence. It provides functions to process this string sequence. <span style=\"color:green\">**MutableSeq**</span> can also be used to provide mutable strings because <span style=\"color:green\">**Seq**</span> are immutable.\n",
    "\n",
    "<span style=\"color:orange\">**FheSeq**</span> implements the same functions as <span style=\"color:green\">**Seq**</span> (when they are compatible with FHE), operating on an encrypted array of integers which encodes the string sequence. <span style=\"color:orange\">**FheMutableSeq**</span> is also available.\n",
    "\n",
    "As both <span style=\"color:green\">**Seq**</span> objects and <span style=\"color:orange\">**FheSeq**</span> objects can be used the same way, we can make general code that can deal with both.\n",
    "\n",
    "To build <span style=\"color:orange\">**FheSeq**</span>  and <span style=\"color:orange\">**FheMutableSeq**</span> objects, an <span style=\"color:#5CC8FF\">**SeqInterface**</span> object is required. This <span style=\"color:#5CC8FF\">**SeqInterface**</span> object is built with an argument providing the minimal set of characters that the sequences will contain, which we call an **alphabet**. Choosing the right alphabet is crucial to optimize the computational speed of the circuits, because the smaller it is, the smaller the bitwidth of the sequence characters will be, and the faster the computations will be.\n",
    "\n",
    "\n",
    "## II. Making a circuit for processing sequences with the BioCircuit class\n",
    "\n",
    "Let's deal first with the simplest way of using the **concrete.biopython** library. With the <span style=\"color:purple\">**BioCircuit**</span> class, we can easily create circuits for processing sequence objects. \n",
    "\n",
    "To work directly with Sequence objects and not arrays of integers, the <span style=\"color:purple\">**BioCircuit**</span> class can be used. Indeed, unlike a regular concrete circuit, it takes as input sequence objects, and can  output either an integer array or a sequence object. It wraps a concrete circuit compiler and makes internally the conversion from <span style=\"color:green\">**Seq**</span> to **numpy integer arrays** before encryption, from **concrete numpy encrypted integerer arrays** to <span style=\"color:orange\">**FheSeq**</span> after encryption, and the opposite before and after decryption.\n",
    "\n",
    "First of all, we need to import **numpy** and **concrete.fhe**, as well as <span style=\"color:green\">**Seq**</span>  and <span style=\"color:green\">**MutableSeq**</span>  from **Bio.Seq**.\n",
    "Then we import <span style=\"color:#5CC8FF\">**SeqInterface**</span>, **Alphabets**, <span style=\"color:orange\">**FheSeq**</span>, and <span style=\"color:orange\">**FheMutableSeq**</span>  from **concrete_biopython.FheSeq**, and also **BioCircuit.**<span style=\"color:purple\">**BioCircuit**</span> to create the circuit."
   ]
  },
  {
   "cell_type": "code",
   "execution_count": 1,
   "metadata": {},
   "outputs": [],
   "source": [
    "import numpy as np\n",
    "import numpy as np\n",
    "from concrete import fhe\n",
    "from Bio.Seq import Seq, MutableSeq\n",
    "\n",
    "import sys, os\n",
    "sys.path.append(os.path.dirname(os.getcwd()))\n",
    "\n",
    "from concrete_biopython.FheSeq import SeqInterface, Alphabets, FheSeq, FheMutableSeq\n",
    "from concrete_biopython.BioCircuit import BioCircuit"
   ]
  },
  {
   "cell_type": "markdown",
   "metadata": {},
   "source": [
    "Let's define an dummy function process_seq that takes in input a Seq and a MutableSeq objects seq1 and seq2 representing DNA sequences, processes them using some of the possibilities offered by the biopython library, and returns a short protein sequence."
   ]
  },
  {
   "cell_type": "code",
   "execution_count": 2,
   "metadata": {},
   "outputs": [],
   "source": [
    "def process_seq(seq1, seq2):\n",
    "    seq2.pop()\n",
    "    new_seq = seq1.reverse_complement() + seq2[0:3]\n",
    "    protein = new_seq.translate('Standard')\n",
    "    return protein"
   ]
  },
  {
   "cell_type": "markdown",
   "metadata": {},
   "source": [
    "As a reminder, [**DNA**](https://en.wikipedia.org/wiki/DNA) strands are very long sequences of nucleotids, which come in four types depending on the nitrogenous base they hold. Each type is represented with a letter, either '**A**', '**C**', '**G**' or '**T**'. Each strand is attached to a complement strand, where the '**A**' bases are linked to '**T**' bases and vice-versa, same for '**C**' and '**G**' letters. Some parts of the strand called genes are encoding for proteins. In a gene, bases can be read in groups of three called codons, where every codon encodes for a amino acid (or a stop when the gene ends). Amino acids are chained to form a protein. The conversion from a gene to a protein is called [**translation**](https://en.wikipedia.org/wiki/Translation_(biology)), and follows an encoding from codons to amino acids that can vary. In our case, we will use the standard [codon table](https://en.wikipedia.org/wiki/DNA_and_RNA_codon_tables).\n",
    "\n",
    "Please read the **biopython** [documentation](https://biopython.org/wiki/Documentation) or [tutorial](http://biopython.org/DIST/docs/tutorial/Tutorial.html) for further notice about the used functions.  \n",
    "\n",
    "For the example, let's create two short sequences (with no biological meaning) and test the `process_seq` function on this unencrypted data:"
   ]
  },
  {
   "cell_type": "code",
   "execution_count": 3,
   "metadata": {},
   "outputs": [
    {
     "name": "stdout",
     "output_type": "stream",
     "text": [
      "VPGR\n"
     ]
    }
   ],
   "source": [
    "seq1 = Seq('ACCAGGTAC')\n",
    "seq2 = MutableSeq('CGTTAGC')\n",
    "output_seq = process_seq(seq1, seq2)\n",
    "print(output_seq)"
   ]
  },
  {
   "cell_type": "markdown",
   "metadata": {},
   "source": [
    "The result is very small protein made of 4 amino acids with no biological meaning.  \n",
    "\n",
    "Running the function **process_seq** homomorphically on <span style=\"color:orange\">**FheMutableSeq**</span> objects can be done in a few simple steps thanks to the <span style=\"color:purple\">**BioCircuit**</span> class, which can be used in a similar way as the concrete compiler. It allows to deal with any number of sequences, all of which will get encrypted (dealing with clear sequences is not available for now due to concrete current version's limitations with clear Tracers)."
   ]
  },
  {
   "cell_type": "code",
   "execution_count": 4,
   "metadata": {},
   "outputs": [
    {
     "name": "stdout",
     "output_type": "stream",
     "text": [
      "alphabet : \u0000*ABCDEFGHIJKLMNOPQRSTUVWXYZ\n",
      "|  Compiling  : 0.63 s  |\n"
     ]
    }
   ],
   "source": [
    "# Choose an minimal set of letters that the FheSeq will be able to contain\n",
    "# This is called an alphabet\n",
    "alphabet = Alphabets.PROTEINS # we need to be able to encode all possible DNA and PROTEINS letters\n",
    "\n",
    "print(\"alphabet :\", alphabet)\n",
    "\n",
    "# Create a SeqInterface object that will generate the FheSeq objects within the BioCircuit\n",
    "seq_interface = SeqInterface(alphabet)\n",
    "\n",
    "# prepare the compiler configuration\n",
    "configuration=fhe.Configuration(\n",
    "    enable_unsafe_features=True,\n",
    "    use_insecure_key_cache=True,\n",
    "    insecure_key_cache_location=\".keys\",\n",
    "    dataflow_parallelize=False,\n",
    ")\n",
    "\n",
    "# Create a BioCircuit wrapped circuit using the process_seq function, the encryption,\n",
    "# a list of the lengths of the sequences that we will process, and the fhe configuration\n",
    "# along with any other named compiler arguments\n",
    "circuit = BioCircuit(\n",
    "    function=process_seq,\n",
    "    len_seqs=[len(seq1), len(seq2)],\n",
    "    seq_interface=seq_interface,\n",
    "    configuration=configuration,\n",
    "    seq_output=True, # tell that the output is a sequence object\n",
    "    show_timing=True, # whether to display timings or not\n",
    "    # any other concrete compiler arguments;\n",
    "    verbose=False\n",
    ")"
   ]
  },
  {
   "cell_type": "markdown",
   "metadata": {},
   "source": [
    "The function **process_seq** has been compiled for FHE, and it has been wrapped so that <span style=\"color:green\">**Seq**</span> objects in input to the circuit will be first converted to encrypted <span style=\"color:orange\">**FheMutableSeq**</span> objects  before being passed to the function. The output sequence of the function is also a <span style=\"color:orange\">**FheMutableSeq**</span> object, so we specified `seq_output=True` so that it gets converted back to a <span style=\"color:green\">**Seq**</span> object after decryption."
   ]
  },
  {
   "cell_type": "code",
   "execution_count": 5,
   "metadata": {},
   "outputs": [
    {
     "name": "stdout",
     "output_type": "stream",
     "text": [
      "|  Encrypting  : 0.19 s  |\n",
      "|  Running  : 0.86 s  |\n",
      "|  Decrypting  : 0.00 s  |\n"
     ]
    },
    {
     "data": {
      "text/plain": [
       "Seq('VPGR')"
      ]
     },
     "execution_count": 5,
     "metadata": {},
     "output_type": "execute_result"
    }
   ],
   "source": [
    "# Note than encrypt_run_decrypt takes a list of sequence along with a boolean show_timing\n",
    "circuit.encrypt_run_decrypt(seq1, seq2)"
   ]
  },
  {
   "cell_type": "markdown",
   "metadata": {},
   "source": [
    "Now, try to use a bigger **aphabet**, such as `Alphabets.ASCII`, and see the computational time difference."
   ]
  },
  {
   "cell_type": "markdown",
   "metadata": {},
   "source": [
    "## III. Making a circuit without the BioCircuit class\n",
    "\n",
    "You know enough now to make circuits for processing sequences. However, if you want to create a circuit taking both sequence and integer arrays as inputs, you can follow this section of the tutorial. Indeed, in this scenario, you cannot use the <span style=\"color:purple\">**BioCircuit**</span> class because it only supports sequence inputs.  \n",
    "\n",
    "We will need to use the class <span style=\"color:#5CC8FF\">**SeqInterface**</span> which is used to interface <span style=\"color:green\">**Seq**</span> objects from outside the circuit to <span style=\"color:orange\">**FheSeq**</span> objects inside it at encryption, and the other way around at decryption.  \n",
    "\n",
    "We will first do the exact same circuit for the example, but without using the <span style=\"color:purple\">**BioCircuit**</span>, to show how it can be done. Then we will discuss how such a circuit could take other types of inputs than sequences, such as integer arrays.  \n",
    "\n",
    "To make the same circuit as in the previous section, but without using the <span style=\"color:purple\">**BioCircuit**</span> class, we will need additional work to go from <span style=\"color:green\">**Seq**</span> and a <span style=\"color:green\">**MutableSeq**</span> objects to <span style=\"color:orange\">**FheSeq**</span> and <span style=\"color:orange\">**FheMutableSeq**</span> objects, following the steps below:\n",
    "1. Convert <span style=\"color:green\">**Seq**</span>  and a <span style=\"color:green\">**MutableSeq**</span>  objects to integer arrays with <span style=\"color:#5CC8FF\">**SeqInterface**</span>**.to_integers**\n",
    "2. Encrypt the integer arrays (this is done within the `circuit.encrypt_run_decrypt` function)\n",
    "3. Create <span style=\"color:orange\">**FheSeq**</span>  and a <span style=\"color:orange\">**FheMutableSeq**</span>  objects from the encrypted integer arrays inside the circuit using <span style=\"color:#5CC8FF\">**SeqInterface**</span>**.FheSeq** and <span style=\"color:#5CC8FF\">**SeqInterface**</span>**.FheMutableSeq**\n",
    "4. Call our function **process_seq** homomorphically on the FHE sequence objects\n",
    "5. Convert back the output from a <span style=\"color:orange\">**FheSeq**</span>  to an encrypted array with <span style=\"color:orange\">**FheSeq**</span>**.to_array**\n",
    "6. Decrypt the encrypted output array (again done within the `circuit.encrypt_run_decrypt` function)\n",
    "7. Convert the array back to a <span style=\"color:green\">**Seq**</span> object using <span style=\"color:#5CC8FF\">**SeqInterface**</span>**.to_Seq**\n",
    "\n",
    "<div>\n",
    "<img src=\"https://rcd-media.com/docs/fhe/diagram2.jpg\" width=\"650\"/>\n",
    "</div>\n",
    "\n",
    "\n",
    "### Factorization\n",
    "For steps **1**, **2**, **6** and **7**, we can create a circuit wrapper to do the Seq to integer and integer to Seq conversions in a FHE-compatible way :"
   ]
  },
  {
   "cell_type": "code",
   "execution_count": 6,
   "metadata": {},
   "outputs": [],
   "source": [
    "# wrap a fhe circuit in order to input and output Bio.Seq objects.\n",
    "def circuit_wrapper(circuit, seq1, seq2, simulate=False):\n",
    "    # convert Seq objects to integers with seq_interface.to_integers\n",
    "    integers1 = seq_interface.to_integers(seq1)\n",
    "    integers2 = seq_interface.to_integers(seq2)\n",
    "    \n",
    "    # run the circuit with integer inputs\n",
    "    integer_output = circuit.simulate(integers1, integers2) if simulate else circuit.encrypt_run_decrypt(integers1, integers2)\n",
    "\n",
    "    # convert back the integer outputs into a Seq objects with seq_interface.toSeq\n",
    "    return seq_interface.array_to_seq(integer_output)"
   ]
  },
  {
   "cell_type": "markdown",
   "metadata": {},
   "source": [
    "For steps **3** and **5**, we can create an adapter function that will be the circuit's main function. This function will create <span style=\"color:orange\">**FheSeq**</span>  and <span style=\"color:orange\">**FheMutableSeq**</span>  objects for the function **process_seq** to process homomorphically. Then it will convert back the <span style=\"color:orange\">**FheSeq**</span>  output into an encrypted integer array that the circuit can decrypt."
   ]
  },
  {
   "cell_type": "code",
   "execution_count": 7,
   "metadata": {},
   "outputs": [],
   "source": [
    "def process_seq_adapter(integer_seq1, integer_seq2):\n",
    "    \n",
    "    # convert integer sequences into FheSeq and FheMutableSeq objects\n",
    "    seq1=seq_interface.FheSeq(integer_seq1)\n",
    "    seq2=seq_interface.FheMutableSeq(integer_seq2)\n",
    "    \n",
    "    # process the sequence objects with our function\n",
    "    new_seq = process_seq(seq1, seq2)\n",
    "    \n",
    "    # return the new sequence as integer array\n",
    "    return new_seq.to_array()"
   ]
  },
  {
   "cell_type": "markdown",
   "metadata": {},
   "source": [
    "For step **4**, let's make the circuit from **process_seq_adapter** function, and create a correct inputset taking into account the number of possible letters with **seq_interface.max_integer()** and the size of input sequences with **len(seq1)** and **len(seq2)**:"
   ]
  },
  {
   "cell_type": "code",
   "execution_count": 8,
   "metadata": {},
   "outputs": [],
   "source": [
    "# compile the process_seq_adapter function and create a circuit\n",
    "compiler = fhe.Compiler(lambda data1,data2: process_seq_adapter(data1, data2), {\"data1\": \"encrypted\", \"data2\": \"encrypted\"})\n",
    "circuit = compiler.compile(\n",
    "    inputset=[\n",
    "    (np.random.randint(0, seq_interface.max_integer()+1, size=(len(seq1),)),\n",
    "    np.random.randint(0, seq_interface.max_integer()+1, size=(len(seq2),)))\n",
    "    for _ in range(100)\n",
    "    ],\n",
    "    configuration=fhe.Configuration(\n",
    "        enable_unsafe_features=True,\n",
    "        use_insecure_key_cache=True,\n",
    "        insecure_key_cache_location=\".keys\",\n",
    "        dataflow_parallelize=False, # setting it to True makes the jupyter kernel crash\n",
    "    ),\n",
    "    verbose=False,\n",
    ")"
   ]
  },
  {
   "cell_type": "markdown",
   "metadata": {},
   "source": [
    "### Execution \n",
    "\n",
    "We can now run our wrapped circuit on the variables **seq1** and **seq2** defined earlier and compare the output sequence with the one obtained earlier:"
   ]
  },
  {
   "cell_type": "code",
   "execution_count": 9,
   "metadata": {},
   "outputs": [
    {
     "name": "stdout",
     "output_type": "stream",
     "text": [
      "Simulated : VPGR\n",
      "FHE : VPGR\n"
     ]
    }
   ],
   "source": [
    "# now we can run our circuit on Seq objects and compare the result with output_seq\n",
    "\n",
    "# with simulation\n",
    "fheSim_output_seq = circuit_wrapper(circuit, seq1, seq2, True)\n",
    "print('Simulated :', fheSim_output_seq)\n",
    "assert(output_seq == fheSim_output_seq)\n",
    "\n",
    "# and without (slower)\n",
    "fhe_output_seq = circuit_wrapper(circuit, seq1, seq2, False)\n",
    "print('FHE :', fhe_output_seq)\n",
    "assert(output_seq == fhe_output_seq)"
   ]
  },
  {
   "cell_type": "markdown",
   "metadata": {},
   "source": [
    "### Introducing other types of inputs\n",
    "\n",
    "Now that we have seen how to make the same circuit without using the <span style=\"color:purple\">**BioCircuit**</span>, we can slightly modify it so as to replace the second sequence by a regular integer array. For instance, we can modify it this way:"
   ]
  },
  {
   "cell_type": "code",
   "execution_count": 10,
   "metadata": {},
   "outputs": [
    {
     "name": "stdout",
     "output_type": "stream",
     "text": [
      "FHE : True\n"
     ]
    }
   ],
   "source": [
    "# some function processing a sequence and an integer array\n",
    "def process_seq(seq1, array2):\n",
    "    return len(seq1) == np.sum(array2)\n",
    "    \n",
    "# wrap a fhe circuit in order to input a Bio.Seq object along with an integer array\n",
    "# output either an array or a Seq object\n",
    "def circuit_wrapper(circuit, seq1, array2, seq_output= False, simulate=False):\n",
    "    # convert Seq objects to integers with seq_interface.to_integers\n",
    "    integers1 = seq_interface.to_integers(seq1)\n",
    "    \n",
    "    # run the circuit with integer inputs\n",
    "    output = circuit.simulate(integers1, array2) if simulate else circuit.encrypt_run_decrypt(integers1, array2)\n",
    "    \n",
    "    if seq_output:\n",
    "        # convert to Seq if required\n",
    "        output = seq_interface.array_to_seq(output)\n",
    "\n",
    "    return output\n",
    "\n",
    "def process_seq_adapter(integer_seq1, integers2):    \n",
    "    # convert the first integer sequence into a FheSeq\n",
    "    seq1=seq_interface.FheSeq(integer_seq1)\n",
    "    \n",
    "    # process the sequence object and array with our function\n",
    "    output = process_seq(seq1, integers2)\n",
    "    \n",
    "    # convert back to array if the output is a FheSeq or FheMutableSeq\n",
    "    if isinstance(output, FheSeq) or isinstance(output, FheMutableSeq):\n",
    "        output = output.to_array()\n",
    "        \n",
    "    return output\n",
    "\n",
    "min_int = 0 # the minimum possible value for the integer array\n",
    "max_int = 1 # the maximum possible value for the integer array\n",
    "\n",
    "seq1 = Seq('ACCAGG')\n",
    "array2 = np.array([0,1,1,0,1,0,0,1,1,1]) # some numpy array with values between min_int and max_int\n",
    "\n",
    "# compile the process_seq_adapter function and create a circuit\n",
    "compiler = fhe.Compiler(lambda data1,data2: process_seq_adapter(data1, data2), {\"data1\": \"encrypted\", \"data2\": \"encrypted\"})\n",
    "circuit = compiler.compile(\n",
    "    inputset=[\n",
    "    (np.random.randint(0, seq_interface.max_integer()+1, size=(len(seq1),)),\n",
    "    np.random.randint(min_int, max_int+1, size=(len(array2,))))\n",
    "    for _ in range(100)\n",
    "    ],\n",
    "    configuration=fhe.Configuration(\n",
    "        enable_unsafe_features=True,\n",
    "        use_insecure_key_cache=True,\n",
    "        insecure_key_cache_location=\".keys\",\n",
    "        dataflow_parallelize=False, # setting it to True makes the jupyter kernel crash\n",
    "    ),\n",
    "    verbose=False,\n",
    ")\n",
    "\n",
    "seq_output = False # a boolean to know whether the output should be converted to a Seq\n",
    "\n",
    "# run the circuit\n",
    "fhe_output = circuit_wrapper(circuit, seq1, array2, seq_output, simulate=False)\n",
    "print('FHE :', bool(fhe_output))"
   ]
  },
  {
   "cell_type": "markdown",
   "metadata": {},
   "source": [
    "### Going further\n",
    "\n",
    "In a real world application, the data could be sent to a distant server for processing. In this scenario, the DNA sequences in input could be private data. To keep the DNA private, the code structure could be changed as bellow, using an **evaluation** and **private** keys encryption set up:\n",
    "1. Convert DNA sequences to integer arrays\n",
    "2. Encrypt the sequences locally with `circuit.encrypt` with the **private key**\n",
    "3. Send the encrypted sequences and the **evaluation key** to the distant server\n",
    "4. Run the circuit on the server with `circuit.run` and the **evaluation key**\n",
    "5. Send back the output sequence from the server\n",
    "6. Decrypt the output array locally with `circuit.decrypt` and the **private key**\n",
    "7. Convert back the decrypted array to a sequence object"
   ]
  }
 ],
 "metadata": {
  "kernelspec": {
   "display_name": "concrete-biopython",
   "language": "python",
   "name": "concrete-biopython"
  },
  "language_info": {
   "codemirror_mode": {
    "name": "ipython",
    "version": 3
   },
   "file_extension": ".py",
   "mimetype": "text/x-python",
   "name": "python",
   "nbconvert_exporter": "python",
   "pygments_lexer": "ipython3",
   "version": "3.10.11"
  }
 },
 "nbformat": 4,
 "nbformat_minor": 4
}
